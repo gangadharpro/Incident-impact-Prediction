{
 "cells": [
  {
   "cell_type": "markdown",
   "metadata": {
    "id": "GnLWlvHHfn7Q"
   },
   "source": [
    "To predict the impact of the incident raised by the customer."
   ]
  },
  {
   "cell_type": "code",
   "execution_count": 1,
   "metadata": {
    "executionInfo": {
     "elapsed": 611,
     "status": "ok",
     "timestamp": 1628681610272,
     "user": {
      "displayName": "sagar nagpal",
      "photoUrl": "https://lh3.googleusercontent.com/a-/AOh14GjDIuXJgSm71Ctdbko-AeQitxK-wq1j4-SXkuxktA=s64",
      "userId": "03790130100156359022"
     },
     "user_tz": -330
    },
    "id": "f2ENRbOSrc5g"
   },
   "outputs": [],
   "source": [
    "import numpy as np\n",
    "import pandas as pd\n",
    "import matplotlib.pyplot as plt\n",
    "import seaborn as sns\n",
    "import warnings"
   ]
  },
  {
   "cell_type": "markdown",
   "metadata": {
    "id": "1QmIhciyjOmL"
   },
   "source": [
    "## Using \"incident_event_log.csv\""
   ]
  },
  {
   "cell_type": "code",
   "execution_count": 2,
   "metadata": {
    "executionInfo": {
     "elapsed": 1300,
     "status": "ok",
     "timestamp": 1628681613059,
     "user": {
      "displayName": "sagar nagpal",
      "photoUrl": "https://lh3.googleusercontent.com/a-/AOh14GjDIuXJgSm71Ctdbko-AeQitxK-wq1j4-SXkuxktA=s64",
      "userId": "03790130100156359022"
     },
     "user_tz": -330
    },
    "id": "r4ratIxitaVT"
   },
   "outputs": [],
   "source": [
    "data=pd.read_csv(\"G:\\EXCEL R PROJECT\\incident_event_log.csv\")"
   ]
  },
  {
   "cell_type": "code",
   "execution_count": 3,
   "metadata": {
    "colab": {
     "base_uri": "https://localhost:8080/",
     "height": 301
    },
    "executionInfo": {
     "elapsed": 205,
     "status": "ok",
     "timestamp": 1628681613075,
     "user": {
      "displayName": "sagar nagpal",
      "photoUrl": "https://lh3.googleusercontent.com/a-/AOh14GjDIuXJgSm71Ctdbko-AeQitxK-wq1j4-SXkuxktA=s64",
      "userId": "03790130100156359022"
     },
     "user_tz": -330
    },
    "id": "VUR-zcbqi3o1",
    "outputId": "6bb25a5d-e4d2-4c27-ae9d-2b5f1ce599ea"
   },
   "outputs": [
    {
     "data": {
      "text/html": [
       "<div>\n",
       "<style scoped>\n",
       "    .dataframe tbody tr th:only-of-type {\n",
       "        vertical-align: middle;\n",
       "    }\n",
       "\n",
       "    .dataframe tbody tr th {\n",
       "        vertical-align: top;\n",
       "    }\n",
       "\n",
       "    .dataframe thead th {\n",
       "        text-align: right;\n",
       "    }\n",
       "</style>\n",
       "<table border=\"1\" class=\"dataframe\">\n",
       "  <thead>\n",
       "    <tr style=\"text-align: right;\">\n",
       "      <th></th>\n",
       "      <th>number</th>\n",
       "      <th>incident_state</th>\n",
       "      <th>active</th>\n",
       "      <th>reassignment_count</th>\n",
       "      <th>reopen_count</th>\n",
       "      <th>sys_mod_count</th>\n",
       "      <th>made_sla</th>\n",
       "      <th>caller_id</th>\n",
       "      <th>opened_by</th>\n",
       "      <th>opened_at</th>\n",
       "      <th>...</th>\n",
       "      <th>u_priority_confirmation</th>\n",
       "      <th>notify</th>\n",
       "      <th>problem_id</th>\n",
       "      <th>rfc</th>\n",
       "      <th>vendor</th>\n",
       "      <th>caused_by</th>\n",
       "      <th>closed_code</th>\n",
       "      <th>resolved_by</th>\n",
       "      <th>resolved_at</th>\n",
       "      <th>closed_at</th>\n",
       "    </tr>\n",
       "  </thead>\n",
       "  <tbody>\n",
       "    <tr>\n",
       "      <th>0</th>\n",
       "      <td>INC0000045</td>\n",
       "      <td>New</td>\n",
       "      <td>True</td>\n",
       "      <td>0</td>\n",
       "      <td>0</td>\n",
       "      <td>0</td>\n",
       "      <td>True</td>\n",
       "      <td>Caller 2403</td>\n",
       "      <td>Opened by  8</td>\n",
       "      <td>29/2/2016 01:16</td>\n",
       "      <td>...</td>\n",
       "      <td>False</td>\n",
       "      <td>Do Not Notify</td>\n",
       "      <td>?</td>\n",
       "      <td>?</td>\n",
       "      <td>?</td>\n",
       "      <td>?</td>\n",
       "      <td>code 5</td>\n",
       "      <td>Resolved by 149</td>\n",
       "      <td>29/2/2016 11:29</td>\n",
       "      <td>5/3/2016 12:00</td>\n",
       "    </tr>\n",
       "    <tr>\n",
       "      <th>1</th>\n",
       "      <td>INC0000045</td>\n",
       "      <td>Resolved</td>\n",
       "      <td>True</td>\n",
       "      <td>0</td>\n",
       "      <td>0</td>\n",
       "      <td>2</td>\n",
       "      <td>True</td>\n",
       "      <td>Caller 2403</td>\n",
       "      <td>Opened by  8</td>\n",
       "      <td>29/2/2016 01:16</td>\n",
       "      <td>...</td>\n",
       "      <td>False</td>\n",
       "      <td>Do Not Notify</td>\n",
       "      <td>?</td>\n",
       "      <td>?</td>\n",
       "      <td>?</td>\n",
       "      <td>?</td>\n",
       "      <td>code 5</td>\n",
       "      <td>Resolved by 149</td>\n",
       "      <td>29/2/2016 11:29</td>\n",
       "      <td>5/3/2016 12:00</td>\n",
       "    </tr>\n",
       "    <tr>\n",
       "      <th>2</th>\n",
       "      <td>INC0000045</td>\n",
       "      <td>Resolved</td>\n",
       "      <td>True</td>\n",
       "      <td>0</td>\n",
       "      <td>0</td>\n",
       "      <td>3</td>\n",
       "      <td>True</td>\n",
       "      <td>Caller 2403</td>\n",
       "      <td>Opened by  8</td>\n",
       "      <td>29/2/2016 01:16</td>\n",
       "      <td>...</td>\n",
       "      <td>False</td>\n",
       "      <td>Do Not Notify</td>\n",
       "      <td>?</td>\n",
       "      <td>?</td>\n",
       "      <td>?</td>\n",
       "      <td>?</td>\n",
       "      <td>code 5</td>\n",
       "      <td>Resolved by 149</td>\n",
       "      <td>29/2/2016 11:29</td>\n",
       "      <td>5/3/2016 12:00</td>\n",
       "    </tr>\n",
       "    <tr>\n",
       "      <th>3</th>\n",
       "      <td>INC0000045</td>\n",
       "      <td>Closed</td>\n",
       "      <td>False</td>\n",
       "      <td>0</td>\n",
       "      <td>0</td>\n",
       "      <td>4</td>\n",
       "      <td>True</td>\n",
       "      <td>Caller 2403</td>\n",
       "      <td>Opened by  8</td>\n",
       "      <td>29/2/2016 01:16</td>\n",
       "      <td>...</td>\n",
       "      <td>False</td>\n",
       "      <td>Do Not Notify</td>\n",
       "      <td>?</td>\n",
       "      <td>?</td>\n",
       "      <td>?</td>\n",
       "      <td>?</td>\n",
       "      <td>code 5</td>\n",
       "      <td>Resolved by 149</td>\n",
       "      <td>29/2/2016 11:29</td>\n",
       "      <td>5/3/2016 12:00</td>\n",
       "    </tr>\n",
       "    <tr>\n",
       "      <th>4</th>\n",
       "      <td>INC0000047</td>\n",
       "      <td>New</td>\n",
       "      <td>True</td>\n",
       "      <td>0</td>\n",
       "      <td>0</td>\n",
       "      <td>0</td>\n",
       "      <td>True</td>\n",
       "      <td>Caller 2403</td>\n",
       "      <td>Opened by  397</td>\n",
       "      <td>29/2/2016 04:40</td>\n",
       "      <td>...</td>\n",
       "      <td>False</td>\n",
       "      <td>Do Not Notify</td>\n",
       "      <td>?</td>\n",
       "      <td>?</td>\n",
       "      <td>?</td>\n",
       "      <td>?</td>\n",
       "      <td>code 5</td>\n",
       "      <td>Resolved by 81</td>\n",
       "      <td>1/3/2016 09:52</td>\n",
       "      <td>6/3/2016 10:00</td>\n",
       "    </tr>\n",
       "  </tbody>\n",
       "</table>\n",
       "<p>5 rows × 36 columns</p>\n",
       "</div>"
      ],
      "text/plain": [
       "       number incident_state  active  reassignment_count  reopen_count  \\\n",
       "0  INC0000045            New    True                   0             0   \n",
       "1  INC0000045       Resolved    True                   0             0   \n",
       "2  INC0000045       Resolved    True                   0             0   \n",
       "3  INC0000045         Closed   False                   0             0   \n",
       "4  INC0000047            New    True                   0             0   \n",
       "\n",
       "   sys_mod_count  made_sla    caller_id       opened_by        opened_at  ...  \\\n",
       "0              0      True  Caller 2403    Opened by  8  29/2/2016 01:16  ...   \n",
       "1              2      True  Caller 2403    Opened by  8  29/2/2016 01:16  ...   \n",
       "2              3      True  Caller 2403    Opened by  8  29/2/2016 01:16  ...   \n",
       "3              4      True  Caller 2403    Opened by  8  29/2/2016 01:16  ...   \n",
       "4              0      True  Caller 2403  Opened by  397  29/2/2016 04:40  ...   \n",
       "\n",
       "  u_priority_confirmation         notify problem_id rfc vendor caused_by  \\\n",
       "0                   False  Do Not Notify          ?   ?      ?         ?   \n",
       "1                   False  Do Not Notify          ?   ?      ?         ?   \n",
       "2                   False  Do Not Notify          ?   ?      ?         ?   \n",
       "3                   False  Do Not Notify          ?   ?      ?         ?   \n",
       "4                   False  Do Not Notify          ?   ?      ?         ?   \n",
       "\n",
       "  closed_code      resolved_by      resolved_at       closed_at  \n",
       "0      code 5  Resolved by 149  29/2/2016 11:29  5/3/2016 12:00  \n",
       "1      code 5  Resolved by 149  29/2/2016 11:29  5/3/2016 12:00  \n",
       "2      code 5  Resolved by 149  29/2/2016 11:29  5/3/2016 12:00  \n",
       "3      code 5  Resolved by 149  29/2/2016 11:29  5/3/2016 12:00  \n",
       "4      code 5   Resolved by 81   1/3/2016 09:52  6/3/2016 10:00  \n",
       "\n",
       "[5 rows x 36 columns]"
      ]
     },
     "execution_count": 3,
     "metadata": {},
     "output_type": "execute_result"
    }
   ],
   "source": [
    "data.head()"
   ]
  },
  {
   "cell_type": "code",
   "execution_count": 4,
   "metadata": {
    "colab": {
     "base_uri": "https://localhost:8080/"
    },
    "executionInfo": {
     "elapsed": 206,
     "status": "ok",
     "timestamp": 1628681613096,
     "user": {
      "displayName": "sagar nagpal",
      "photoUrl": "https://lh3.googleusercontent.com/a-/AOh14GjDIuXJgSm71Ctdbko-AeQitxK-wq1j4-SXkuxktA=s64",
      "userId": "03790130100156359022"
     },
     "user_tz": -330
    },
    "id": "OgxfwJU6nVWn",
    "outputId": "58ed465f-ddfc-42eb-f89f-d0f8eeda93d3"
   },
   "outputs": [
    {
     "data": {
      "text/plain": [
       "(141712, 36)"
      ]
     },
     "execution_count": 4,
     "metadata": {},
     "output_type": "execute_result"
    }
   ],
   "source": [
    "data.shape"
   ]
  },
  {
   "cell_type": "markdown",
   "metadata": {
    "id": "aVYfNL0akV2c"
   },
   "source": [
    "# Exploratory Data Analysis-(EDA)"
   ]
  },
  {
   "cell_type": "code",
   "execution_count": 5,
   "metadata": {
    "executionInfo": {
     "elapsed": 133,
     "status": "ok",
     "timestamp": 1628681613112,
     "user": {
      "displayName": "sagar nagpal",
      "photoUrl": "https://lh3.googleusercontent.com/a-/AOh14GjDIuXJgSm71Ctdbko-AeQitxK-wq1j4-SXkuxktA=s64",
      "userId": "03790130100156359022"
     },
     "user_tz": -330
    },
    "id": "XqOoOunfj9m_"
   },
   "outputs": [],
   "source": [
    "# Finding unknown values and replacing it with null values.\n",
    "data.replace('?', np.nan, inplace=True)"
   ]
  },
  {
   "cell_type": "code",
   "execution_count": 6,
   "metadata": {
    "executionInfo": {
     "elapsed": 132,
     "status": "ok",
     "timestamp": 1628681613118,
     "user": {
      "displayName": "sagar nagpal",
      "photoUrl": "https://lh3.googleusercontent.com/a-/AOh14GjDIuXJgSm71Ctdbko-AeQitxK-wq1j4-SXkuxktA=s64",
      "userId": "03790130100156359022"
     },
     "user_tz": -330
    },
    "id": "LM8w9UNukClp"
   },
   "outputs": [],
   "source": [
    "warnings.filterwarnings(\"ignore\")"
   ]
  },
  {
   "cell_type": "markdown",
   "metadata": {
    "id": "LITWEBxfkwUA"
   },
   "source": [
    "#### Considering only those columns which are having less than 50,000 null values and droping those which are having more than 40% of null values in single row.\n"
   ]
  },
  {
   "cell_type": "code",
   "execution_count": 7,
   "metadata": {
    "executionInfo": {
     "elapsed": 1285,
     "status": "ok",
     "timestamp": 1628681614280,
     "user": {
      "displayName": "sagar nagpal",
      "photoUrl": "https://lh3.googleusercontent.com/a-/AOh14GjDIuXJgSm71Ctdbko-AeQitxK-wq1j4-SXkuxktA=s64",
      "userId": "03790130100156359022"
     },
     "user_tz": -330
    },
    "id": "zqLznDklkGsx"
   },
   "outputs": [],
   "source": [
    "data=data[data.columns[data.isna().sum() < 50000]]"
   ]
  },
  {
   "cell_type": "markdown",
   "metadata": {
    "id": "5z4ukpeEoKbj"
   },
   "source": [
    "There are 29 features after eliminating the features which are having more than 50,000 null values.\n",
    "\n",
    "---\n",
    "\n",
    "\n",
    "40% * 29 == 11\n"
   ]
  },
  {
   "cell_type": "code",
   "execution_count": 8,
   "metadata": {
    "executionInfo": {
     "elapsed": 100,
     "status": "ok",
     "timestamp": 1628681614283,
     "user": {
      "displayName": "sagar nagpal",
      "photoUrl": "https://lh3.googleusercontent.com/a-/AOh14GjDIuXJgSm71Ctdbko-AeQitxK-wq1j4-SXkuxktA=s64",
      "userId": "03790130100156359022"
     },
     "user_tz": -330
    },
    "id": "qzB_L6IjkIGQ"
   },
   "outputs": [],
   "source": [
    "df = data[(data.isna().sum(axis=1) <11)]"
   ]
  },
  {
   "cell_type": "code",
   "execution_count": 9,
   "metadata": {
    "colab": {
     "base_uri": "https://localhost:8080/"
    },
    "executionInfo": {
     "elapsed": 97,
     "status": "ok",
     "timestamp": 1628681614285,
     "user": {
      "displayName": "sagar nagpal",
      "photoUrl": "https://lh3.googleusercontent.com/a-/AOh14GjDIuXJgSm71Ctdbko-AeQitxK-wq1j4-SXkuxktA=s64",
      "userId": "03790130100156359022"
     },
     "user_tz": -330
    },
    "id": "M3b3VbO2kLHq",
    "outputId": "b8f4da14-5567-4500-fece-e5a6504c8aa2"
   },
   "outputs": [
    {
     "data": {
      "text/plain": [
       "Index(['number', 'incident_state', 'active', 'reassignment_count',\n",
       "       'reopen_count', 'sys_mod_count', 'made_sla', 'caller_id', 'opened_by',\n",
       "       'opened_at', 'sys_updated_by', 'sys_updated_at', 'contact_type',\n",
       "       'location', 'category', 'subcategory', 'u_symptom', 'impact', 'urgency',\n",
       "       'priority', 'assignment_group', 'assigned_to', 'knowledge',\n",
       "       'u_priority_confirmation', 'notify', 'closed_code', 'resolved_by',\n",
       "       'resolved_at', 'closed_at'],\n",
       "      dtype='object')"
      ]
     },
     "execution_count": 9,
     "metadata": {},
     "output_type": "execute_result"
    }
   ],
   "source": [
    "column_names = df.columns\n",
    "column_names"
   ]
  },
  {
   "cell_type": "code",
   "execution_count": 10,
   "metadata": {
    "colab": {
     "base_uri": "https://localhost:8080/"
    },
    "executionInfo": {
     "elapsed": 55,
     "status": "ok",
     "timestamp": 1628681614288,
     "user": {
      "displayName": "sagar nagpal",
      "photoUrl": "https://lh3.googleusercontent.com/a-/AOh14GjDIuXJgSm71Ctdbko-AeQitxK-wq1j4-SXkuxktA=s64",
      "userId": "03790130100156359022"
     },
     "user_tz": -330
    },
    "id": "lpy8qWARozYx",
    "outputId": "9ea026ba-2521-451f-cbeb-7ffa55346ec8"
   },
   "outputs": [
    {
     "name": "stdout",
     "output_type": "stream",
     "text": [
      "<class 'pandas.core.frame.DataFrame'>\n",
      "Int64Index: 141712 entries, 0 to 141711\n",
      "Data columns (total 29 columns):\n",
      " #   Column                   Non-Null Count   Dtype \n",
      "---  ------                   --------------   ----- \n",
      " 0   number                   141712 non-null  object\n",
      " 1   incident_state           141712 non-null  object\n",
      " 2   active                   141712 non-null  bool  \n",
      " 3   reassignment_count       141712 non-null  int64 \n",
      " 4   reopen_count             141712 non-null  int64 \n",
      " 5   sys_mod_count            141712 non-null  int64 \n",
      " 6   made_sla                 141712 non-null  bool  \n",
      " 7   caller_id                141683 non-null  object\n",
      " 8   opened_by                136877 non-null  object\n",
      " 9   opened_at                141712 non-null  object\n",
      " 10  sys_updated_by           141712 non-null  object\n",
      " 11  sys_updated_at           141712 non-null  object\n",
      " 12  contact_type             141712 non-null  object\n",
      " 13  location                 141636 non-null  object\n",
      " 14  category                 141634 non-null  object\n",
      " 15  subcategory              141601 non-null  object\n",
      " 16  u_symptom                108748 non-null  object\n",
      " 17  impact                   141712 non-null  object\n",
      " 18  urgency                  141712 non-null  object\n",
      " 19  priority                 141712 non-null  object\n",
      " 20  assignment_group         127499 non-null  object\n",
      " 21  assigned_to              114216 non-null  object\n",
      " 22  knowledge                141712 non-null  bool  \n",
      " 23  u_priority_confirmation  141712 non-null  bool  \n",
      " 24  notify                   141712 non-null  object\n",
      " 25  closed_code              140998 non-null  object\n",
      " 26  resolved_by              141486 non-null  object\n",
      " 27  resolved_at              138571 non-null  object\n",
      " 28  closed_at                141712 non-null  object\n",
      "dtypes: bool(4), int64(3), object(22)\n",
      "memory usage: 28.7+ MB\n"
     ]
    }
   ],
   "source": [
    "df.info()"
   ]
  },
  {
   "cell_type": "markdown",
   "metadata": {
    "id": "8bSkhYxLpPyo"
   },
   "source": [
    "### We can see in above info our data that are showing three types of data but as  you can see Boolean and Count also considered as a categorical."
   ]
  },
  {
   "cell_type": "code",
   "execution_count": 11,
   "metadata": {
    "colab": {
     "base_uri": "https://localhost:8080/"
    },
    "executionInfo": {
     "elapsed": 760,
     "status": "ok",
     "timestamp": 1628681615027,
     "user": {
      "displayName": "sagar nagpal",
      "photoUrl": "https://lh3.googleusercontent.com/a-/AOh14GjDIuXJgSm71Ctdbko-AeQitxK-wq1j4-SXkuxktA=s64",
      "userId": "03790130100156359022"
     },
     "user_tz": -330
    },
    "id": "lvODZdtCkS62",
    "outputId": "cb7a5b29-da56-4e2e-d552-884ce4fa0025"
   },
   "outputs": [
    {
     "data": {
      "text/plain": [
       "number                         0\n",
       "incident_state                 0\n",
       "active                         0\n",
       "reassignment_count             0\n",
       "reopen_count                   0\n",
       "sys_mod_count                  0\n",
       "made_sla                       0\n",
       "caller_id                     29\n",
       "opened_by                   4835\n",
       "opened_at                      0\n",
       "sys_updated_by                 0\n",
       "sys_updated_at                 0\n",
       "contact_type                   0\n",
       "location                      76\n",
       "category                      78\n",
       "subcategory                  111\n",
       "u_symptom                  32964\n",
       "impact                         0\n",
       "urgency                        0\n",
       "priority                       0\n",
       "assignment_group           14213\n",
       "assigned_to                27496\n",
       "knowledge                      0\n",
       "u_priority_confirmation        0\n",
       "notify                         0\n",
       "closed_code                  714\n",
       "resolved_by                  226\n",
       "resolved_at                 3141\n",
       "closed_at                      0\n",
       "dtype: int64"
      ]
     },
     "execution_count": 11,
     "metadata": {},
     "output_type": "execute_result"
    }
   ],
   "source": [
    "# Checking null values\n",
    "df.isna().sum()"
   ]
  },
  {
   "cell_type": "code",
   "execution_count": 12,
   "metadata": {
    "colab": {
     "base_uri": "https://localhost:8080/",
     "height": 592
    },
    "executionInfo": {
     "elapsed": 4705,
     "status": "ok",
     "timestamp": 1628681619718,
     "user": {
      "displayName": "sagar nagpal",
      "photoUrl": "https://lh3.googleusercontent.com/a-/AOh14GjDIuXJgSm71Ctdbko-AeQitxK-wq1j4-SXkuxktA=s64",
      "userId": "03790130100156359022"
     },
     "user_tz": -330
    },
    "id": "zkBNUEDQkQUE",
    "outputId": "0b6cde9c-4aa3-43c9-f0b8-51efd770626e"
   },
   "outputs": [
    {
     "data": {
      "image/png": "[encoded data removed]",
      "text/plain": [
       "<Figure size 1440x576 with 1 Axes>"
      ]
     },
     "metadata": {
      "needs_background": "light"
     },
     "output_type": "display_data"
    }
   ],
   "source": [
    "plt.figure(figsize=(20,8))\n",
    "sns.heatmap(df.isnull(), cbar=False);\n",
    "plt.show()"
   ]
  },
  {
   "cell_type": "markdown",
   "metadata": {
    "id": "EUdMdgoWmoCU"
   },
   "source": [
    "# Treatment of Null values"
   ]
  },
  {
   "cell_type": "markdown",
   "metadata": {
    "id": "bjzfRo9qpsYu"
   },
   "source": [
    "We are replacing null values with unique category which is not in column of given data."
   ]
  },
  {
   "cell_type": "code",
   "execution_count": 13,
   "metadata": {
    "executionInfo": {
     "elapsed": 127,
     "status": "ok",
     "timestamp": 1628681619720,
     "user": {
      "displayName": "sagar nagpal",
      "photoUrl": "https://lh3.googleusercontent.com/a-/AOh14GjDIuXJgSm71Ctdbko-AeQitxK-wq1j4-SXkuxktA=s64",
      "userId": "03790130100156359022"
     },
     "user_tz": -330
    },
    "id": "MJVB5X-akVhx"
   },
   "outputs": [],
   "source": [
    "df['caller_id'].fillna(value='caller 5643',inplace=True)"
   ]
  },
  {
   "cell_type": "code",
   "execution_count": 14,
   "metadata": {
    "executionInfo": {
     "elapsed": 129,
     "status": "ok",
     "timestamp": 1628681619725,
     "user": {
      "displayName": "sagar nagpal",
      "photoUrl": "https://lh3.googleusercontent.com/a-/AOh14GjDIuXJgSm71Ctdbko-AeQitxK-wq1j4-SXkuxktA=s64",
      "userId": "03790130100156359022"
     },
     "user_tz": -330
    },
    "id": "BfqjP5V7kYkE"
   },
   "outputs": [],
   "source": [
    "df['opened_by'].fillna(value = 'Opened by 539', inplace=True)"
   ]
  },
  {
   "cell_type": "code",
   "execution_count": 15,
   "metadata": {
    "executionInfo": {
     "elapsed": 129,
     "status": "ok",
     "timestamp": 1628681619728,
     "user": {
      "displayName": "sagar nagpal",
      "photoUrl": "https://lh3.googleusercontent.com/a-/AOh14GjDIuXJgSm71Ctdbko-AeQitxK-wq1j4-SXkuxktA=s64",
      "userId": "03790130100156359022"
     },
     "user_tz": -330
    },
    "id": "Q1KUVWZUkbH2"
   },
   "outputs": [],
   "source": [
    "df['location'].fillna('Location 250', inplace=True)"
   ]
  },
  {
   "cell_type": "code",
   "execution_count": 16,
   "metadata": {
    "executionInfo": {
     "elapsed": 128,
     "status": "ok",
     "timestamp": 1628681619730,
     "user": {
      "displayName": "sagar nagpal",
      "photoUrl": "https://lh3.googleusercontent.com/a-/AOh14GjDIuXJgSm71Ctdbko-AeQitxK-wq1j4-SXkuxktA=s64",
      "userId": "03790130100156359022"
     },
     "user_tz": -330
    },
    "id": "LoaVJxRwkbcv"
   },
   "outputs": [],
   "source": [
    "df['category'].fillna('Category 64',inplace=True)"
   ]
  },
  {
   "cell_type": "code",
   "execution_count": 17,
   "metadata": {
    "executionInfo": {
     "elapsed": 128,
     "status": "ok",
     "timestamp": 1628681619733,
     "user": {
      "displayName": "sagar nagpal",
      "photoUrl": "https://lh3.googleusercontent.com/a-/AOh14GjDIuXJgSm71Ctdbko-AeQitxK-wq1j4-SXkuxktA=s64",
      "userId": "03790130100156359022"
     },
     "user_tz": -330
    },
    "id": "b7hOBBLGkdSA"
   },
   "outputs": [],
   "source": [
    "df['subcategory'].fillna(value='Subcategory 306',inplace=True)"
   ]
  },
  {
   "cell_type": "code",
   "execution_count": 18,
   "metadata": {
    "executionInfo": {
     "elapsed": 127,
     "status": "ok",
     "timestamp": 1628681619735,
     "user": {
      "displayName": "sagar nagpal",
      "photoUrl": "https://lh3.googleusercontent.com/a-/AOh14GjDIuXJgSm71Ctdbko-AeQitxK-wq1j4-SXkuxktA=s64",
      "userId": "03790130100156359022"
     },
     "user_tz": -330
    },
    "id": "NkyjINWRkex-"
   },
   "outputs": [],
   "source": [
    "df['u_symptom'].fillna(value='Symptom 610', inplace=True)"
   ]
  },
  {
   "cell_type": "code",
   "execution_count": 19,
   "metadata": {
    "executionInfo": {
     "elapsed": 127,
     "status": "ok",
     "timestamp": 1628681619738,
     "user": {
      "displayName": "sagar nagpal",
      "photoUrl": "https://lh3.googleusercontent.com/a-/AOh14GjDIuXJgSm71Ctdbko-AeQitxK-wq1j4-SXkuxktA=s64",
      "userId": "03790130100156359022"
     },
     "user_tz": -330
    },
    "id": "1M8iBZ5ckf72"
   },
   "outputs": [],
   "source": [
    "df['assignment_group'].fillna(value='Group 83',inplace=True)"
   ]
  },
  {
   "cell_type": "code",
   "execution_count": 20,
   "metadata": {
    "executionInfo": {
     "elapsed": 127,
     "status": "ok",
     "timestamp": 1628681619741,
     "user": {
      "displayName": "sagar nagpal",
      "photoUrl": "https://lh3.googleusercontent.com/a-/AOh14GjDIuXJgSm71Ctdbko-AeQitxK-wq1j4-SXkuxktA=s64",
      "userId": "03790130100156359022"
     },
     "user_tz": -330
    },
    "id": "f6IoRoIwkhGv"
   },
   "outputs": [],
   "source": [
    "df['assigned_to'].fillna(value='Resolver 254',inplace=True)"
   ]
  },
  {
   "cell_type": "code",
   "execution_count": 21,
   "metadata": {
    "executionInfo": {
     "elapsed": 126,
     "status": "ok",
     "timestamp": 1628681619743,
     "user": {
      "displayName": "sagar nagpal",
      "photoUrl": "https://lh3.googleusercontent.com/a-/AOh14GjDIuXJgSm71Ctdbko-AeQitxK-wq1j4-SXkuxktA=s64",
      "userId": "03790130100156359022"
     },
     "user_tz": -330
    },
    "id": "fh39hPKbkiPS"
   },
   "outputs": [],
   "source": [
    "df['resolved_by'].fillna(value='resolved by 232',inplace=True)"
   ]
  },
  {
   "cell_type": "markdown",
   "metadata": {
    "id": "GNWVmuF3p8bF"
   },
   "source": [
    "####Here we are replacing null values using \"pad\" method in fiil-na"
   ]
  },
  {
   "cell_type": "code",
   "execution_count": 22,
   "metadata": {
    "executionInfo": {
     "elapsed": 124,
     "status": "ok",
     "timestamp": 1628681619745,
     "user": {
      "displayName": "sagar nagpal",
      "photoUrl": "https://lh3.googleusercontent.com/a-/AOh14GjDIuXJgSm71Ctdbko-AeQitxK-wq1j4-SXkuxktA=s64",
      "userId": "03790130100156359022"
     },
     "user_tz": -330
    },
    "id": "52KXanCVkjf_"
   },
   "outputs": [],
   "source": [
    "df['closed_code'].fillna(method='pad', inplace=True)"
   ]
  },
  {
   "cell_type": "code",
   "execution_count": 23,
   "metadata": {
    "colab": {
     "base_uri": "https://localhost:8080/"
    },
    "executionInfo": {
     "elapsed": 124,
     "status": "ok",
     "timestamp": 1628681619748,
     "user": {
      "displayName": "sagar nagpal",
      "photoUrl": "https://lh3.googleusercontent.com/a-/AOh14GjDIuXJgSm71Ctdbko-AeQitxK-wq1j4-SXkuxktA=s64",
      "userId": "03790130100156359022"
     },
     "user_tz": -330
    },
    "id": "CWDismCKkkaf",
    "outputId": "c4d41cdf-4403-4d3c-f1f3-a18515959ee6"
   },
   "outputs": [
    {
     "data": {
      "text/plain": [
       "1520      code 11\n",
       "1521      code 11\n",
       "1522      code 11\n",
       "1523      code 11\n",
       "1524      code 11\n",
       "           ...   \n",
       "141699     code 6\n",
       "141700     code 6\n",
       "141701     code 6\n",
       "141702     code 6\n",
       "141703     code 6\n",
       "Name: closed_code, Length: 714, dtype: object"
      ]
     },
     "execution_count": 23,
     "metadata": {},
     "output_type": "execute_result"
    }
   ],
   "source": [
    "df['closed_code'][data['closed_code'].isna()]"
   ]
  },
  {
   "cell_type": "markdown",
   "metadata": {
    "id": "PtpFLmKkqYVr"
   },
   "source": [
    "Replacing unknown with null values and filling with mode."
   ]
  },
  {
   "cell_type": "code",
   "execution_count": 24,
   "metadata": {
    "executionInfo": {
     "elapsed": 95,
     "status": "ok",
     "timestamp": 1628681619752,
     "user": {
      "displayName": "sagar nagpal",
      "photoUrl": "https://lh3.googleusercontent.com/a-/AOh14GjDIuXJgSm71Ctdbko-AeQitxK-wq1j4-SXkuxktA=s64",
      "userId": "03790130100156359022"
     },
     "user_tz": -330
    },
    "id": "mAPJ-AYQklc_"
   },
   "outputs": [],
   "source": [
    "df.replace('-100', np.nan, inplace=True)"
   ]
  },
  {
   "cell_type": "code",
   "execution_count": 25,
   "metadata": {
    "executionInfo": {
     "elapsed": 95,
     "status": "ok",
     "timestamp": 1628681619754,
     "user": {
      "displayName": "sagar nagpal",
      "photoUrl": "https://lh3.googleusercontent.com/a-/AOh14GjDIuXJgSm71Ctdbko-AeQitxK-wq1j4-SXkuxktA=s64",
      "userId": "03790130100156359022"
     },
     "user_tz": -330
    },
    "id": "-c1PJbIMkold"
   },
   "outputs": [],
   "source": [
    "df['incident_state'].fillna(df['incident_state'].mode()[0],inplace=True)"
   ]
  },
  {
   "cell_type": "code",
   "execution_count": 26,
   "metadata": {
    "colab": {
     "base_uri": "https://localhost:8080/"
    },
    "executionInfo": {
     "elapsed": 95,
     "status": "ok",
     "timestamp": 1628681619757,
     "user": {
      "displayName": "sagar nagpal",
      "photoUrl": "https://lh3.googleusercontent.com/a-/AOh14GjDIuXJgSm71Ctdbko-AeQitxK-wq1j4-SXkuxktA=s64",
      "userId": "03790130100156359022"
     },
     "user_tz": -330
    },
    "id": "ukSl_0JPkqUm",
    "outputId": "27e7689c-6a33-45c2-f883-ccf880f03323"
   },
   "outputs": [
    {
     "data": {
      "text/plain": [
       "number                        0\n",
       "incident_state                0\n",
       "active                        0\n",
       "reassignment_count            0\n",
       "reopen_count                  0\n",
       "sys_mod_count                 0\n",
       "made_sla                      0\n",
       "caller_id                     0\n",
       "opened_by                     0\n",
       "opened_at                     0\n",
       "sys_updated_by                0\n",
       "sys_updated_at                0\n",
       "contact_type                  0\n",
       "location                      0\n",
       "category                      0\n",
       "subcategory                   0\n",
       "u_symptom                     0\n",
       "impact                        0\n",
       "urgency                       0\n",
       "priority                      0\n",
       "assignment_group              0\n",
       "assigned_to                   0\n",
       "knowledge                     0\n",
       "u_priority_confirmation       0\n",
       "notify                        0\n",
       "closed_code                   0\n",
       "resolved_by                   0\n",
       "resolved_at                3141\n",
       "closed_at                     0\n",
       "dtype: int64"
      ]
     },
     "execution_count": 26,
     "metadata": {},
     "output_type": "execute_result"
    }
   ],
   "source": [
    "df.isna().sum()"
   ]
  },
  {
   "cell_type": "markdown",
   "metadata": {
    "id": "sDG4nxNgqveh"
   },
   "source": [
    "We are going to replace those null values which are in \"resolved_at\" column by adding mean of difference between \"opened_at\" and \"resolved_at\" in \"openend_at\" "
   ]
  },
  {
   "cell_type": "code",
   "execution_count": 27,
   "metadata": {
    "executionInfo": {
     "elapsed": 4072,
     "status": "ok",
     "timestamp": 1628681623761,
     "user": {
      "displayName": "sagar nagpal",
      "photoUrl": "https://lh3.googleusercontent.com/a-/AOh14GjDIuXJgSm71Ctdbko-AeQitxK-wq1j4-SXkuxktA=s64",
      "userId": "03790130100156359022"
     },
     "user_tz": -330
    },
    "id": "Cse82VZSksj0"
   },
   "outputs": [],
   "source": [
    "# converting object type to datetime type for further process\n",
    "df['opened_at'] = pd.to_datetime(df['opened_at'])\n",
    "df['resolved_at'] = pd.to_datetime(df['resolved_at'])"
   ]
  },
  {
   "cell_type": "code",
   "execution_count": 28,
   "metadata": {
    "colab": {
     "base_uri": "https://localhost:8080/",
     "height": 408
    },
    "executionInfo": {
     "elapsed": 247,
     "status": "ok",
     "timestamp": 1628681623841,
     "user": {
      "displayName": "sagar nagpal",
      "photoUrl": "https://lh3.googleusercontent.com/a-/AOh14GjDIuXJgSm71Ctdbko-AeQitxK-wq1j4-SXkuxktA=s64",
      "userId": "03790130100156359022"
     },
     "user_tz": -330
    },
    "id": "vfNyPTxcku9i",
    "outputId": "777bf9e4-38e9-4768-afdf-eadd64d93b17"
   },
   "outputs": [
    {
     "data": {
      "text/html": [
       "<div>\n",
       "<style scoped>\n",
       "    .dataframe tbody tr th:only-of-type {\n",
       "        vertical-align: middle;\n",
       "    }\n",
       "\n",
       "    .dataframe tbody tr th {\n",
       "        vertical-align: top;\n",
       "    }\n",
       "\n",
       "    .dataframe thead th {\n",
       "        text-align: right;\n",
       "    }\n",
       "</style>\n",
       "<table border=\"1\" class=\"dataframe\">\n",
       "  <thead>\n",
       "    <tr style=\"text-align: right;\">\n",
       "      <th></th>\n",
       "      <th>opened_at</th>\n",
       "      <th>resolved_at</th>\n",
       "    </tr>\n",
       "  </thead>\n",
       "  <tbody>\n",
       "    <tr>\n",
       "      <th>0</th>\n",
       "      <td>2016-02-29 01:16:00</td>\n",
       "      <td>2016-02-29 11:29:00</td>\n",
       "    </tr>\n",
       "    <tr>\n",
       "      <th>1</th>\n",
       "      <td>2016-02-29 01:16:00</td>\n",
       "      <td>2016-02-29 11:29:00</td>\n",
       "    </tr>\n",
       "    <tr>\n",
       "      <th>2</th>\n",
       "      <td>2016-02-29 01:16:00</td>\n",
       "      <td>2016-02-29 11:29:00</td>\n",
       "    </tr>\n",
       "    <tr>\n",
       "      <th>3</th>\n",
       "      <td>2016-02-29 01:16:00</td>\n",
       "      <td>2016-02-29 11:29:00</td>\n",
       "    </tr>\n",
       "    <tr>\n",
       "      <th>4</th>\n",
       "      <td>2016-02-29 04:40:00</td>\n",
       "      <td>2016-01-03 09:52:00</td>\n",
       "    </tr>\n",
       "    <tr>\n",
       "      <th>...</th>\n",
       "      <td>...</td>\n",
       "      <td>...</td>\n",
       "    </tr>\n",
       "    <tr>\n",
       "      <th>141707</th>\n",
       "      <td>2017-02-16 09:09:00</td>\n",
       "      <td>2017-02-16 09:53:00</td>\n",
       "    </tr>\n",
       "    <tr>\n",
       "      <th>141708</th>\n",
       "      <td>2017-02-16 14:17:00</td>\n",
       "      <td>2017-02-16 16:38:00</td>\n",
       "    </tr>\n",
       "    <tr>\n",
       "      <th>141709</th>\n",
       "      <td>2017-02-16 14:17:00</td>\n",
       "      <td>2017-02-16 16:38:00</td>\n",
       "    </tr>\n",
       "    <tr>\n",
       "      <th>141710</th>\n",
       "      <td>2017-02-16 14:17:00</td>\n",
       "      <td>2017-02-16 16:38:00</td>\n",
       "    </tr>\n",
       "    <tr>\n",
       "      <th>141711</th>\n",
       "      <td>2017-02-16 14:17:00</td>\n",
       "      <td>2017-02-16 16:38:00</td>\n",
       "    </tr>\n",
       "  </tbody>\n",
       "</table>\n",
       "<p>141712 rows × 2 columns</p>\n",
       "</div>"
      ],
      "text/plain": [
       "                 opened_at         resolved_at\n",
       "0      2016-02-29 01:16:00 2016-02-29 11:29:00\n",
       "1      2016-02-29 01:16:00 2016-02-29 11:29:00\n",
       "2      2016-02-29 01:16:00 2016-02-29 11:29:00\n",
       "3      2016-02-29 01:16:00 2016-02-29 11:29:00\n",
       "4      2016-02-29 04:40:00 2016-01-03 09:52:00\n",
       "...                    ...                 ...\n",
       "141707 2017-02-16 09:09:00 2017-02-16 09:53:00\n",
       "141708 2017-02-16 14:17:00 2017-02-16 16:38:00\n",
       "141709 2017-02-16 14:17:00 2017-02-16 16:38:00\n",
       "141710 2017-02-16 14:17:00 2017-02-16 16:38:00\n",
       "141711 2017-02-16 14:17:00 2017-02-16 16:38:00\n",
       "\n",
       "[141712 rows x 2 columns]"
      ]
     },
     "execution_count": 28,
     "metadata": {},
     "output_type": "execute_result"
    }
   ],
   "source": [
    "df_only = df[['opened_at', 'resolved_at']]\n",
    "df_only"
   ]
  },
  {
   "cell_type": "code",
   "execution_count": 29,
   "metadata": {
    "colab": {
     "base_uri": "https://localhost:8080/",
     "height": 408
    },
    "executionInfo": {
     "elapsed": 238,
     "status": "ok",
     "timestamp": 1628681623845,
     "user": {
      "displayName": "sagar nagpal",
      "photoUrl": "https://lh3.googleusercontent.com/a-/AOh14GjDIuXJgSm71Ctdbko-AeQitxK-wq1j4-SXkuxktA=s64",
      "userId": "03790130100156359022"
     },
     "user_tz": -330
    },
    "id": "yx4Fd7ockwXI",
    "outputId": "9de37625-e999-4413-eb4d-bac61704e058"
   },
   "outputs": [
    {
     "data": {
      "text/html": [
       "<div>\n",
       "<style scoped>\n",
       "    .dataframe tbody tr th:only-of-type {\n",
       "        vertical-align: middle;\n",
       "    }\n",
       "\n",
       "    .dataframe tbody tr th {\n",
       "        vertical-align: top;\n",
       "    }\n",
       "\n",
       "    .dataframe thead th {\n",
       "        text-align: right;\n",
       "    }\n",
       "</style>\n",
       "<table border=\"1\" class=\"dataframe\">\n",
       "  <thead>\n",
       "    <tr style=\"text-align: right;\">\n",
       "      <th></th>\n",
       "      <th>opened_at</th>\n",
       "      <th>resolved_at</th>\n",
       "    </tr>\n",
       "  </thead>\n",
       "  <tbody>\n",
       "    <tr>\n",
       "      <th>0</th>\n",
       "      <td>2016-02-29 01:16:00</td>\n",
       "      <td>2016-02-29 11:29:00</td>\n",
       "    </tr>\n",
       "    <tr>\n",
       "      <th>1</th>\n",
       "      <td>2016-02-29 01:16:00</td>\n",
       "      <td>2016-02-29 11:29:00</td>\n",
       "    </tr>\n",
       "    <tr>\n",
       "      <th>2</th>\n",
       "      <td>2016-02-29 01:16:00</td>\n",
       "      <td>2016-02-29 11:29:00</td>\n",
       "    </tr>\n",
       "    <tr>\n",
       "      <th>3</th>\n",
       "      <td>2016-02-29 01:16:00</td>\n",
       "      <td>2016-02-29 11:29:00</td>\n",
       "    </tr>\n",
       "    <tr>\n",
       "      <th>4</th>\n",
       "      <td>2016-02-29 04:40:00</td>\n",
       "      <td>2016-01-03 09:52:00</td>\n",
       "    </tr>\n",
       "    <tr>\n",
       "      <th>...</th>\n",
       "      <td>...</td>\n",
       "      <td>...</td>\n",
       "    </tr>\n",
       "    <tr>\n",
       "      <th>141707</th>\n",
       "      <td>2017-02-16 09:09:00</td>\n",
       "      <td>2017-02-16 09:53:00</td>\n",
       "    </tr>\n",
       "    <tr>\n",
       "      <th>141708</th>\n",
       "      <td>2017-02-16 14:17:00</td>\n",
       "      <td>2017-02-16 16:38:00</td>\n",
       "    </tr>\n",
       "    <tr>\n",
       "      <th>141709</th>\n",
       "      <td>2017-02-16 14:17:00</td>\n",
       "      <td>2017-02-16 16:38:00</td>\n",
       "    </tr>\n",
       "    <tr>\n",
       "      <th>141710</th>\n",
       "      <td>2017-02-16 14:17:00</td>\n",
       "      <td>2017-02-16 16:38:00</td>\n",
       "    </tr>\n",
       "    <tr>\n",
       "      <th>141711</th>\n",
       "      <td>2017-02-16 14:17:00</td>\n",
       "      <td>2017-02-16 16:38:00</td>\n",
       "    </tr>\n",
       "  </tbody>\n",
       "</table>\n",
       "<p>138571 rows × 2 columns</p>\n",
       "</div>"
      ],
      "text/plain": [
       "                 opened_at         resolved_at\n",
       "0      2016-02-29 01:16:00 2016-02-29 11:29:00\n",
       "1      2016-02-29 01:16:00 2016-02-29 11:29:00\n",
       "2      2016-02-29 01:16:00 2016-02-29 11:29:00\n",
       "3      2016-02-29 01:16:00 2016-02-29 11:29:00\n",
       "4      2016-02-29 04:40:00 2016-01-03 09:52:00\n",
       "...                    ...                 ...\n",
       "141707 2017-02-16 09:09:00 2017-02-16 09:53:00\n",
       "141708 2017-02-16 14:17:00 2017-02-16 16:38:00\n",
       "141709 2017-02-16 14:17:00 2017-02-16 16:38:00\n",
       "141710 2017-02-16 14:17:00 2017-02-16 16:38:00\n",
       "141711 2017-02-16 14:17:00 2017-02-16 16:38:00\n",
       "\n",
       "[138571 rows x 2 columns]"
      ]
     },
     "execution_count": 29,
     "metadata": {},
     "output_type": "execute_result"
    }
   ],
   "source": [
    "df_n = df_only.dropna()\n",
    "df_n"
   ]
  },
  {
   "cell_type": "code",
   "execution_count": 30,
   "metadata": {
    "executionInfo": {
     "elapsed": 248,
     "status": "ok",
     "timestamp": 1628681623863,
     "user": {
      "displayName": "sagar nagpal",
      "photoUrl": "https://lh3.googleusercontent.com/a-/AOh14GjDIuXJgSm71Ctdbko-AeQitxK-wq1j4-SXkuxktA=s64",
      "userId": "03790130100156359022"
     },
     "user_tz": -330
    },
    "id": "vBZWc7XAkyRq"
   },
   "outputs": [],
   "source": [
    "df_n['new'] = df_n['resolved_at'] - df_n['opened_at']"
   ]
  },
  {
   "cell_type": "code",
   "execution_count": 31,
   "metadata": {
    "colab": {
     "base_uri": "https://localhost:8080/",
     "height": 408
    },
    "executionInfo": {
     "elapsed": 248,
     "status": "ok",
     "timestamp": 1628681623869,
     "user": {
      "displayName": "sagar nagpal",
      "photoUrl": "https://lh3.googleusercontent.com/a-/AOh14GjDIuXJgSm71Ctdbko-AeQitxK-wq1j4-SXkuxktA=s64",
      "userId": "03790130100156359022"
     },
     "user_tz": -330
    },
    "id": "J2K4oRS8k0Gj",
    "outputId": "bd747e63-73c6-4440-bcad-8d666844103e"
   },
   "outputs": [
    {
     "data": {
      "text/html": [
       "<div>\n",
       "<style scoped>\n",
       "    .dataframe tbody tr th:only-of-type {\n",
       "        vertical-align: middle;\n",
       "    }\n",
       "\n",
       "    .dataframe tbody tr th {\n",
       "        vertical-align: top;\n",
       "    }\n",
       "\n",
       "    .dataframe thead th {\n",
       "        text-align: right;\n",
       "    }\n",
       "</style>\n",
       "<table border=\"1\" class=\"dataframe\">\n",
       "  <thead>\n",
       "    <tr style=\"text-align: right;\">\n",
       "      <th></th>\n",
       "      <th>opened_at</th>\n",
       "      <th>resolved_at</th>\n",
       "      <th>new</th>\n",
       "    </tr>\n",
       "  </thead>\n",
       "  <tbody>\n",
       "    <tr>\n",
       "      <th>0</th>\n",
       "      <td>2016-02-29 01:16:00</td>\n",
       "      <td>2016-02-29 11:29:00</td>\n",
       "      <td>0 days 10:13:00</td>\n",
       "    </tr>\n",
       "    <tr>\n",
       "      <th>1</th>\n",
       "      <td>2016-02-29 01:16:00</td>\n",
       "      <td>2016-02-29 11:29:00</td>\n",
       "      <td>0 days 10:13:00</td>\n",
       "    </tr>\n",
       "    <tr>\n",
       "      <th>2</th>\n",
       "      <td>2016-02-29 01:16:00</td>\n",
       "      <td>2016-02-29 11:29:00</td>\n",
       "      <td>0 days 10:13:00</td>\n",
       "    </tr>\n",
       "    <tr>\n",
       "      <th>3</th>\n",
       "      <td>2016-02-29 01:16:00</td>\n",
       "      <td>2016-02-29 11:29:00</td>\n",
       "      <td>0 days 10:13:00</td>\n",
       "    </tr>\n",
       "    <tr>\n",
       "      <th>4</th>\n",
       "      <td>2016-02-29 04:40:00</td>\n",
       "      <td>2016-01-03 09:52:00</td>\n",
       "      <td>-57 days +05:12:00</td>\n",
       "    </tr>\n",
       "    <tr>\n",
       "      <th>...</th>\n",
       "      <td>...</td>\n",
       "      <td>...</td>\n",
       "      <td>...</td>\n",
       "    </tr>\n",
       "    <tr>\n",
       "      <th>141707</th>\n",
       "      <td>2017-02-16 09:09:00</td>\n",
       "      <td>2017-02-16 09:53:00</td>\n",
       "      <td>0 days 00:44:00</td>\n",
       "    </tr>\n",
       "    <tr>\n",
       "      <th>141708</th>\n",
       "      <td>2017-02-16 14:17:00</td>\n",
       "      <td>2017-02-16 16:38:00</td>\n",
       "      <td>0 days 02:21:00</td>\n",
       "    </tr>\n",
       "    <tr>\n",
       "      <th>141709</th>\n",
       "      <td>2017-02-16 14:17:00</td>\n",
       "      <td>2017-02-16 16:38:00</td>\n",
       "      <td>0 days 02:21:00</td>\n",
       "    </tr>\n",
       "    <tr>\n",
       "      <th>141710</th>\n",
       "      <td>2017-02-16 14:17:00</td>\n",
       "      <td>2017-02-16 16:38:00</td>\n",
       "      <td>0 days 02:21:00</td>\n",
       "    </tr>\n",
       "    <tr>\n",
       "      <th>141711</th>\n",
       "      <td>2017-02-16 14:17:00</td>\n",
       "      <td>2017-02-16 16:38:00</td>\n",
       "      <td>0 days 02:21:00</td>\n",
       "    </tr>\n",
       "  </tbody>\n",
       "</table>\n",
       "<p>138571 rows × 3 columns</p>\n",
       "</div>"
      ],
      "text/plain": [
       "                 opened_at         resolved_at                new\n",
       "0      2016-02-29 01:16:00 2016-02-29 11:29:00    0 days 10:13:00\n",
       "1      2016-02-29 01:16:00 2016-02-29 11:29:00    0 days 10:13:00\n",
       "2      2016-02-29 01:16:00 2016-02-29 11:29:00    0 days 10:13:00\n",
       "3      2016-02-29 01:16:00 2016-02-29 11:29:00    0 days 10:13:00\n",
       "4      2016-02-29 04:40:00 2016-01-03 09:52:00 -57 days +05:12:00\n",
       "...                    ...                 ...                ...\n",
       "141707 2017-02-16 09:09:00 2017-02-16 09:53:00    0 days 00:44:00\n",
       "141708 2017-02-16 14:17:00 2017-02-16 16:38:00    0 days 02:21:00\n",
       "141709 2017-02-16 14:17:00 2017-02-16 16:38:00    0 days 02:21:00\n",
       "141710 2017-02-16 14:17:00 2017-02-16 16:38:00    0 days 02:21:00\n",
       "141711 2017-02-16 14:17:00 2017-02-16 16:38:00    0 days 02:21:00\n",
       "\n",
       "[138571 rows x 3 columns]"
      ]
     },
     "execution_count": 31,
     "metadata": {},
     "output_type": "execute_result"
    }
   ],
   "source": [
    "df_n"
   ]
  },
  {
   "cell_type": "code",
   "execution_count": 32,
   "metadata": {
    "colab": {
     "base_uri": "https://localhost:8080/"
    },
    "executionInfo": {
     "elapsed": 244,
     "status": "ok",
     "timestamp": 1628681623878,
     "user": {
      "displayName": "sagar nagpal",
      "photoUrl": "https://lh3.googleusercontent.com/a-/AOh14GjDIuXJgSm71Ctdbko-AeQitxK-wq1j4-SXkuxktA=s64",
      "userId": "03790130100156359022"
     },
     "user_tz": -330
    },
    "id": "AQfWKpRqk1Az",
    "outputId": "3f0a4fad-9fe0-4a1f-da12-cd8128835623"
   },
   "outputs": [
    {
     "data": {
      "text/plain": [
       "Timedelta('5 days 00:40:40.813301')"
      ]
     },
     "execution_count": 32,
     "metadata": {},
     "output_type": "execute_result"
    }
   ],
   "source": [
    "df_n['new'].mean()"
   ]
  },
  {
   "cell_type": "code",
   "execution_count": 33,
   "metadata": {
    "executionInfo": {
     "elapsed": 204,
     "status": "ok",
     "timestamp": 1628681623882,
     "user": {
      "displayName": "sagar nagpal",
      "photoUrl": "https://lh3.googleusercontent.com/a-/AOh14GjDIuXJgSm71Ctdbko-AeQitxK-wq1j4-SXkuxktA=s64",
      "userId": "03790130100156359022"
     },
     "user_tz": -330
    },
    "id": "dKrCNu6Zk3nS"
   },
   "outputs": [],
   "source": [
    "import datetime"
   ]
  },
  {
   "cell_type": "code",
   "execution_count": 34,
   "metadata": {
    "executionInfo": {
     "elapsed": 206,
     "status": "ok",
     "timestamp": 1628681623887,
     "user": {
      "displayName": "sagar nagpal",
      "photoUrl": "https://lh3.googleusercontent.com/a-/AOh14GjDIuXJgSm71Ctdbko-AeQitxK-wq1j4-SXkuxktA=s64",
      "userId": "03790130100156359022"
     },
     "user_tz": -330
    },
    "id": "xdB6bTH5k444"
   },
   "outputs": [],
   "source": [
    "#Adding mean into opened at column\n",
    "df['N'] = df['opened_at'] + datetime.timedelta(days=5, hours = 0, minutes=40, seconds=40.813301475)"
   ]
  },
  {
   "cell_type": "code",
   "execution_count": 35,
   "metadata": {
    "executionInfo": {
     "elapsed": 206,
     "status": "ok",
     "timestamp": 1628681623894,
     "user": {
      "displayName": "sagar nagpal",
      "photoUrl": "https://lh3.googleusercontent.com/a-/AOh14GjDIuXJgSm71Ctdbko-AeQitxK-wq1j4-SXkuxktA=s64",
      "userId": "03790130100156359022"
     },
     "user_tz": -330
    },
    "id": "uXGH58m7k6fY"
   },
   "outputs": [],
   "source": [
    "df['resolved_at'].fillna(value = df['N'], inplace=True)"
   ]
  },
  {
   "cell_type": "code",
   "execution_count": 36,
   "metadata": {
    "executionInfo": {
     "elapsed": 204,
     "status": "ok",
     "timestamp": 1628681623898,
     "user": {
      "displayName": "sagar nagpal",
      "photoUrl": "https://lh3.googleusercontent.com/a-/AOh14GjDIuXJgSm71Ctdbko-AeQitxK-wq1j4-SXkuxktA=s64",
      "userId": "03790130100156359022"
     },
     "user_tz": -330
    },
    "id": "wVeSaWeIk7eH"
   },
   "outputs": [],
   "source": [
    "df.drop('N',axis=1,inplace=True)"
   ]
  },
  {
   "cell_type": "markdown",
   "metadata": {
    "id": "edoS78azrwvj"
   },
   "source": [
    "Droping some columns due to high colinearity"
   ]
  },
  {
   "cell_type": "code",
   "execution_count": 37,
   "metadata": {
    "executionInfo": {
     "elapsed": 204,
     "status": "ok",
     "timestamp": 1628681623902,
     "user": {
      "displayName": "sagar nagpal",
      "photoUrl": "https://lh3.googleusercontent.com/a-/AOh14GjDIuXJgSm71Ctdbko-AeQitxK-wq1j4-SXkuxktA=s64",
      "userId": "03790130100156359022"
     },
     "user_tz": -330
    },
    "id": "4KP6heuuctjk"
   },
   "outputs": [],
   "source": [
    "df.drop('urgency', axis =1, inplace = True)"
   ]
  },
  {
   "cell_type": "code",
   "execution_count": 38,
   "metadata": {
    "executionInfo": {
     "elapsed": 205,
     "status": "ok",
     "timestamp": 1628681623907,
     "user": {
      "displayName": "sagar nagpal",
      "photoUrl": "https://lh3.googleusercontent.com/a-/AOh14GjDIuXJgSm71Ctdbko-AeQitxK-wq1j4-SXkuxktA=s64",
      "userId": "03790130100156359022"
     },
     "user_tz": -330
    },
    "id": "RdUnQtsKcZLI"
   },
   "outputs": [],
   "source": [
    "df.drop('priority', axis =1, inplace = True)"
   ]
  },
  {
   "cell_type": "code",
   "execution_count": 39,
   "metadata": {
    "executionInfo": {
     "elapsed": 1114,
     "status": "ok",
     "timestamp": 1628681624819,
     "user": {
      "displayName": "sagar nagpal",
      "photoUrl": "https://lh3.googleusercontent.com/a-/AOh14GjDIuXJgSm71Ctdbko-AeQitxK-wq1j4-SXkuxktA=s64",
      "userId": "03790130100156359022"
     },
     "user_tz": -330
    },
    "id": "KUdvImOmk8aG"
   },
   "outputs": [],
   "source": [
    "df['resolved_at'] = df['resolved_at'].astype('str')"
   ]
  },
  {
   "cell_type": "code",
   "execution_count": 40,
   "metadata": {
    "executionInfo": {
     "elapsed": 14,
     "status": "ok",
     "timestamp": 1628681624821,
     "user": {
      "displayName": "sagar nagpal",
      "photoUrl": "https://lh3.googleusercontent.com/a-/AOh14GjDIuXJgSm71Ctdbko-AeQitxK-wq1j4-SXkuxktA=s64",
      "userId": "03790130100156359022"
     },
     "user_tz": -330
    },
    "id": "PtNpn28Dk9aA"
   },
   "outputs": [],
   "source": [
    "df['opened_at'] = df['opened_at'].astype('str')"
   ]
  },
  {
   "cell_type": "code",
   "execution_count": 41,
   "metadata": {
    "colab": {
     "base_uri": "https://localhost:8080/",
     "height": 222
    },
    "executionInfo": {
     "elapsed": 1365,
     "status": "ok",
     "timestamp": 1628681626175,
     "user": {
      "displayName": "sagar nagpal",
      "photoUrl": "https://lh3.googleusercontent.com/a-/AOh14GjDIuXJgSm71Ctdbko-AeQitxK-wq1j4-SXkuxktA=s64",
      "userId": "03790130100156359022"
     },
     "user_tz": -330
    },
    "id": "DCzDRh7_mWCp",
    "outputId": "f842b8cf-2b78-4412-9dd9-049e873da137"
   },
   "outputs": [
    {
     "data": {
      "text/html": [
       "<div>\n",
       "<style scoped>\n",
       "    .dataframe tbody tr th:only-of-type {\n",
       "        vertical-align: middle;\n",
       "    }\n",
       "\n",
       "    .dataframe tbody tr th {\n",
       "        vertical-align: top;\n",
       "    }\n",
       "\n",
       "    .dataframe thead th {\n",
       "        text-align: right;\n",
       "    }\n",
       "</style>\n",
       "<table border=\"1\" class=\"dataframe\">\n",
       "  <thead>\n",
       "    <tr style=\"text-align: right;\">\n",
       "      <th></th>\n",
       "      <th>number</th>\n",
       "      <th>incident_state</th>\n",
       "      <th>caller_id</th>\n",
       "      <th>opened_by</th>\n",
       "      <th>opened_at</th>\n",
       "      <th>sys_updated_by</th>\n",
       "      <th>sys_updated_at</th>\n",
       "      <th>contact_type</th>\n",
       "      <th>location</th>\n",
       "      <th>category</th>\n",
       "      <th>subcategory</th>\n",
       "      <th>u_symptom</th>\n",
       "      <th>impact</th>\n",
       "      <th>assignment_group</th>\n",
       "      <th>assigned_to</th>\n",
       "      <th>notify</th>\n",
       "      <th>closed_code</th>\n",
       "      <th>resolved_by</th>\n",
       "      <th>resolved_at</th>\n",
       "      <th>closed_at</th>\n",
       "    </tr>\n",
       "  </thead>\n",
       "  <tbody>\n",
       "    <tr>\n",
       "      <th>count</th>\n",
       "      <td>141712</td>\n",
       "      <td>141712</td>\n",
       "      <td>141712</td>\n",
       "      <td>141712</td>\n",
       "      <td>141712</td>\n",
       "      <td>141712</td>\n",
       "      <td>141712</td>\n",
       "      <td>141712</td>\n",
       "      <td>141712</td>\n",
       "      <td>141712</td>\n",
       "      <td>141712</td>\n",
       "      <td>141712</td>\n",
       "      <td>141712</td>\n",
       "      <td>141712</td>\n",
       "      <td>141712</td>\n",
       "      <td>141712</td>\n",
       "      <td>141712</td>\n",
       "      <td>141712</td>\n",
       "      <td>141712</td>\n",
       "      <td>141712</td>\n",
       "    </tr>\n",
       "    <tr>\n",
       "      <th>unique</th>\n",
       "      <td>24918</td>\n",
       "      <td>8</td>\n",
       "      <td>5245</td>\n",
       "      <td>208</td>\n",
       "      <td>19849</td>\n",
       "      <td>846</td>\n",
       "      <td>50664</td>\n",
       "      <td>5</td>\n",
       "      <td>225</td>\n",
       "      <td>59</td>\n",
       "      <td>255</td>\n",
       "      <td>526</td>\n",
       "      <td>3</td>\n",
       "      <td>79</td>\n",
       "      <td>235</td>\n",
       "      <td>2</td>\n",
       "      <td>17</td>\n",
       "      <td>217</td>\n",
       "      <td>20015</td>\n",
       "      <td>2707</td>\n",
       "    </tr>\n",
       "    <tr>\n",
       "      <th>top</th>\n",
       "      <td>INC0019396</td>\n",
       "      <td>Active</td>\n",
       "      <td>Caller 1904</td>\n",
       "      <td>Opened by  17</td>\n",
       "      <td>2016-04-14 20:42:00</td>\n",
       "      <td>Updated by 908</td>\n",
       "      <td>24/3/2016 18:40</td>\n",
       "      <td>Phone</td>\n",
       "      <td>Location 204</td>\n",
       "      <td>Category 26</td>\n",
       "      <td>Subcategory 174</td>\n",
       "      <td>Symptom 491</td>\n",
       "      <td>2 - Medium</td>\n",
       "      <td>Group 70</td>\n",
       "      <td>Resolver 254</td>\n",
       "      <td>Do Not Notify</td>\n",
       "      <td>code 6</td>\n",
       "      <td>Resolved by 15</td>\n",
       "      <td>2016-03-06 16:29:00.000000</td>\n",
       "      <td>24/3/2016 18:59</td>\n",
       "    </tr>\n",
       "    <tr>\n",
       "      <th>freq</th>\n",
       "      <td>58</td>\n",
       "      <td>38721</td>\n",
       "      <td>1425</td>\n",
       "      <td>41466</td>\n",
       "      <td>58</td>\n",
       "      <td>36162</td>\n",
       "      <td>420</td>\n",
       "      <td>140462</td>\n",
       "      <td>31690</td>\n",
       "      <td>18453</td>\n",
       "      <td>35785</td>\n",
       "      <td>51985</td>\n",
       "      <td>134335</td>\n",
       "      <td>43474</td>\n",
       "      <td>27496</td>\n",
       "      <td>141593</td>\n",
       "      <td>86996</td>\n",
       "      <td>15421</td>\n",
       "      <td>93</td>\n",
       "      <td>3324</td>\n",
       "    </tr>\n",
       "  </tbody>\n",
       "</table>\n",
       "</div>"
      ],
      "text/plain": [
       "            number incident_state    caller_id      opened_by  \\\n",
       "count       141712         141712       141712         141712   \n",
       "unique       24918              8         5245            208   \n",
       "top     INC0019396         Active  Caller 1904  Opened by  17   \n",
       "freq            58          38721         1425          41466   \n",
       "\n",
       "                  opened_at  sys_updated_by   sys_updated_at contact_type  \\\n",
       "count                141712          141712           141712       141712   \n",
       "unique                19849             846            50664            5   \n",
       "top     2016-04-14 20:42:00  Updated by 908  24/3/2016 18:40        Phone   \n",
       "freq                     58           36162              420       140462   \n",
       "\n",
       "            location     category      subcategory    u_symptom      impact  \\\n",
       "count         141712       141712           141712       141712      141712   \n",
       "unique           225           59              255          526           3   \n",
       "top     Location 204  Category 26  Subcategory 174  Symptom 491  2 - Medium   \n",
       "freq           31690        18453            35785        51985      134335   \n",
       "\n",
       "       assignment_group   assigned_to         notify closed_code  \\\n",
       "count            141712        141712         141712      141712   \n",
       "unique               79           235              2          17   \n",
       "top            Group 70  Resolver 254  Do Not Notify      code 6   \n",
       "freq              43474         27496         141593       86996   \n",
       "\n",
       "           resolved_by                 resolved_at        closed_at  \n",
       "count           141712                      141712           141712  \n",
       "unique             217                       20015             2707  \n",
       "top     Resolved by 15  2016-03-06 16:29:00.000000  24/3/2016 18:59  \n",
       "freq             15421                          93             3324  "
      ]
     },
     "execution_count": 41,
     "metadata": {},
     "output_type": "execute_result"
    }
   ],
   "source": [
    "# describe the categorical columns\n",
    "df.describe(include=['O'])"
   ]
  },
  {
   "cell_type": "markdown",
   "metadata": {
    "id": "S3qrFJ3t1wTI"
   },
   "source": [
    "# Data visualization"
   ]
  },
  {
   "cell_type": "code",
   "execution_count": 42,
   "metadata": {
    "colab": {
     "base_uri": "https://localhost:8080/",
     "height": 393
    },
    "executionInfo": {
     "elapsed": 176,
     "status": "ok",
     "timestamp": 1628681626182,
     "user": {
      "displayName": "sagar nagpal",
      "photoUrl": "https://lh3.googleusercontent.com/a-/AOh14GjDIuXJgSm71Ctdbko-AeQitxK-wq1j4-SXkuxktA=s64",
      "userId": "03790130100156359022"
     },
     "user_tz": -330
    },
    "id": "F8Kc8_9xwB57",
    "outputId": "5577753c-b48f-4a19-81cc-8d7e4f35fe19"
   },
   "outputs": [
    {
     "data": {
      "image/png": "[encoded data removed]",
      "text/plain": [
       "<Figure size 1728x720 with 3 Axes>"
      ]
     },
     "metadata": {
      "needs_background": "light"
     },
     "output_type": "display_data"
    }
   ],
   "source": [
    "plt.figure(figsize=(24,10))\n",
    "plt.subplot(231);sns.countplot('incident_state',data=df);\n",
    "plt.xticks(rotation = 90);\n",
    "plt.subplot(232);sns.countplot('contact_type',data=df)\n",
    "plt.subplot(233);sns.countplot('impact',data=df);"
   ]
  },
  {
   "cell_type": "code",
   "execution_count": 43,
   "metadata": {
    "colab": {
     "base_uri": "https://localhost:8080/",
     "height": 320
    },
    "executionInfo": {
     "elapsed": 144,
     "status": "ok",
     "timestamp": 1628681626196,
     "user": {
      "displayName": "sagar nagpal",
      "photoUrl": "https://lh3.googleusercontent.com/a-/AOh14GjDIuXJgSm71Ctdbko-AeQitxK-wq1j4-SXkuxktA=s64",
      "userId": "03790130100156359022"
     },
     "user_tz": -330
    },
    "id": "rPlE4BYhuRBI",
    "outputId": "b2f0e830-c389-44ac-a2b7-b8aa04c0dfd5"
   },
   "outputs": [
    {
     "data": {
      "text/html": [
       "<div>\n",
       "<style scoped>\n",
       "    .dataframe tbody tr th:only-of-type {\n",
       "        vertical-align: middle;\n",
       "    }\n",
       "\n",
       "    .dataframe tbody tr th {\n",
       "        vertical-align: top;\n",
       "    }\n",
       "\n",
       "    .dataframe thead th {\n",
       "        text-align: right;\n",
       "    }\n",
       "</style>\n",
       "<table border=\"1\" class=\"dataframe\">\n",
       "  <thead>\n",
       "    <tr style=\"text-align: right;\">\n",
       "      <th>active</th>\n",
       "      <th>False</th>\n",
       "      <th>True</th>\n",
       "    </tr>\n",
       "    <tr>\n",
       "      <th>incident_state</th>\n",
       "      <th></th>\n",
       "      <th></th>\n",
       "    </tr>\n",
       "  </thead>\n",
       "  <tbody>\n",
       "    <tr>\n",
       "      <th>Active</th>\n",
       "      <td>0</td>\n",
       "      <td>38721</td>\n",
       "    </tr>\n",
       "    <tr>\n",
       "      <th>Awaiting Evidence</th>\n",
       "      <td>0</td>\n",
       "      <td>38</td>\n",
       "    </tr>\n",
       "    <tr>\n",
       "      <th>Awaiting Problem</th>\n",
       "      <td>0</td>\n",
       "      <td>461</td>\n",
       "    </tr>\n",
       "    <tr>\n",
       "      <th>Awaiting User Info</th>\n",
       "      <td>0</td>\n",
       "      <td>14642</td>\n",
       "    </tr>\n",
       "    <tr>\n",
       "      <th>Awaiting Vendor</th>\n",
       "      <td>0</td>\n",
       "      <td>707</td>\n",
       "    </tr>\n",
       "    <tr>\n",
       "      <th>Closed</th>\n",
       "      <td>24985</td>\n",
       "      <td>0</td>\n",
       "    </tr>\n",
       "    <tr>\n",
       "      <th>New</th>\n",
       "      <td>0</td>\n",
       "      <td>36407</td>\n",
       "    </tr>\n",
       "    <tr>\n",
       "      <th>Resolved</th>\n",
       "      <td>1</td>\n",
       "      <td>25750</td>\n",
       "    </tr>\n",
       "  </tbody>\n",
       "</table>\n",
       "</div>"
      ],
      "text/plain": [
       "active              False  True \n",
       "incident_state                  \n",
       "Active                  0  38721\n",
       "Awaiting Evidence       0     38\n",
       "Awaiting Problem        0    461\n",
       "Awaiting User Info      0  14642\n",
       "Awaiting Vendor         0    707\n",
       "Closed              24985      0\n",
       "New                     0  36407\n",
       "Resolved                1  25750"
      ]
     },
     "execution_count": 43,
     "metadata": {},
     "output_type": "execute_result"
    }
   ],
   "source": [
    "ia=pd.crosstab(df.incident_state,df.active)\n",
    "ia"
   ]
  },
  {
   "cell_type": "code",
   "execution_count": 44,
   "metadata": {
    "colab": {
     "base_uri": "https://localhost:8080/",
     "height": 362
    },
    "executionInfo": {
     "elapsed": 1806,
     "status": "ok",
     "timestamp": 1628681627873,
     "user": {
      "displayName": "sagar nagpal",
      "photoUrl": "https://lh3.googleusercontent.com/a-/AOh14GjDIuXJgSm71Ctdbko-AeQitxK-wq1j4-SXkuxktA=s64",
      "userId": "03790130100156359022"
     },
     "user_tz": -330
    },
    "id": "Ysm93AY6uSLF",
    "outputId": "ed053d73-981f-4bc9-dc63-96a5d0c3606c"
   },
   "outputs": [
    {
     "data": {
      "image/png": "[encoded data removed]",
      "text/plain": [
       "<Figure size 432x288 with 1 Axes>"
      ]
     },
     "metadata": {
      "needs_background": "light"
     },
     "output_type": "display_data"
    }
   ],
   "source": [
    "ia.plot.bar(stacked=True)\n",
    "plt.show()"
   ]
  },
  {
   "cell_type": "code",
   "execution_count": 45,
   "metadata": {
    "colab": {
     "base_uri": "https://localhost:8080/",
     "height": 320
    },
    "executionInfo": {
     "elapsed": 127,
     "status": "ok",
     "timestamp": 1628681627881,
     "user": {
      "displayName": "sagar nagpal",
      "photoUrl": "https://lh3.googleusercontent.com/a-/AOh14GjDIuXJgSm71Ctdbko-AeQitxK-wq1j4-SXkuxktA=s64",
      "userId": "03790130100156359022"
     },
     "user_tz": -330
    },
    "id": "_rtVS8wjuQwn",
    "outputId": "3ae858d8-9018-4bbc-c4e7-f3ac7ca87faa"
   },
   "outputs": [
    {
     "data": {
      "text/html": [
       "<div>\n",
       "<style scoped>\n",
       "    .dataframe tbody tr th:only-of-type {\n",
       "        vertical-align: middle;\n",
       "    }\n",
       "\n",
       "    .dataframe tbody tr th {\n",
       "        vertical-align: top;\n",
       "    }\n",
       "\n",
       "    .dataframe thead th {\n",
       "        text-align: right;\n",
       "    }\n",
       "</style>\n",
       "<table border=\"1\" class=\"dataframe\">\n",
       "  <thead>\n",
       "    <tr style=\"text-align: right;\">\n",
       "      <th>made_sla</th>\n",
       "      <th>False</th>\n",
       "      <th>True</th>\n",
       "    </tr>\n",
       "    <tr>\n",
       "      <th>incident_state</th>\n",
       "      <th></th>\n",
       "      <th></th>\n",
       "    </tr>\n",
       "  </thead>\n",
       "  <tbody>\n",
       "    <tr>\n",
       "      <th>Active</th>\n",
       "      <td>28</td>\n",
       "      <td>38693</td>\n",
       "    </tr>\n",
       "    <tr>\n",
       "      <th>Awaiting Evidence</th>\n",
       "      <td>0</td>\n",
       "      <td>38</td>\n",
       "    </tr>\n",
       "    <tr>\n",
       "      <th>Awaiting Problem</th>\n",
       "      <td>1</td>\n",
       "      <td>460</td>\n",
       "    </tr>\n",
       "    <tr>\n",
       "      <th>Awaiting User Info</th>\n",
       "      <td>20</td>\n",
       "      <td>14622</td>\n",
       "    </tr>\n",
       "    <tr>\n",
       "      <th>Awaiting Vendor</th>\n",
       "      <td>2</td>\n",
       "      <td>705</td>\n",
       "    </tr>\n",
       "    <tr>\n",
       "      <th>Closed</th>\n",
       "      <td>9154</td>\n",
       "      <td>15831</td>\n",
       "    </tr>\n",
       "    <tr>\n",
       "      <th>New</th>\n",
       "      <td>0</td>\n",
       "      <td>36407</td>\n",
       "    </tr>\n",
       "    <tr>\n",
       "      <th>Resolved</th>\n",
       "      <td>10</td>\n",
       "      <td>25741</td>\n",
       "    </tr>\n",
       "  </tbody>\n",
       "</table>\n",
       "</div>"
      ],
      "text/plain": [
       "made_sla            False  True \n",
       "incident_state                  \n",
       "Active                 28  38693\n",
       "Awaiting Evidence       0     38\n",
       "Awaiting Problem        1    460\n",
       "Awaiting User Info     20  14622\n",
       "Awaiting Vendor         2    705\n",
       "Closed               9154  15831\n",
       "New                     0  36407\n",
       "Resolved               10  25741"
      ]
     },
     "execution_count": 45,
     "metadata": {},
     "output_type": "execute_result"
    }
   ],
   "source": [
    "im=pd.crosstab(df.incident_state,df.made_sla)\n",
    "im"
   ]
  },
  {
   "cell_type": "code",
   "execution_count": 46,
   "metadata": {
    "colab": {
     "base_uri": "https://localhost:8080/",
     "height": 362
    },
    "executionInfo": {
     "elapsed": 120,
     "status": "ok",
     "timestamp": 1628681627884,
     "user": {
      "displayName": "sagar nagpal",
      "photoUrl": "https://lh3.googleusercontent.com/a-/AOh14GjDIuXJgSm71Ctdbko-AeQitxK-wq1j4-SXkuxktA=s64",
      "userId": "03790130100156359022"
     },
     "user_tz": -330
    },
    "id": "4V0jac9yuiS4",
    "outputId": "f2ed551a-746a-44ad-c9b0-664845c9e8e9"
   },
   "outputs": [
    {
     "data": {
      "image/png": "[encoded data removed]",
      "text/plain": [
       "<Figure size 432x288 with 1 Axes>"
      ]
     },
     "metadata": {
      "needs_background": "light"
     },
     "output_type": "display_data"
    }
   ],
   "source": [
    "im.plot.bar(stacked=True)\n",
    "plt.show()"
   ]
  },
  {
   "cell_type": "code",
   "execution_count": 47,
   "metadata": {
    "colab": {
     "base_uri": "https://localhost:8080/",
     "height": 320
    },
    "executionInfo": {
     "elapsed": 117,
     "status": "ok",
     "timestamp": 1628681627886,
     "user": {
      "displayName": "sagar nagpal",
      "photoUrl": "https://lh3.googleusercontent.com/a-/AOh14GjDIuXJgSm71Ctdbko-AeQitxK-wq1j4-SXkuxktA=s64",
      "userId": "03790130100156359022"
     },
     "user_tz": -330
    },
    "id": "_T77_HAoui7-",
    "outputId": "d43273e9-963c-4222-a9ce-beb886479652"
   },
   "outputs": [
    {
     "data": {
      "text/html": [
       "<div>\n",
       "<style scoped>\n",
       "    .dataframe tbody tr th:only-of-type {\n",
       "        vertical-align: middle;\n",
       "    }\n",
       "\n",
       "    .dataframe tbody tr th {\n",
       "        vertical-align: top;\n",
       "    }\n",
       "\n",
       "    .dataframe thead th {\n",
       "        text-align: right;\n",
       "    }\n",
       "</style>\n",
       "<table border=\"1\" class=\"dataframe\">\n",
       "  <thead>\n",
       "    <tr style=\"text-align: right;\">\n",
       "      <th>knowledge</th>\n",
       "      <th>False</th>\n",
       "      <th>True</th>\n",
       "    </tr>\n",
       "    <tr>\n",
       "      <th>incident_state</th>\n",
       "      <th></th>\n",
       "      <th></th>\n",
       "    </tr>\n",
       "  </thead>\n",
       "  <tbody>\n",
       "    <tr>\n",
       "      <th>Active</th>\n",
       "      <td>30653</td>\n",
       "      <td>8068</td>\n",
       "    </tr>\n",
       "    <tr>\n",
       "      <th>Awaiting Evidence</th>\n",
       "      <td>35</td>\n",
       "      <td>3</td>\n",
       "    </tr>\n",
       "    <tr>\n",
       "      <th>Awaiting Problem</th>\n",
       "      <td>275</td>\n",
       "      <td>186</td>\n",
       "    </tr>\n",
       "    <tr>\n",
       "      <th>Awaiting User Info</th>\n",
       "      <td>11069</td>\n",
       "      <td>3573</td>\n",
       "    </tr>\n",
       "    <tr>\n",
       "      <th>Awaiting Vendor</th>\n",
       "      <td>657</td>\n",
       "      <td>50</td>\n",
       "    </tr>\n",
       "    <tr>\n",
       "      <th>Closed</th>\n",
       "      <td>21418</td>\n",
       "      <td>3567</td>\n",
       "    </tr>\n",
       "    <tr>\n",
       "      <th>New</th>\n",
       "      <td>30206</td>\n",
       "      <td>6201</td>\n",
       "    </tr>\n",
       "    <tr>\n",
       "      <th>Resolved</th>\n",
       "      <td>22036</td>\n",
       "      <td>3715</td>\n",
       "    </tr>\n",
       "  </tbody>\n",
       "</table>\n",
       "</div>"
      ],
      "text/plain": [
       "knowledge           False  True \n",
       "incident_state                  \n",
       "Active              30653   8068\n",
       "Awaiting Evidence      35      3\n",
       "Awaiting Problem      275    186\n",
       "Awaiting User Info  11069   3573\n",
       "Awaiting Vendor       657     50\n",
       "Closed              21418   3567\n",
       "New                 30206   6201\n",
       "Resolved            22036   3715"
      ]
     },
     "execution_count": 47,
     "metadata": {},
     "output_type": "execute_result"
    }
   ],
   "source": [
    "ik=pd.crosstab(df.incident_state,df.knowledge)\n",
    "ik"
   ]
  },
  {
   "cell_type": "code",
   "execution_count": 48,
   "metadata": {
    "colab": {
     "base_uri": "https://localhost:8080/",
     "height": 362
    },
    "executionInfo": {
     "elapsed": 111,
     "status": "ok",
     "timestamp": 1628681627889,
     "user": {
      "displayName": "sagar nagpal",
      "photoUrl": "https://lh3.googleusercontent.com/a-/AOh14GjDIuXJgSm71Ctdbko-AeQitxK-wq1j4-SXkuxktA=s64",
      "userId": "03790130100156359022"
     },
     "user_tz": -330
    },
    "id": "DDqNEz1eujmv",
    "outputId": "063f4f77-c6a4-4ab3-cd32-c1ddf678f25b"
   },
   "outputs": [
    {
     "data": {
      "image/png": "[encoded data removed]",
      "text/plain": [
       "<Figure size 432x288 with 1 Axes>"
      ]
     },
     "metadata": {
      "needs_background": "light"
     },
     "output_type": "display_data"
    }
   ],
   "source": [
    "ik.plot.bar(stacked=True)\n",
    "plt.show()"
   ]
  },
  {
   "cell_type": "code",
   "execution_count": 49,
   "metadata": {
    "colab": {
     "base_uri": "https://localhost:8080/",
     "height": 320
    },
    "executionInfo": {
     "elapsed": 107,
     "status": "ok",
     "timestamp": 1628681627891,
     "user": {
      "displayName": "sagar nagpal",
      "photoUrl": "https://lh3.googleusercontent.com/a-/AOh14GjDIuXJgSm71Ctdbko-AeQitxK-wq1j4-SXkuxktA=s64",
      "userId": "03790130100156359022"
     },
     "user_tz": -330
    },
    "id": "AYr-OIKvuzn0",
    "outputId": "bcf7117b-9084-4b5c-875b-ebb7ff03907a"
   },
   "outputs": [
    {
     "data": {
      "text/html": [
       "<div>\n",
       "<style scoped>\n",
       "    .dataframe tbody tr th:only-of-type {\n",
       "        vertical-align: middle;\n",
       "    }\n",
       "\n",
       "    .dataframe tbody tr th {\n",
       "        vertical-align: top;\n",
       "    }\n",
       "\n",
       "    .dataframe thead th {\n",
       "        text-align: right;\n",
       "    }\n",
       "</style>\n",
       "<table border=\"1\" class=\"dataframe\">\n",
       "  <thead>\n",
       "    <tr style=\"text-align: right;\">\n",
       "      <th>impact</th>\n",
       "      <th>1 - High</th>\n",
       "      <th>2 - Medium</th>\n",
       "      <th>3 - Low</th>\n",
       "    </tr>\n",
       "    <tr>\n",
       "      <th>incident_state</th>\n",
       "      <th></th>\n",
       "      <th></th>\n",
       "      <th></th>\n",
       "    </tr>\n",
       "  </thead>\n",
       "  <tbody>\n",
       "    <tr>\n",
       "      <th>Active</th>\n",
       "      <td>960</td>\n",
       "      <td>36749</td>\n",
       "      <td>1012</td>\n",
       "    </tr>\n",
       "    <tr>\n",
       "      <th>Awaiting Evidence</th>\n",
       "      <td>4</td>\n",
       "      <td>32</td>\n",
       "      <td>2</td>\n",
       "    </tr>\n",
       "    <tr>\n",
       "      <th>Awaiting Problem</th>\n",
       "      <td>32</td>\n",
       "      <td>390</td>\n",
       "      <td>39</td>\n",
       "    </tr>\n",
       "    <tr>\n",
       "      <th>Awaiting User Info</th>\n",
       "      <td>235</td>\n",
       "      <td>13932</td>\n",
       "      <td>475</td>\n",
       "    </tr>\n",
       "    <tr>\n",
       "      <th>Awaiting Vendor</th>\n",
       "      <td>24</td>\n",
       "      <td>679</td>\n",
       "      <td>4</td>\n",
       "    </tr>\n",
       "    <tr>\n",
       "      <th>Closed</th>\n",
       "      <td>422</td>\n",
       "      <td>23809</td>\n",
       "      <td>754</td>\n",
       "    </tr>\n",
       "    <tr>\n",
       "      <th>New</th>\n",
       "      <td>1234</td>\n",
       "      <td>34320</td>\n",
       "      <td>853</td>\n",
       "    </tr>\n",
       "    <tr>\n",
       "      <th>Resolved</th>\n",
       "      <td>580</td>\n",
       "      <td>24424</td>\n",
       "      <td>747</td>\n",
       "    </tr>\n",
       "  </tbody>\n",
       "</table>\n",
       "</div>"
      ],
      "text/plain": [
       "impact              1 - High  2 - Medium  3 - Low\n",
       "incident_state                                   \n",
       "Active                   960       36749     1012\n",
       "Awaiting Evidence          4          32        2\n",
       "Awaiting Problem          32         390       39\n",
       "Awaiting User Info       235       13932      475\n",
       "Awaiting Vendor           24         679        4\n",
       "Closed                   422       23809      754\n",
       "New                     1234       34320      853\n",
       "Resolved                 580       24424      747"
      ]
     },
     "execution_count": 49,
     "metadata": {},
     "output_type": "execute_result"
    }
   ],
   "source": [
    "ii=pd.crosstab(df.incident_state,df.impact)\n",
    "ii"
   ]
  },
  {
   "cell_type": "code",
   "execution_count": 50,
   "metadata": {
    "colab": {
     "base_uri": "https://localhost:8080/",
     "height": 362
    },
    "executionInfo": {
     "elapsed": 105,
     "status": "ok",
     "timestamp": 1628681627894,
     "user": {
      "displayName": "sagar nagpal",
      "photoUrl": "https://lh3.googleusercontent.com/a-/AOh14GjDIuXJgSm71Ctdbko-AeQitxK-wq1j4-SXkuxktA=s64",
      "userId": "03790130100156359022"
     },
     "user_tz": -330
    },
    "id": "0FnuPEL9uzMU",
    "outputId": "696df7bf-242b-4733-a96a-a34ee84c5e17"
   },
   "outputs": [
    {
     "data": {
      "image/png": "[encoded data removed]",
      "text/plain": [
       "<Figure size 432x288 with 1 Axes>"
      ]
     },
     "metadata": {
      "needs_background": "light"
     },
     "output_type": "display_data"
    }
   ],
   "source": [
    "ii.plot.bar(stacked=True)\n",
    "plt.show()"
   ]
  },
  {
   "cell_type": "code",
   "execution_count": 51,
   "metadata": {
    "colab": {
     "base_uri": "https://localhost:8080/",
     "height": 138
    },
    "executionInfo": {
     "elapsed": 97,
     "status": "ok",
     "timestamp": 1628681627897,
     "user": {
      "displayName": "sagar nagpal",
      "photoUrl": "https://lh3.googleusercontent.com/a-/AOh14GjDIuXJgSm71Ctdbko-AeQitxK-wq1j4-SXkuxktA=s64",
      "userId": "03790130100156359022"
     },
     "user_tz": -330
    },
    "id": "FHRBBOwsuy1c",
    "outputId": "e0ec9105-a5f3-4f2c-a017-f4a817bfe4d8"
   },
   "outputs": [
    {
     "data": {
      "text/html": [
       "<div>\n",
       "<style scoped>\n",
       "    .dataframe tbody tr th:only-of-type {\n",
       "        vertical-align: middle;\n",
       "    }\n",
       "\n",
       "    .dataframe tbody tr th {\n",
       "        vertical-align: top;\n",
       "    }\n",
       "\n",
       "    .dataframe thead th {\n",
       "        text-align: right;\n",
       "    }\n",
       "</style>\n",
       "<table border=\"1\" class=\"dataframe\">\n",
       "  <thead>\n",
       "    <tr style=\"text-align: right;\">\n",
       "      <th>impact</th>\n",
       "      <th>1 - High</th>\n",
       "      <th>2 - Medium</th>\n",
       "      <th>3 - Low</th>\n",
       "    </tr>\n",
       "    <tr>\n",
       "      <th>active</th>\n",
       "      <th></th>\n",
       "      <th></th>\n",
       "      <th></th>\n",
       "    </tr>\n",
       "  </thead>\n",
       "  <tbody>\n",
       "    <tr>\n",
       "      <th>False</th>\n",
       "      <td>422</td>\n",
       "      <td>23810</td>\n",
       "      <td>754</td>\n",
       "    </tr>\n",
       "    <tr>\n",
       "      <th>True</th>\n",
       "      <td>3069</td>\n",
       "      <td>110525</td>\n",
       "      <td>3132</td>\n",
       "    </tr>\n",
       "  </tbody>\n",
       "</table>\n",
       "</div>"
      ],
      "text/plain": [
       "impact  1 - High  2 - Medium  3 - Low\n",
       "active                               \n",
       "False        422       23810      754\n",
       "True        3069      110525     3132"
      ]
     },
     "execution_count": 51,
     "metadata": {},
     "output_type": "execute_result"
    }
   ],
   "source": [
    "ai=pd.crosstab(df.active,df.impact)\n",
    "ai"
   ]
  },
  {
   "cell_type": "code",
   "execution_count": 52,
   "metadata": {
    "colab": {
     "base_uri": "https://localhost:8080/",
     "height": 295
    },
    "executionInfo": {
     "elapsed": 1041,
     "status": "ok",
     "timestamp": 1628681628846,
     "user": {
      "displayName": "sagar nagpal",
      "photoUrl": "https://lh3.googleusercontent.com/a-/AOh14GjDIuXJgSm71Ctdbko-AeQitxK-wq1j4-SXkuxktA=s64",
      "userId": "03790130100156359022"
     },
     "user_tz": -330
    },
    "id": "_HktEguFvBiN",
    "outputId": "a800eb9e-e128-421c-d05e-59182eecf081"
   },
   "outputs": [
    {
     "data": {
      "image/png": "[encoded data removed]",
      "text/plain": [
       "<Figure size 432x288 with 1 Axes>"
      ]
     },
     "metadata": {
      "needs_background": "light"
     },
     "output_type": "display_data"
    }
   ],
   "source": [
    "ai.plot.bar(stacked=True)\n",
    "plt.show()"
   ]
  },
  {
   "cell_type": "code",
   "execution_count": 53,
   "metadata": {
    "colab": {
     "base_uri": "https://localhost:8080/",
     "height": 835
    },
    "executionInfo": {
     "elapsed": 4950,
     "status": "ok",
     "timestamp": 1628681633785,
     "user": {
      "displayName": "sagar nagpal",
      "photoUrl": "https://lh3.googleusercontent.com/a-/AOh14GjDIuXJgSm71Ctdbko-AeQitxK-wq1j4-SXkuxktA=s64",
      "userId": "03790130100156359022"
     },
     "user_tz": -330
    },
    "id": "YWGdPXsFvBW-",
    "outputId": "b5682730-0c8f-4ba5-f078-6dbf0d0b68db"
   },
   "outputs": [
    {
     "data": {
      "text/html": [
       "<div>\n",
       "<style scoped>\n",
       "    .dataframe tbody tr th:only-of-type {\n",
       "        vertical-align: middle;\n",
       "    }\n",
       "\n",
       "    .dataframe tbody tr th {\n",
       "        vertical-align: top;\n",
       "    }\n",
       "\n",
       "    .dataframe thead th {\n",
       "        text-align: right;\n",
       "    }\n",
       "</style>\n",
       "<table border=\"1\" class=\"dataframe\">\n",
       "  <thead>\n",
       "    <tr style=\"text-align: right;\">\n",
       "      <th></th>\n",
       "      <th>x</th>\n",
       "      <th>y</th>\n",
       "      <th>ppscore</th>\n",
       "      <th>case</th>\n",
       "      <th>is_valid_score</th>\n",
       "      <th>metric</th>\n",
       "      <th>baseline_score</th>\n",
       "      <th>model_score</th>\n",
       "      <th>model</th>\n",
       "    </tr>\n",
       "  </thead>\n",
       "  <tbody>\n",
       "    <tr>\n",
       "      <th>0</th>\n",
       "      <td>number</td>\n",
       "      <td>impact</td>\n",
       "      <td>2.112581e-01</td>\n",
       "      <td>classification</td>\n",
       "      <td>True</td>\n",
       "      <td>weighted F1</td>\n",
       "      <td>0.920044</td>\n",
       "      <td>0.936935</td>\n",
       "      <td>DecisionTreeClassifier()</td>\n",
       "    </tr>\n",
       "    <tr>\n",
       "      <th>1</th>\n",
       "      <td>resolved_at</td>\n",
       "      <td>impact</td>\n",
       "      <td>2.051733e-01</td>\n",
       "      <td>classification</td>\n",
       "      <td>True</td>\n",
       "      <td>weighted F1</td>\n",
       "      <td>0.920044</td>\n",
       "      <td>0.936449</td>\n",
       "      <td>DecisionTreeClassifier()</td>\n",
       "    </tr>\n",
       "    <tr>\n",
       "      <th>2</th>\n",
       "      <td>opened_at</td>\n",
       "      <td>impact</td>\n",
       "      <td>1.895234e-01</td>\n",
       "      <td>classification</td>\n",
       "      <td>True</td>\n",
       "      <td>weighted F1</td>\n",
       "      <td>0.920044</td>\n",
       "      <td>0.935197</td>\n",
       "      <td>DecisionTreeClassifier()</td>\n",
       "    </tr>\n",
       "    <tr>\n",
       "      <th>3</th>\n",
       "      <td>resolved_by</td>\n",
       "      <td>impact</td>\n",
       "      <td>9.983906e-02</td>\n",
       "      <td>classification</td>\n",
       "      <td>True</td>\n",
       "      <td>weighted F1</td>\n",
       "      <td>0.920044</td>\n",
       "      <td>0.928026</td>\n",
       "      <td>DecisionTreeClassifier()</td>\n",
       "    </tr>\n",
       "    <tr>\n",
       "      <th>4</th>\n",
       "      <td>closed_at</td>\n",
       "      <td>impact</td>\n",
       "      <td>7.569195e-02</td>\n",
       "      <td>classification</td>\n",
       "      <td>True</td>\n",
       "      <td>weighted F1</td>\n",
       "      <td>0.920044</td>\n",
       "      <td>0.926096</td>\n",
       "      <td>DecisionTreeClassifier()</td>\n",
       "    </tr>\n",
       "    <tr>\n",
       "      <th>5</th>\n",
       "      <td>sys_updated_by</td>\n",
       "      <td>impact</td>\n",
       "      <td>5.360893e-02</td>\n",
       "      <td>classification</td>\n",
       "      <td>True</td>\n",
       "      <td>weighted F1</td>\n",
       "      <td>0.920044</td>\n",
       "      <td>0.924330</td>\n",
       "      <td>DecisionTreeClassifier()</td>\n",
       "    </tr>\n",
       "    <tr>\n",
       "      <th>6</th>\n",
       "      <td>opened_by</td>\n",
       "      <td>impact</td>\n",
       "      <td>5.260372e-02</td>\n",
       "      <td>classification</td>\n",
       "      <td>True</td>\n",
       "      <td>weighted F1</td>\n",
       "      <td>0.920044</td>\n",
       "      <td>0.924250</td>\n",
       "      <td>DecisionTreeClassifier()</td>\n",
       "    </tr>\n",
       "    <tr>\n",
       "      <th>7</th>\n",
       "      <td>caller_id</td>\n",
       "      <td>impact</td>\n",
       "      <td>3.533860e-02</td>\n",
       "      <td>classification</td>\n",
       "      <td>True</td>\n",
       "      <td>weighted F1</td>\n",
       "      <td>0.920044</td>\n",
       "      <td>0.922869</td>\n",
       "      <td>DecisionTreeClassifier()</td>\n",
       "    </tr>\n",
       "    <tr>\n",
       "      <th>8</th>\n",
       "      <td>assigned_to</td>\n",
       "      <td>impact</td>\n",
       "      <td>3.497895e-02</td>\n",
       "      <td>classification</td>\n",
       "      <td>True</td>\n",
       "      <td>weighted F1</td>\n",
       "      <td>0.920044</td>\n",
       "      <td>0.922840</td>\n",
       "      <td>DecisionTreeClassifier()</td>\n",
       "    </tr>\n",
       "    <tr>\n",
       "      <th>9</th>\n",
       "      <td>assignment_group</td>\n",
       "      <td>impact</td>\n",
       "      <td>4.732871e-03</td>\n",
       "      <td>classification</td>\n",
       "      <td>True</td>\n",
       "      <td>weighted F1</td>\n",
       "      <td>0.920044</td>\n",
       "      <td>0.920422</td>\n",
       "      <td>DecisionTreeClassifier()</td>\n",
       "    </tr>\n",
       "    <tr>\n",
       "      <th>10</th>\n",
       "      <td>location</td>\n",
       "      <td>impact</td>\n",
       "      <td>3.145587e-03</td>\n",
       "      <td>classification</td>\n",
       "      <td>True</td>\n",
       "      <td>weighted F1</td>\n",
       "      <td>0.920044</td>\n",
       "      <td>0.920295</td>\n",
       "      <td>DecisionTreeClassifier()</td>\n",
       "    </tr>\n",
       "    <tr>\n",
       "      <th>11</th>\n",
       "      <td>u_symptom</td>\n",
       "      <td>impact</td>\n",
       "      <td>2.903694e-03</td>\n",
       "      <td>classification</td>\n",
       "      <td>True</td>\n",
       "      <td>weighted F1</td>\n",
       "      <td>0.920044</td>\n",
       "      <td>0.920276</td>\n",
       "      <td>DecisionTreeClassifier()</td>\n",
       "    </tr>\n",
       "    <tr>\n",
       "      <th>12</th>\n",
       "      <td>subcategory</td>\n",
       "      <td>impact</td>\n",
       "      <td>2.160913e-03</td>\n",
       "      <td>classification</td>\n",
       "      <td>True</td>\n",
       "      <td>weighted F1</td>\n",
       "      <td>0.920044</td>\n",
       "      <td>0.920216</td>\n",
       "      <td>DecisionTreeClassifier()</td>\n",
       "    </tr>\n",
       "    <tr>\n",
       "      <th>13</th>\n",
       "      <td>incident_state</td>\n",
       "      <td>impact</td>\n",
       "      <td>4.072724e-07</td>\n",
       "      <td>classification</td>\n",
       "      <td>True</td>\n",
       "      <td>weighted F1</td>\n",
       "      <td>0.920044</td>\n",
       "      <td>0.920044</td>\n",
       "      <td>DecisionTreeClassifier()</td>\n",
       "    </tr>\n",
       "    <tr>\n",
       "      <th>14</th>\n",
       "      <td>active</td>\n",
       "      <td>impact</td>\n",
       "      <td>4.072724e-07</td>\n",
       "      <td>classification</td>\n",
       "      <td>True</td>\n",
       "      <td>weighted F1</td>\n",
       "      <td>0.920044</td>\n",
       "      <td>0.920044</td>\n",
       "      <td>DecisionTreeClassifier()</td>\n",
       "    </tr>\n",
       "    <tr>\n",
       "      <th>15</th>\n",
       "      <td>reassignment_count</td>\n",
       "      <td>impact</td>\n",
       "      <td>4.072724e-07</td>\n",
       "      <td>classification</td>\n",
       "      <td>True</td>\n",
       "      <td>weighted F1</td>\n",
       "      <td>0.920044</td>\n",
       "      <td>0.920044</td>\n",
       "      <td>DecisionTreeClassifier()</td>\n",
       "    </tr>\n",
       "    <tr>\n",
       "      <th>16</th>\n",
       "      <td>reopen_count</td>\n",
       "      <td>impact</td>\n",
       "      <td>4.072724e-07</td>\n",
       "      <td>classification</td>\n",
       "      <td>True</td>\n",
       "      <td>weighted F1</td>\n",
       "      <td>0.920044</td>\n",
       "      <td>0.920044</td>\n",
       "      <td>DecisionTreeClassifier()</td>\n",
       "    </tr>\n",
       "    <tr>\n",
       "      <th>17</th>\n",
       "      <td>made_sla</td>\n",
       "      <td>impact</td>\n",
       "      <td>4.072724e-07</td>\n",
       "      <td>classification</td>\n",
       "      <td>True</td>\n",
       "      <td>weighted F1</td>\n",
       "      <td>0.920044</td>\n",
       "      <td>0.920044</td>\n",
       "      <td>DecisionTreeClassifier()</td>\n",
       "    </tr>\n",
       "    <tr>\n",
       "      <th>18</th>\n",
       "      <td>contact_type</td>\n",
       "      <td>impact</td>\n",
       "      <td>4.072724e-07</td>\n",
       "      <td>classification</td>\n",
       "      <td>True</td>\n",
       "      <td>weighted F1</td>\n",
       "      <td>0.920044</td>\n",
       "      <td>0.920044</td>\n",
       "      <td>DecisionTreeClassifier()</td>\n",
       "    </tr>\n",
       "    <tr>\n",
       "      <th>19</th>\n",
       "      <td>knowledge</td>\n",
       "      <td>impact</td>\n",
       "      <td>4.072724e-07</td>\n",
       "      <td>classification</td>\n",
       "      <td>True</td>\n",
       "      <td>weighted F1</td>\n",
       "      <td>0.920044</td>\n",
       "      <td>0.920044</td>\n",
       "      <td>DecisionTreeClassifier()</td>\n",
       "    </tr>\n",
       "    <tr>\n",
       "      <th>20</th>\n",
       "      <td>u_priority_confirmation</td>\n",
       "      <td>impact</td>\n",
       "      <td>4.072724e-07</td>\n",
       "      <td>classification</td>\n",
       "      <td>True</td>\n",
       "      <td>weighted F1</td>\n",
       "      <td>0.920044</td>\n",
       "      <td>0.920044</td>\n",
       "      <td>DecisionTreeClassifier()</td>\n",
       "    </tr>\n",
       "    <tr>\n",
       "      <th>21</th>\n",
       "      <td>notify</td>\n",
       "      <td>impact</td>\n",
       "      <td>4.072724e-07</td>\n",
       "      <td>classification</td>\n",
       "      <td>True</td>\n",
       "      <td>weighted F1</td>\n",
       "      <td>0.920044</td>\n",
       "      <td>0.920044</td>\n",
       "      <td>DecisionTreeClassifier()</td>\n",
       "    </tr>\n",
       "    <tr>\n",
       "      <th>22</th>\n",
       "      <td>closed_code</td>\n",
       "      <td>impact</td>\n",
       "      <td>4.072724e-07</td>\n",
       "      <td>classification</td>\n",
       "      <td>True</td>\n",
       "      <td>weighted F1</td>\n",
       "      <td>0.920044</td>\n",
       "      <td>0.920044</td>\n",
       "      <td>DecisionTreeClassifier()</td>\n",
       "    </tr>\n",
       "    <tr>\n",
       "      <th>23</th>\n",
       "      <td>sys_mod_count</td>\n",
       "      <td>impact</td>\n",
       "      <td>0.000000e+00</td>\n",
       "      <td>classification</td>\n",
       "      <td>True</td>\n",
       "      <td>weighted F1</td>\n",
       "      <td>0.920044</td>\n",
       "      <td>0.919644</td>\n",
       "      <td>DecisionTreeClassifier()</td>\n",
       "    </tr>\n",
       "    <tr>\n",
       "      <th>24</th>\n",
       "      <td>sys_updated_at</td>\n",
       "      <td>impact</td>\n",
       "      <td>0.000000e+00</td>\n",
       "      <td>classification</td>\n",
       "      <td>True</td>\n",
       "      <td>weighted F1</td>\n",
       "      <td>0.920044</td>\n",
       "      <td>0.918283</td>\n",
       "      <td>DecisionTreeClassifier()</td>\n",
       "    </tr>\n",
       "    <tr>\n",
       "      <th>25</th>\n",
       "      <td>category</td>\n",
       "      <td>impact</td>\n",
       "      <td>0.000000e+00</td>\n",
       "      <td>classification</td>\n",
       "      <td>True</td>\n",
       "      <td>weighted F1</td>\n",
       "      <td>0.920044</td>\n",
       "      <td>0.919543</td>\n",
       "      <td>DecisionTreeClassifier()</td>\n",
       "    </tr>\n",
       "  </tbody>\n",
       "</table>\n",
       "</div>"
      ],
      "text/plain": [
       "                          x       y       ppscore            case  \\\n",
       "0                    number  impact  2.112581e-01  classification   \n",
       "1               resolved_at  impact  2.051733e-01  classification   \n",
       "2                 opened_at  impact  1.895234e-01  classification   \n",
       "3               resolved_by  impact  9.983906e-02  classification   \n",
       "4                 closed_at  impact  7.569195e-02  classification   \n",
       "5            sys_updated_by  impact  5.360893e-02  classification   \n",
       "6                 opened_by  impact  5.260372e-02  classification   \n",
       "7                 caller_id  impact  3.533860e-02  classification   \n",
       "8               assigned_to  impact  3.497895e-02  classification   \n",
       "9          assignment_group  impact  4.732871e-03  classification   \n",
       "10                 location  impact  3.145587e-03  classification   \n",
       "11                u_symptom  impact  2.903694e-03  classification   \n",
       "12              subcategory  impact  2.160913e-03  classification   \n",
       "13           incident_state  impact  4.072724e-07  classification   \n",
       "14                   active  impact  4.072724e-07  classification   \n",
       "15       reassignment_count  impact  4.072724e-07  classification   \n",
       "16             reopen_count  impact  4.072724e-07  classification   \n",
       "17                 made_sla  impact  4.072724e-07  classification   \n",
       "18             contact_type  impact  4.072724e-07  classification   \n",
       "19                knowledge  impact  4.072724e-07  classification   \n",
       "20  u_priority_confirmation  impact  4.072724e-07  classification   \n",
       "21                   notify  impact  4.072724e-07  classification   \n",
       "22              closed_code  impact  4.072724e-07  classification   \n",
       "23            sys_mod_count  impact  0.000000e+00  classification   \n",
       "24           sys_updated_at  impact  0.000000e+00  classification   \n",
       "25                 category  impact  0.000000e+00  classification   \n",
       "\n",
       "    is_valid_score       metric  baseline_score  model_score  \\\n",
       "0             True  weighted F1        0.920044     0.936935   \n",
       "1             True  weighted F1        0.920044     0.936449   \n",
       "2             True  weighted F1        0.920044     0.935197   \n",
       "3             True  weighted F1        0.920044     0.928026   \n",
       "4             True  weighted F1        0.920044     0.926096   \n",
       "5             True  weighted F1        0.920044     0.924330   \n",
       "6             True  weighted F1        0.920044     0.924250   \n",
       "7             True  weighted F1        0.920044     0.922869   \n",
       "8             True  weighted F1        0.920044     0.922840   \n",
       "9             True  weighted F1        0.920044     0.920422   \n",
       "10            True  weighted F1        0.920044     0.920295   \n",
       "11            True  weighted F1        0.920044     0.920276   \n",
       "12            True  weighted F1        0.920044     0.920216   \n",
       "13            True  weighted F1        0.920044     0.920044   \n",
       "14            True  weighted F1        0.920044     0.920044   \n",
       "15            True  weighted F1        0.920044     0.920044   \n",
       "16            True  weighted F1        0.920044     0.920044   \n",
       "17            True  weighted F1        0.920044     0.920044   \n",
       "18            True  weighted F1        0.920044     0.920044   \n",
       "19            True  weighted F1        0.920044     0.920044   \n",
       "20            True  weighted F1        0.920044     0.920044   \n",
       "21            True  weighted F1        0.920044     0.920044   \n",
       "22            True  weighted F1        0.920044     0.920044   \n",
       "23            True  weighted F1        0.920044     0.919644   \n",
       "24            True  weighted F1        0.920044     0.918283   \n",
       "25            True  weighted F1        0.920044     0.919543   \n",
       "\n",
       "                       model  \n",
       "0   DecisionTreeClassifier()  \n",
       "1   DecisionTreeClassifier()  \n",
       "2   DecisionTreeClassifier()  \n",
       "3   DecisionTreeClassifier()  \n",
       "4   DecisionTreeClassifier()  \n",
       "5   DecisionTreeClassifier()  \n",
       "6   DecisionTreeClassifier()  \n",
       "7   DecisionTreeClassifier()  \n",
       "8   DecisionTreeClassifier()  \n",
       "9   DecisionTreeClassifier()  \n",
       "10  DecisionTreeClassifier()  \n",
       "11  DecisionTreeClassifier()  \n",
       "12  DecisionTreeClassifier()  \n",
       "13  DecisionTreeClassifier()  \n",
       "14  DecisionTreeClassifier()  \n",
       "15  DecisionTreeClassifier()  \n",
       "16  DecisionTreeClassifier()  \n",
       "17  DecisionTreeClassifier()  \n",
       "18  DecisionTreeClassifier()  \n",
       "19  DecisionTreeClassifier()  \n",
       "20  DecisionTreeClassifier()  \n",
       "21  DecisionTreeClassifier()  \n",
       "22  DecisionTreeClassifier()  \n",
       "23  DecisionTreeClassifier()  \n",
       "24  DecisionTreeClassifier()  \n",
       "25  DecisionTreeClassifier()  "
      ]
     },
     "execution_count": 53,
     "metadata": {},
     "output_type": "execute_result"
    }
   ],
   "source": [
    "import ppscore as pps\n",
    "pps.predictors(df,\"impact\") #We can calculate the PPS of all the predictors in the dataframe against a target y"
   ]
  },
  {
   "cell_type": "markdown",
   "metadata": {
    "id": "PB2h6_0bsAWN"
   },
   "source": [
    "# Encoding the Data"
   ]
  },
  {
   "cell_type": "code",
   "execution_count": 54,
   "metadata": {
    "executionInfo": {
     "elapsed": 195,
     "status": "ok",
     "timestamp": 1628681633789,
     "user": {
      "displayName": "sagar nagpal",
      "photoUrl": "https://lh3.googleusercontent.com/a-/AOh14GjDIuXJgSm71Ctdbko-AeQitxK-wq1j4-SXkuxktA=s64",
      "userId": "03790130100156359022"
     },
     "user_tz": -330
    },
    "id": "rCcMoCKklHQH"
   },
   "outputs": [],
   "source": [
    "#encoding the data using inbuilt coding\n",
    "df['impact'].replace({'1 - High':1,'2 - Medium':2, '3 - Low':3},inplace=True)"
   ]
  },
  {
   "cell_type": "code",
   "execution_count": 55,
   "metadata": {
    "executionInfo": {
     "elapsed": 191,
     "status": "ok",
     "timestamp": 1628681633793,
     "user": {
      "displayName": "sagar nagpal",
      "photoUrl": "https://lh3.googleusercontent.com/a-/AOh14GjDIuXJgSm71Ctdbko-AeQitxK-wq1j4-SXkuxktA=s64",
      "userId": "03790130100156359022"
     },
     "user_tz": -330
    },
    "id": "sSDjvFu_tpvt"
   },
   "outputs": [],
   "source": [
    "bool_c = df.select_dtypes(include = 'bool').columns"
   ]
  },
  {
   "cell_type": "code",
   "execution_count": 56,
   "metadata": {
    "executionInfo": {
     "elapsed": 186,
     "status": "ok",
     "timestamp": 1628681633799,
     "user": {
      "displayName": "sagar nagpal",
      "photoUrl": "https://lh3.googleusercontent.com/a-/AOh14GjDIuXJgSm71Ctdbko-AeQitxK-wq1j4-SXkuxktA=s64",
      "userId": "03790130100156359022"
     },
     "user_tz": -330
    },
    "id": "35QrWsGWlL0a"
   },
   "outputs": [],
   "source": [
    "for i in bool_c:\n",
    "    df[bool_c] = df[bool_c].astype('int')"
   ]
  },
  {
   "cell_type": "code",
   "execution_count": 57,
   "metadata": {
    "executionInfo": {
     "elapsed": 186,
     "status": "ok",
     "timestamp": 1628681633804,
     "user": {
      "displayName": "sagar nagpal",
      "photoUrl": "https://lh3.googleusercontent.com/a-/AOh14GjDIuXJgSm71Ctdbko-AeQitxK-wq1j4-SXkuxktA=s64",
      "userId": "03790130100156359022"
     },
     "user_tz": -330
    },
    "id": "sg24q-mRlUhy"
   },
   "outputs": [],
   "source": [
    "from sklearn import preprocessing"
   ]
  },
  {
   "cell_type": "code",
   "execution_count": 58,
   "metadata": {
    "executionInfo": {
     "elapsed": 184,
     "status": "ok",
     "timestamp": 1628681633808,
     "user": {
      "displayName": "sagar nagpal",
      "photoUrl": "https://lh3.googleusercontent.com/a-/AOh14GjDIuXJgSm71Ctdbko-AeQitxK-wq1j4-SXkuxktA=s64",
      "userId": "03790130100156359022"
     },
     "user_tz": -330
    },
    "id": "48z860nVlV4x"
   },
   "outputs": [],
   "source": [
    "label_encoder=preprocessing.LabelEncoder()"
   ]
  },
  {
   "cell_type": "code",
   "execution_count": 59,
   "metadata": {
    "executionInfo": {
     "elapsed": 199,
     "status": "ok",
     "timestamp": 1628681633828,
     "user": {
      "displayName": "sagar nagpal",
      "photoUrl": "https://lh3.googleusercontent.com/a-/AOh14GjDIuXJgSm71Ctdbko-AeQitxK-wq1j4-SXkuxktA=s64",
      "userId": "03790130100156359022"
     },
     "user_tz": -330
    },
    "id": "DIJjen6mvh9s"
   },
   "outputs": [],
   "source": [
    "for column_name in df.columns:\n",
    "    if df[column_name].dtype == object:\n",
    "        df[column_name] = label_encoder.fit_transform(df[column_name])\n",
    "    else:\n",
    "        pass"
   ]
  },
  {
   "cell_type": "code",
   "execution_count": 60,
   "metadata": {
    "colab": {
     "base_uri": "https://localhost:8080/"
    },
    "executionInfo": {
     "elapsed": 204,
     "status": "ok",
     "timestamp": 1628681633838,
     "user": {
      "displayName": "sagar nagpal",
      "photoUrl": "https://lh3.googleusercontent.com/a-/AOh14GjDIuXJgSm71Ctdbko-AeQitxK-wq1j4-SXkuxktA=s64",
      "userId": "03790130100156359022"
     },
     "user_tz": -330
    },
    "id": "5rpbbsn9vEO8",
    "outputId": "b0b3df43-fe7f-4102-9b26-3c76af8c9536"
   },
   "outputs": [
    {
     "name": "stdout",
     "output_type": "stream",
     "text": [
      "<class 'pandas.core.frame.DataFrame'>\n",
      "Int64Index: 141712 entries, 0 to 141711\n",
      "Data columns (total 27 columns):\n",
      " #   Column                   Non-Null Count   Dtype\n",
      "---  ------                   --------------   -----\n",
      " 0   number                   141712 non-null  int32\n",
      " 1   incident_state           141712 non-null  int32\n",
      " 2   active                   141712 non-null  int32\n",
      " 3   reassignment_count       141712 non-null  int64\n",
      " 4   reopen_count             141712 non-null  int64\n",
      " 5   sys_mod_count            141712 non-null  int64\n",
      " 6   made_sla                 141712 non-null  int32\n",
      " 7   caller_id                141712 non-null  int32\n",
      " 8   opened_by                141712 non-null  int32\n",
      " 9   opened_at                141712 non-null  int32\n",
      " 10  sys_updated_by           141712 non-null  int32\n",
      " 11  sys_updated_at           141712 non-null  int32\n",
      " 12  contact_type             141712 non-null  int32\n",
      " 13  location                 141712 non-null  int32\n",
      " 14  category                 141712 non-null  int32\n",
      " 15  subcategory              141712 non-null  int32\n",
      " 16  u_symptom                141712 non-null  int32\n",
      " 17  impact                   141712 non-null  int64\n",
      " 18  assignment_group         141712 non-null  int32\n",
      " 19  assigned_to              141712 non-null  int32\n",
      " 20  knowledge                141712 non-null  int32\n",
      " 21  u_priority_confirmation  141712 non-null  int32\n",
      " 22  notify                   141712 non-null  int32\n",
      " 23  closed_code              141712 non-null  int32\n",
      " 24  resolved_by              141712 non-null  int32\n",
      " 25  resolved_at              141712 non-null  int32\n",
      " 26  closed_at                141712 non-null  int32\n",
      "dtypes: int32(23), int64(4)\n",
      "memory usage: 22.8 MB\n"
     ]
    }
   ],
   "source": [
    "df.info()"
   ]
  },
  {
   "cell_type": "code",
   "execution_count": 61,
   "metadata": {
    "colab": {
     "base_uri": "https://localhost:8080/"
    },
    "executionInfo": {
     "elapsed": 153,
     "status": "ok",
     "timestamp": 1628681633842,
     "user": {
      "displayName": "sagar nagpal",
      "photoUrl": "https://lh3.googleusercontent.com/a-/AOh14GjDIuXJgSm71Ctdbko-AeQitxK-wq1j4-SXkuxktA=s64",
      "userId": "03790130100156359022"
     },
     "user_tz": -330
    },
    "id": "TjtfF8QylZtG",
    "outputId": "dda422b1-51ca-4c0b-c77b-d137692189ee"
   },
   "outputs": [
    {
     "data": {
      "text/plain": [
       "array([2, 1, 3], dtype=int64)"
      ]
     },
     "execution_count": 61,
     "metadata": {},
     "output_type": "execute_result"
    }
   ],
   "source": [
    "df['impact'].unique()"
   ]
  },
  {
   "cell_type": "code",
   "execution_count": 62,
   "metadata": {
    "executionInfo": {
     "elapsed": 110,
     "status": "ok",
     "timestamp": 1628681633847,
     "user": {
      "displayName": "sagar nagpal",
      "photoUrl": "https://lh3.googleusercontent.com/a-/AOh14GjDIuXJgSm71Ctdbko-AeQitxK-wq1j4-SXkuxktA=s64",
      "userId": "03790130100156359022"
     },
     "user_tz": -330
    },
    "id": "_DqwaDcRlc5U"
   },
   "outputs": [],
   "source": [
    "df1=df.copy()"
   ]
  },
  {
   "cell_type": "code",
   "execution_count": 63,
   "metadata": {
    "executionInfo": {
     "elapsed": 2249,
     "status": "ok",
     "timestamp": 1628681635991,
     "user": {
      "displayName": "sagar nagpal",
      "photoUrl": "https://lh3.googleusercontent.com/a-/AOh14GjDIuXJgSm71Ctdbko-AeQitxK-wq1j4-SXkuxktA=s64",
      "userId": "03790130100156359022"
     },
     "user_tz": -330
    },
    "id": "04odd1WKvs9u"
   },
   "outputs": [],
   "source": [
    "df.to_csv(\"incidents.csv\")"
   ]
  },
  {
   "cell_type": "markdown",
   "metadata": {
    "id": "-GdA9PfJx_hX"
   },
   "source": [
    "## Converting data into X(features), and y(target column)"
   ]
  },
  {
   "cell_type": "code",
   "execution_count": 64,
   "metadata": {
    "executionInfo": {
     "elapsed": 449,
     "status": "ok",
     "timestamp": 1628681636011,
     "user": {
      "displayName": "sagar nagpal",
      "photoUrl": "https://lh3.googleusercontent.com/a-/AOh14GjDIuXJgSm71Ctdbko-AeQitxK-wq1j4-SXkuxktA=s64",
      "userId": "03790130100156359022"
     },
     "user_tz": -330
    },
    "id": "HyKX4hrwlgpO"
   },
   "outputs": [],
   "source": [
    "X=df.drop('impact', axis = 1)"
   ]
  },
  {
   "cell_type": "code",
   "execution_count": 65,
   "metadata": {
    "executionInfo": {
     "elapsed": 454,
     "status": "ok",
     "timestamp": 1628681636019,
     "user": {
      "displayName": "sagar nagpal",
      "photoUrl": "https://lh3.googleusercontent.com/a-/AOh14GjDIuXJgSm71Ctdbko-AeQitxK-wq1j4-SXkuxktA=s64",
      "userId": "03790130100156359022"
     },
     "user_tz": -330
    },
    "id": "mClwyPGAlh2d"
   },
   "outputs": [],
   "source": [
    "y=df.iloc[:,17]"
   ]
  },
  {
   "cell_type": "code",
   "execution_count": 66,
   "metadata": {
    "colab": {
     "base_uri": "https://localhost:8080/",
     "height": 220
    },
    "executionInfo": {
     "elapsed": 470,
     "status": "ok",
     "timestamp": 1628681636039,
     "user": {
      "displayName": "sagar nagpal",
      "photoUrl": "https://lh3.googleusercontent.com/a-/AOh14GjDIuXJgSm71Ctdbko-AeQitxK-wq1j4-SXkuxktA=s64",
      "userId": "03790130100156359022"
     },
     "user_tz": -330
    },
    "id": "FftFx1zpljEd",
    "outputId": "bf5ae3a0-3a05-4c76-8a84-afd391d41211"
   },
   "outputs": [
    {
     "data": {
      "text/html": [
       "<div>\n",
       "<style scoped>\n",
       "    .dataframe tbody tr th:only-of-type {\n",
       "        vertical-align: middle;\n",
       "    }\n",
       "\n",
       "    .dataframe tbody tr th {\n",
       "        vertical-align: top;\n",
       "    }\n",
       "\n",
       "    .dataframe thead th {\n",
       "        text-align: right;\n",
       "    }\n",
       "</style>\n",
       "<table border=\"1\" class=\"dataframe\">\n",
       "  <thead>\n",
       "    <tr style=\"text-align: right;\">\n",
       "      <th></th>\n",
       "      <th>number</th>\n",
       "      <th>incident_state</th>\n",
       "      <th>active</th>\n",
       "      <th>reassignment_count</th>\n",
       "      <th>reopen_count</th>\n",
       "      <th>sys_mod_count</th>\n",
       "      <th>made_sla</th>\n",
       "      <th>caller_id</th>\n",
       "      <th>opened_by</th>\n",
       "      <th>opened_at</th>\n",
       "      <th>...</th>\n",
       "      <th>u_symptom</th>\n",
       "      <th>assignment_group</th>\n",
       "      <th>assigned_to</th>\n",
       "      <th>knowledge</th>\n",
       "      <th>u_priority_confirmation</th>\n",
       "      <th>notify</th>\n",
       "      <th>closed_code</th>\n",
       "      <th>resolved_by</th>\n",
       "      <th>resolved_at</th>\n",
       "      <th>closed_at</th>\n",
       "    </tr>\n",
       "  </thead>\n",
       "  <tbody>\n",
       "    <tr>\n",
       "      <th>0</th>\n",
       "      <td>0</td>\n",
       "      <td>6</td>\n",
       "      <td>1</td>\n",
       "      <td>0</td>\n",
       "      <td>0</td>\n",
       "      <td>0</td>\n",
       "      <td>1</td>\n",
       "      <td>1462</td>\n",
       "      <td>200</td>\n",
       "      <td>1435</td>\n",
       "      <td>...</td>\n",
       "      <td>502</td>\n",
       "      <td>47</td>\n",
       "      <td>162</td>\n",
       "      <td>1</td>\n",
       "      <td>0</td>\n",
       "      <td>0</td>\n",
       "      <td>12</td>\n",
       "      <td>51</td>\n",
       "      <td>1262</td>\n",
       "      <td>2209</td>\n",
       "    </tr>\n",
       "    <tr>\n",
       "      <th>1</th>\n",
       "      <td>0</td>\n",
       "      <td>7</td>\n",
       "      <td>1</td>\n",
       "      <td>0</td>\n",
       "      <td>0</td>\n",
       "      <td>2</td>\n",
       "      <td>1</td>\n",
       "      <td>1462</td>\n",
       "      <td>200</td>\n",
       "      <td>1435</td>\n",
       "      <td>...</td>\n",
       "      <td>502</td>\n",
       "      <td>47</td>\n",
       "      <td>162</td>\n",
       "      <td>1</td>\n",
       "      <td>0</td>\n",
       "      <td>0</td>\n",
       "      <td>12</td>\n",
       "      <td>51</td>\n",
       "      <td>1262</td>\n",
       "      <td>2209</td>\n",
       "    </tr>\n",
       "    <tr>\n",
       "      <th>2</th>\n",
       "      <td>0</td>\n",
       "      <td>7</td>\n",
       "      <td>1</td>\n",
       "      <td>0</td>\n",
       "      <td>0</td>\n",
       "      <td>3</td>\n",
       "      <td>1</td>\n",
       "      <td>1462</td>\n",
       "      <td>200</td>\n",
       "      <td>1435</td>\n",
       "      <td>...</td>\n",
       "      <td>502</td>\n",
       "      <td>47</td>\n",
       "      <td>162</td>\n",
       "      <td>1</td>\n",
       "      <td>0</td>\n",
       "      <td>0</td>\n",
       "      <td>12</td>\n",
       "      <td>51</td>\n",
       "      <td>1262</td>\n",
       "      <td>2209</td>\n",
       "    </tr>\n",
       "    <tr>\n",
       "      <th>3</th>\n",
       "      <td>0</td>\n",
       "      <td>5</td>\n",
       "      <td>0</td>\n",
       "      <td>0</td>\n",
       "      <td>0</td>\n",
       "      <td>4</td>\n",
       "      <td>1</td>\n",
       "      <td>1462</td>\n",
       "      <td>200</td>\n",
       "      <td>1435</td>\n",
       "      <td>...</td>\n",
       "      <td>502</td>\n",
       "      <td>47</td>\n",
       "      <td>162</td>\n",
       "      <td>1</td>\n",
       "      <td>0</td>\n",
       "      <td>0</td>\n",
       "      <td>12</td>\n",
       "      <td>51</td>\n",
       "      <td>1262</td>\n",
       "      <td>2209</td>\n",
       "    </tr>\n",
       "    <tr>\n",
       "      <th>4</th>\n",
       "      <td>1</td>\n",
       "      <td>6</td>\n",
       "      <td>1</td>\n",
       "      <td>0</td>\n",
       "      <td>0</td>\n",
       "      <td>0</td>\n",
       "      <td>1</td>\n",
       "      <td>1462</td>\n",
       "      <td>120</td>\n",
       "      <td>1436</td>\n",
       "      <td>...</td>\n",
       "      <td>352</td>\n",
       "      <td>63</td>\n",
       "      <td>224</td>\n",
       "      <td>1</td>\n",
       "      <td>0</td>\n",
       "      <td>0</td>\n",
       "      <td>12</td>\n",
       "      <td>196</td>\n",
       "      <td>17</td>\n",
       "      <td>2317</td>\n",
       "    </tr>\n",
       "  </tbody>\n",
       "</table>\n",
       "<p>5 rows × 26 columns</p>\n",
       "</div>"
      ],
      "text/plain": [
       "   number  incident_state  active  reassignment_count  reopen_count  \\\n",
       "0       0               6       1                   0             0   \n",
       "1       0               7       1                   0             0   \n",
       "2       0               7       1                   0             0   \n",
       "3       0               5       0                   0             0   \n",
       "4       1               6       1                   0             0   \n",
       "\n",
       "   sys_mod_count  made_sla  caller_id  opened_by  opened_at  ...  u_symptom  \\\n",
       "0              0         1       1462        200       1435  ...        502   \n",
       "1              2         1       1462        200       1435  ...        502   \n",
       "2              3         1       1462        200       1435  ...        502   \n",
       "3              4         1       1462        200       1435  ...        502   \n",
       "4              0         1       1462        120       1436  ...        352   \n",
       "\n",
       "   assignment_group  assigned_to  knowledge  u_priority_confirmation  notify  \\\n",
       "0                47          162          1                        0       0   \n",
       "1                47          162          1                        0       0   \n",
       "2                47          162          1                        0       0   \n",
       "3                47          162          1                        0       0   \n",
       "4                63          224          1                        0       0   \n",
       "\n",
       "   closed_code  resolved_by  resolved_at  closed_at  \n",
       "0           12           51         1262       2209  \n",
       "1           12           51         1262       2209  \n",
       "2           12           51         1262       2209  \n",
       "3           12           51         1262       2209  \n",
       "4           12          196           17       2317  \n",
       "\n",
       "[5 rows x 26 columns]"
      ]
     },
     "execution_count": 66,
     "metadata": {},
     "output_type": "execute_result"
    }
   ],
   "source": [
    "X.head()"
   ]
  },
  {
   "cell_type": "code",
   "execution_count": 67,
   "metadata": {
    "colab": {
     "base_uri": "https://localhost:8080/"
    },
    "executionInfo": {
     "elapsed": 474,
     "status": "ok",
     "timestamp": 1628681636050,
     "user": {
      "displayName": "sagar nagpal",
      "photoUrl": "https://lh3.googleusercontent.com/a-/AOh14GjDIuXJgSm71Ctdbko-AeQitxK-wq1j4-SXkuxktA=s64",
      "userId": "03790130100156359022"
     },
     "user_tz": -330
    },
    "id": "lbQKr8xRllYH",
    "outputId": "3c5e9fb4-66c4-416b-c507-b4cf3cb219a5"
   },
   "outputs": [
    {
     "data": {
      "text/plain": [
       "0         2\n",
       "1         2\n",
       "2         2\n",
       "3         2\n",
       "4         2\n",
       "         ..\n",
       "141707    2\n",
       "141708    2\n",
       "141709    2\n",
       "141710    2\n",
       "141711    2\n",
       "Name: impact, Length: 141712, dtype: int64"
      ]
     },
     "execution_count": 67,
     "metadata": {},
     "output_type": "execute_result"
    }
   ],
   "source": [
    "y"
   ]
  },
  {
   "cell_type": "code",
   "execution_count": 68,
   "metadata": {
    "colab": {
     "base_uri": "https://localhost:8080/"
    },
    "executionInfo": {
     "elapsed": 442,
     "status": "ok",
     "timestamp": 1628681636060,
     "user": {
      "displayName": "sagar nagpal",
      "photoUrl": "https://lh3.googleusercontent.com/a-/AOh14GjDIuXJgSm71Ctdbko-AeQitxK-wq1j4-SXkuxktA=s64",
      "userId": "03790130100156359022"
     },
     "user_tz": -330
    },
    "id": "r7S0H2Helmc3",
    "outputId": "b997b3e2-5f10-4561-9f46-d2b15a353a72"
   },
   "outputs": [
    {
     "data": {
      "text/plain": [
       "2    134335\n",
       "3      3886\n",
       "1      3491\n",
       "Name: impact, dtype: int64"
      ]
     },
     "execution_count": 68,
     "metadata": {},
     "output_type": "execute_result"
    }
   ],
   "source": [
    "y.value_counts()"
   ]
  },
  {
   "cell_type": "code",
   "execution_count": 69,
   "metadata": {
    "colab": {
     "base_uri": "https://localhost:8080/",
     "height": 263
    },
    "executionInfo": {
     "elapsed": 400,
     "status": "ok",
     "timestamp": 1628681636066,
     "user": {
      "displayName": "sagar nagpal",
      "photoUrl": "https://lh3.googleusercontent.com/a-/AOh14GjDIuXJgSm71Ctdbko-AeQitxK-wq1j4-SXkuxktA=s64",
      "userId": "03790130100156359022"
     },
     "user_tz": -330
    },
    "id": "0FTKNatylo0o",
    "outputId": "b8212cb2-13a8-43ab-8642-4b39cd64ca19"
   },
   "outputs": [
    {
     "data": {
      "text/plain": [
       "<matplotlib.axes._subplots.AxesSubplot at 0x1eac1107d90>"
      ]
     },
     "execution_count": 69,
     "metadata": {},
     "output_type": "execute_result"
    },
    {
     "data": {
      "image/png": "[encoded data removed]",
      "text/plain": [
       "<Figure size 432x288 with 1 Axes>"
      ]
     },
     "metadata": {},
     "output_type": "display_data"
    }
   ],
   "source": [
    "#Pie chart\n",
    "data.impact.value_counts().plot.pie(autopct = '%.2f')"
   ]
  },
  {
   "cell_type": "markdown",
   "metadata": {
    "id": "2oUQfPPtytij"
   },
   "source": [
    "###We split the data into train & test in the ratio of 90:10 and saving test data for final modelling\n",
    "\n"
   ]
  },
  {
   "cell_type": "code",
   "execution_count": 70,
   "metadata": {
    "executionInfo": {
     "elapsed": 357,
     "status": "ok",
     "timestamp": 1628681636073,
     "user": {
      "displayName": "sagar nagpal",
      "photoUrl": "https://lh3.googleusercontent.com/a-/AOh14GjDIuXJgSm71Ctdbko-AeQitxK-wq1j4-SXkuxktA=s64",
      "userId": "03790130100156359022"
     },
     "user_tz": -330
    },
    "id": "PsPHlpe85kQe"
   },
   "outputs": [],
   "source": [
    "from collections import Counter\n",
    "from sklearn.model_selection import train_test_split\n",
    "X_train,X_test,y_train,y_test=train_test_split(X, y,test_size=0.10,random_state=20)"
   ]
  },
  {
   "cell_type": "code",
   "execution_count": 71,
   "metadata": {
    "colab": {
     "base_uri": "https://localhost:8080/"
    },
    "executionInfo": {
     "elapsed": 366,
     "status": "ok",
     "timestamp": 1628681636089,
     "user": {
      "displayName": "sagar nagpal",
      "photoUrl": "https://lh3.googleusercontent.com/a-/AOh14GjDIuXJgSm71Ctdbko-AeQitxK-wq1j4-SXkuxktA=s64",
      "userId": "03790130100156359022"
     },
     "user_tz": -330
    },
    "id": "D1SMssEP5llN",
    "outputId": "6bf3f3cf-df3a-43f6-dc30-61240e4bfd44"
   },
   "outputs": [
    {
     "data": {
      "text/plain": [
       "((127540, 26), (14172, 26), (127540,), (14172,))"
      ]
     },
     "execution_count": 71,
     "metadata": {},
     "output_type": "execute_result"
    }
   ],
   "source": [
    "X_train.shape,X_test.shape,y_train.shape,y_test.shape"
   ]
  },
  {
   "cell_type": "code",
   "execution_count": 72,
   "metadata": {
    "colab": {
     "base_uri": "https://localhost:8080/"
    },
    "executionInfo": {
     "elapsed": 331,
     "status": "ok",
     "timestamp": 1628681636099,
     "user": {
      "displayName": "sagar nagpal",
      "photoUrl": "https://lh3.googleusercontent.com/a-/AOh14GjDIuXJgSm71Ctdbko-AeQitxK-wq1j4-SXkuxktA=s64",
      "userId": "03790130100156359022"
     },
     "user_tz": -330
    },
    "id": "Kh1d6H0O7WRm",
    "outputId": "a15fa16f-5a6f-46c9-c9b5-e06a22129c94"
   },
   "outputs": [
    {
     "data": {
      "text/plain": [
       "Counter({2: 13448, 3: 411, 1: 313})"
      ]
     },
     "execution_count": 72,
     "metadata": {},
     "output_type": "execute_result"
    }
   ],
   "source": [
    "Counter(y_test)"
   ]
  },
  {
   "cell_type": "markdown",
   "metadata": {
    "id": "8oBj5VaizdPO"
   },
   "source": [
    "# Balancing the Data"
   ]
  },
  {
   "cell_type": "code",
   "execution_count": 73,
   "metadata": {
    "executionInfo": {
     "elapsed": 299,
     "status": "ok",
     "timestamp": 1628681636109,
     "user": {
      "displayName": "sagar nagpal",
      "photoUrl": "https://lh3.googleusercontent.com/a-/AOh14GjDIuXJgSm71Ctdbko-AeQitxK-wq1j4-SXkuxktA=s64",
      "userId": "03790130100156359022"
     },
     "user_tz": -330
    },
    "id": "NDQqY0yblsf-"
   },
   "outputs": [],
   "source": [
    "from collections import Counter\n",
    "from imblearn.combine import SMOTETomek\n",
    "from sklearn.datasets import make_classification"
   ]
  },
  {
   "cell_type": "markdown",
   "metadata": {
    "id": "dGbHXmeyznqP"
   },
   "source": [
    "Using SMOTETomek"
   ]
  },
  {
   "cell_type": "code",
   "execution_count": 74,
   "metadata": {
    "colab": {
     "base_uri": "https://localhost:8080/"
    },
    "executionInfo": {
     "elapsed": 17300,
     "status": "ok",
     "timestamp": 1628681653117,
     "user": {
      "displayName": "sagar nagpal",
      "photoUrl": "https://lh3.googleusercontent.com/a-/AOh14GjDIuXJgSm71Ctdbko-AeQitxK-wq1j4-SXkuxktA=s64",
      "userId": "03790130100156359022"
     },
     "user_tz": -330
    },
    "id": "QiMgDJEUlugV",
    "outputId": "6913911d-06d9-4bb9-c102-64f529eea748"
   },
   "outputs": [
    {
     "name": "stdout",
     "output_type": "stream",
     "text": [
      "Original data set shape Counter({2: 120887, 3: 3475, 1: 3178})\n",
      "Resampled dataset shape Counter({3: 120788, 1: 120775, 2: 120680})\n"
     ]
    }
   ],
   "source": [
    "print('Original data set shape %s' % Counter(y_train))\n",
    "smt = SMOTETomek(sampling_strategy='all',random_state=42)\n",
    "X_res, y_res = smt.fit_resample(X_train, y_train)\n",
    "print('Resampled dataset shape %s' % Counter(y_res))"
   ]
  },
  {
   "cell_type": "code",
   "execution_count": 79,
   "metadata": {
    "colab": {
     "base_uri": "https://localhost:8080/",
     "height": 295
    },
    "executionInfo": {
     "elapsed": 357,
     "status": "ok",
     "timestamp": 1628681653128,
     "user": {
      "displayName": "sagar nagpal",
      "photoUrl": "https://lh3.googleusercontent.com/a-/AOh14GjDIuXJgSm71Ctdbko-AeQitxK-wq1j4-SXkuxktA=s64",
      "userId": "03790130100156359022"
     },
     "user_tz": -330
    },
    "id": "LJ7mTHtJlv_w",
    "outputId": "485dbcee-6dfb-4f26-c723-56cca12d69e1"
   },
   "outputs": [
    {
     "data": {
      "text/plain": [
       "<matplotlib.axes._subplots.AxesSubplot at 0x1eac6769610>"
      ]
     },
     "execution_count": 79,
     "metadata": {},
     "output_type": "execute_result"
    },
    {
     "data": {
      "image/png": "[encoded data removed]",
      "text/plain": [
       "<Figure size 432x288 with 1 Axes>"
      ]
     },
     "metadata": {
      "needs_background": "light"
     },
     "output_type": "display_data"
    }
   ],
   "source": [
    "sns.countplot(y_train)"
   ]
  },
  {
   "cell_type": "code",
   "execution_count": 80,
   "metadata": {
    "executionInfo": {
     "elapsed": 331,
     "status": "ok",
     "timestamp": 1628681653138,
     "user": {
      "displayName": "sagar nagpal",
      "photoUrl": "https://lh3.googleusercontent.com/a-/AOh14GjDIuXJgSm71Ctdbko-AeQitxK-wq1j4-SXkuxktA=s64",
      "userId": "03790130100156359022"
     },
     "user_tz": -330
    },
    "id": "TAblHjr9mOPB"
   },
   "outputs": [],
   "source": [
    "y_res = pd.DataFrame(y_res)"
   ]
  },
  {
   "cell_type": "code",
   "execution_count": 81,
   "metadata": {
    "colab": {
     "base_uri": "https://localhost:8080/",
     "height": 408
    },
    "executionInfo": {
     "elapsed": 327,
     "status": "ok",
     "timestamp": 1628681653143,
     "user": {
      "displayName": "sagar nagpal",
      "photoUrl": "https://lh3.googleusercontent.com/a-/AOh14GjDIuXJgSm71Ctdbko-AeQitxK-wq1j4-SXkuxktA=s64",
      "userId": "03790130100156359022"
     },
     "user_tz": -330
    },
    "id": "HOYifSPkoIeX",
    "outputId": "42af6316-8251-45ed-a267-ebd8d6c9c8d3"
   },
   "outputs": [
    {
     "data": {
      "text/html": [
       "<div>\n",
       "<style scoped>\n",
       "    .dataframe tbody tr th:only-of-type {\n",
       "        vertical-align: middle;\n",
       "    }\n",
       "\n",
       "    .dataframe tbody tr th {\n",
       "        vertical-align: top;\n",
       "    }\n",
       "\n",
       "    .dataframe thead th {\n",
       "        text-align: right;\n",
       "    }\n",
       "</style>\n",
       "<table border=\"1\" class=\"dataframe\">\n",
       "  <thead>\n",
       "    <tr style=\"text-align: right;\">\n",
       "      <th></th>\n",
       "      <th>impact</th>\n",
       "    </tr>\n",
       "  </thead>\n",
       "  <tbody>\n",
       "    <tr>\n",
       "      <th>0</th>\n",
       "      <td>2</td>\n",
       "    </tr>\n",
       "    <tr>\n",
       "      <th>1</th>\n",
       "      <td>2</td>\n",
       "    </tr>\n",
       "    <tr>\n",
       "      <th>2</th>\n",
       "      <td>2</td>\n",
       "    </tr>\n",
       "    <tr>\n",
       "      <th>3</th>\n",
       "      <td>2</td>\n",
       "    </tr>\n",
       "    <tr>\n",
       "      <th>4</th>\n",
       "      <td>2</td>\n",
       "    </tr>\n",
       "    <tr>\n",
       "      <th>...</th>\n",
       "      <td>...</td>\n",
       "    </tr>\n",
       "    <tr>\n",
       "      <th>362238</th>\n",
       "      <td>3</td>\n",
       "    </tr>\n",
       "    <tr>\n",
       "      <th>362239</th>\n",
       "      <td>3</td>\n",
       "    </tr>\n",
       "    <tr>\n",
       "      <th>362240</th>\n",
       "      <td>3</td>\n",
       "    </tr>\n",
       "    <tr>\n",
       "      <th>362241</th>\n",
       "      <td>3</td>\n",
       "    </tr>\n",
       "    <tr>\n",
       "      <th>362242</th>\n",
       "      <td>3</td>\n",
       "    </tr>\n",
       "  </tbody>\n",
       "</table>\n",
       "<p>362243 rows × 1 columns</p>\n",
       "</div>"
      ],
      "text/plain": [
       "        impact\n",
       "0            2\n",
       "1            2\n",
       "2            2\n",
       "3            2\n",
       "4            2\n",
       "...        ...\n",
       "362238       3\n",
       "362239       3\n",
       "362240       3\n",
       "362241       3\n",
       "362242       3\n",
       "\n",
       "[362243 rows x 1 columns]"
      ]
     },
     "execution_count": 81,
     "metadata": {},
     "output_type": "execute_result"
    }
   ],
   "source": [
    "\n",
    "\n",
    "y_res"
   ]
  },
  {
   "cell_type": "code",
   "execution_count": 85,
   "metadata": {
    "colab": {
     "base_uri": "https://localhost:8080/",
     "height": 263
    },
    "executionInfo": {
     "elapsed": 334,
     "status": "ok",
     "timestamp": 1628681653167,
     "user": {
      "displayName": "sagar nagpal",
      "photoUrl": "https://lh3.googleusercontent.com/a-/AOh14GjDIuXJgSm71Ctdbko-AeQitxK-wq1j4-SXkuxktA=s64",
      "userId": "03790130100156359022"
     },
     "user_tz": -330
    },
    "id": "_DplGiMPmzam",
    "outputId": "09628f1d-3308-4932-e7fb-3c9b3c00ae9b"
   },
   "outputs": [
    {
     "ename": "AttributeError",
     "evalue": "'DataFrame' object has no attribute 'value_counts'",
     "output_type": "error",
     "traceback": [
      "\u001b[1;31m---------------------------------------------------------------------------\u001b[0m",
      "\u001b[1;31mAttributeError\u001b[0m                            Traceback (most recent call last)",
      "\u001b[1;32m<ipython-input-85-72ac8ff345de>\u001b[0m in \u001b[0;36m<module>\u001b[1;34m\u001b[0m\n\u001b[0;32m      1\u001b[0m \u001b[1;31m#Pie chart\u001b[0m\u001b[1;33m\u001b[0m\u001b[1;33m\u001b[0m\u001b[1;33m\u001b[0m\u001b[0m\n\u001b[1;32m----> 2\u001b[1;33m \u001b[0my_res\u001b[0m\u001b[1;33m.\u001b[0m\u001b[0mvalue_counts\u001b[0m\u001b[1;33m(\u001b[0m\u001b[1;33m)\u001b[0m\u001b[1;33m.\u001b[0m\u001b[0mplot\u001b[0m\u001b[1;33m.\u001b[0m\u001b[0mpie\u001b[0m\u001b[1;33m(\u001b[0m\u001b[0mautopct\u001b[0m \u001b[1;33m=\u001b[0m \u001b[1;34m'%.2f'\u001b[0m\u001b[1;33m)\u001b[0m\u001b[1;33m\u001b[0m\u001b[1;33m\u001b[0m\u001b[0m\n\u001b[0m",
      "\u001b[1;32mC:\\ProgramData\\Anaconda3\\lib\\site-packages\\pandas\\core\\generic.py\u001b[0m in \u001b[0;36m__getattr__\u001b[1;34m(self, name)\u001b[0m\n\u001b[0;32m   5272\u001b[0m             \u001b[1;32mif\u001b[0m \u001b[0mself\u001b[0m\u001b[1;33m.\u001b[0m\u001b[0m_info_axis\u001b[0m\u001b[1;33m.\u001b[0m\u001b[0m_can_hold_identifiers_and_holds_name\u001b[0m\u001b[1;33m(\u001b[0m\u001b[0mname\u001b[0m\u001b[1;33m)\u001b[0m\u001b[1;33m:\u001b[0m\u001b[1;33m\u001b[0m\u001b[1;33m\u001b[0m\u001b[0m\n\u001b[0;32m   5273\u001b[0m                 \u001b[1;32mreturn\u001b[0m \u001b[0mself\u001b[0m\u001b[1;33m[\u001b[0m\u001b[0mname\u001b[0m\u001b[1;33m]\u001b[0m\u001b[1;33m\u001b[0m\u001b[1;33m\u001b[0m\u001b[0m\n\u001b[1;32m-> 5274\u001b[1;33m             \u001b[1;32mreturn\u001b[0m \u001b[0mobject\u001b[0m\u001b[1;33m.\u001b[0m\u001b[0m__getattribute__\u001b[0m\u001b[1;33m(\u001b[0m\u001b[0mself\u001b[0m\u001b[1;33m,\u001b[0m \u001b[0mname\u001b[0m\u001b[1;33m)\u001b[0m\u001b[1;33m\u001b[0m\u001b[1;33m\u001b[0m\u001b[0m\n\u001b[0m\u001b[0;32m   5275\u001b[0m \u001b[1;33m\u001b[0m\u001b[0m\n\u001b[0;32m   5276\u001b[0m     \u001b[1;32mdef\u001b[0m \u001b[0m__setattr__\u001b[0m\u001b[1;33m(\u001b[0m\u001b[0mself\u001b[0m\u001b[1;33m,\u001b[0m \u001b[0mname\u001b[0m\u001b[1;33m:\u001b[0m \u001b[0mstr\u001b[0m\u001b[1;33m,\u001b[0m \u001b[0mvalue\u001b[0m\u001b[1;33m)\u001b[0m \u001b[1;33m->\u001b[0m \u001b[1;32mNone\u001b[0m\u001b[1;33m:\u001b[0m\u001b[1;33m\u001b[0m\u001b[1;33m\u001b[0m\u001b[0m\n",
      "\u001b[1;31mAttributeError\u001b[0m: 'DataFrame' object has no attribute 'value_counts'"
     ]
    }
   ],
   "source": [
    "#Pie chart\n",
    "y_res.value_counts().plot.pie(autopct = '%.2f')"
   ]
  },
  {
   "cell_type": "code",
   "execution_count": 86,
   "metadata": {
    "colab": {
     "base_uri": "https://localhost:8080/",
     "height": 295
    },
    "executionInfo": {
     "elapsed": 285,
     "status": "ok",
     "timestamp": 1628681653174,
     "user": {
      "displayName": "sagar nagpal",
      "photoUrl": "https://lh3.googleusercontent.com/a-/AOh14GjDIuXJgSm71Ctdbko-AeQitxK-wq1j4-SXkuxktA=s64",
      "userId": "03790130100156359022"
     },
     "user_tz": -330
    },
    "id": "dw-lqUp9nqt_",
    "outputId": "83459e6f-1e54-4046-f0a4-fc6b99d6917f"
   },
   "outputs": [
    {
     "data": {
      "text/plain": [
       "<matplotlib.axes._subplots.AxesSubplot at 0x1eac766b610>"
      ]
     },
     "execution_count": 86,
     "metadata": {},
     "output_type": "execute_result"
    },
    {
     "data": {
      "image/png": "[encoded data removed]",
      "text/plain": [
       "<Figure size 432x288 with 1 Axes>"
      ]
     },
     "metadata": {
      "needs_background": "light"
     },
     "output_type": "display_data"
    }
   ],
   "source": [
    "sns.countplot(y_res.iloc[:,0])"
   ]
  },
  {
   "cell_type": "markdown",
   "metadata": {
    "id": "yZsOU3N10gUB"
   },
   "source": [
    "#Feature Extraction using RFE method"
   ]
  },
  {
   "cell_type": "code",
   "execution_count": 87,
   "metadata": {
    "executionInfo": {
     "elapsed": 248,
     "status": "ok",
     "timestamp": 1628681653189,
     "user": {
      "displayName": "sagar nagpal",
      "photoUrl": "https://lh3.googleusercontent.com/a-/AOh14GjDIuXJgSm71Ctdbko-AeQitxK-wq1j4-SXkuxktA=s64",
      "userId": "03790130100156359022"
     },
     "user_tz": -330
    },
    "id": "7AxT_FNfpLQk"
   },
   "outputs": [],
   "source": [
    "from sklearn.feature_selection import RFE\n",
    "from sklearn.linear_model import LogisticRegression"
   ]
  },
  {
   "cell_type": "code",
   "execution_count": 88,
   "metadata": {
    "colab": {
     "base_uri": "https://localhost:8080/"
    },
    "executionInfo": {
     "elapsed": 157663,
     "status": "ok",
     "timestamp": 1628681810611,
     "user": {
      "displayName": "sagar nagpal",
      "photoUrl": "https://lh3.googleusercontent.com/a-/AOh14GjDIuXJgSm71Ctdbko-AeQitxK-wq1j4-SXkuxktA=s64",
      "userId": "03790130100156359022"
     },
     "user_tz": -330
    },
    "id": "AIqy83IGqdru",
    "outputId": "cffc4479-f3d1-4352-e406-471d3ba3446d"
   },
   "outputs": [
    {
     "name": "stdout",
     "output_type": "stream",
     "text": [
      "[ True False False False False  True False False  True False  True False\n",
      " False  True  True  True  True  True  True False False False False  True\n",
      "  True  True]\n",
      "[ 1  6 11  2 13  1  9  3  1  4  1  7 12  1  1  1  1  1  1 10  8 14  5  1\n",
      "  1  1]\n"
     ]
    }
   ],
   "source": [
    "model_rfe=LogisticRegression(max_iter=50)  # max_iter=100 by default\n",
    "rfe=RFE(model_rfe)\n",
    "fit=rfe.fit(X_res, y_res)\n",
    "print(fit.support_)\n",
    "print(fit.ranking_)"
   ]
  },
  {
   "cell_type": "code",
   "execution_count": 89,
   "metadata": {
    "colab": {
     "base_uri": "https://localhost:8080/"
    },
    "executionInfo": {
     "elapsed": 436,
     "status": "ok",
     "timestamp": 1628681810619,
     "user": {
      "displayName": "sagar nagpal",
      "photoUrl": "https://lh3.googleusercontent.com/a-/AOh14GjDIuXJgSm71Ctdbko-AeQitxK-wq1j4-SXkuxktA=s64",
      "userId": "03790130100156359022"
     },
     "user_tz": -330
    },
    "id": "iKl61TgTrsam",
    "outputId": "1421c107-56b3-4d53-eb7d-afae852f8c1a"
   },
   "outputs": [
    {
     "data": {
      "text/plain": [
       "0      1\n",
       "23     1\n",
       "18     1\n",
       "17     1\n",
       "16     1\n",
       "15     1\n",
       "14     1\n",
       "13     1\n",
       "24     1\n",
       "10     1\n",
       "25     1\n",
       "8      1\n",
       "5      1\n",
       "3      2\n",
       "7      3\n",
       "9      4\n",
       "22     5\n",
       "1      6\n",
       "11     7\n",
       "20     8\n",
       "6      9\n",
       "19    10\n",
       "2     11\n",
       "12    12\n",
       "4     13\n",
       "21    14\n",
       "dtype: int32"
      ]
     },
     "execution_count": 89,
     "metadata": {},
     "output_type": "execute_result"
    }
   ],
   "source": [
    "Rank = pd.Series(fit.ranking_).sort_values()\n",
    "Rank"
   ]
  },
  {
   "cell_type": "code",
   "execution_count": 90,
   "metadata": {
    "executionInfo": {
     "elapsed": 414,
     "status": "ok",
     "timestamp": 1628681810629,
     "user": {
      "displayName": "sagar nagpal",
      "photoUrl": "https://lh3.googleusercontent.com/a-/AOh14GjDIuXJgSm71Ctdbko-AeQitxK-wq1j4-SXkuxktA=s64",
      "userId": "03790130100156359022"
     },
     "user_tz": -330
    },
    "id": "TtTHSQz4L0Nf"
   },
   "outputs": [],
   "source": [
    "ranking_c = pd.DataFrame({'Features': X.columns, 'Rank': fit.ranking_}).sort_values(by='Rank')"
   ]
  },
  {
   "cell_type": "code",
   "execution_count": 91,
   "metadata": {
    "colab": {
     "base_uri": "https://localhost:8080/",
     "height": 835
    },
    "executionInfo": {
     "elapsed": 418,
     "status": "ok",
     "timestamp": 1628681810640,
     "user": {
      "displayName": "sagar nagpal",
      "photoUrl": "https://lh3.googleusercontent.com/a-/AOh14GjDIuXJgSm71Ctdbko-AeQitxK-wq1j4-SXkuxktA=s64",
      "userId": "03790130100156359022"
     },
     "user_tz": -330
    },
    "id": "onMFZKtPL2TG",
    "outputId": "3650a80a-f106-46e2-9f96-2fb6d6a2fbec"
   },
   "outputs": [
    {
     "data": {
      "text/html": [
       "<div>\n",
       "<style scoped>\n",
       "    .dataframe tbody tr th:only-of-type {\n",
       "        vertical-align: middle;\n",
       "    }\n",
       "\n",
       "    .dataframe tbody tr th {\n",
       "        vertical-align: top;\n",
       "    }\n",
       "\n",
       "    .dataframe thead th {\n",
       "        text-align: right;\n",
       "    }\n",
       "</style>\n",
       "<table border=\"1\" class=\"dataframe\">\n",
       "  <thead>\n",
       "    <tr style=\"text-align: right;\">\n",
       "      <th></th>\n",
       "      <th>Features</th>\n",
       "      <th>Rank</th>\n",
       "    </tr>\n",
       "  </thead>\n",
       "  <tbody>\n",
       "    <tr>\n",
       "      <th>0</th>\n",
       "      <td>number</td>\n",
       "      <td>1</td>\n",
       "    </tr>\n",
       "    <tr>\n",
       "      <th>23</th>\n",
       "      <td>resolved_by</td>\n",
       "      <td>1</td>\n",
       "    </tr>\n",
       "    <tr>\n",
       "      <th>18</th>\n",
       "      <td>assigned_to</td>\n",
       "      <td>1</td>\n",
       "    </tr>\n",
       "    <tr>\n",
       "      <th>17</th>\n",
       "      <td>assignment_group</td>\n",
       "      <td>1</td>\n",
       "    </tr>\n",
       "    <tr>\n",
       "      <th>16</th>\n",
       "      <td>u_symptom</td>\n",
       "      <td>1</td>\n",
       "    </tr>\n",
       "    <tr>\n",
       "      <th>15</th>\n",
       "      <td>subcategory</td>\n",
       "      <td>1</td>\n",
       "    </tr>\n",
       "    <tr>\n",
       "      <th>14</th>\n",
       "      <td>category</td>\n",
       "      <td>1</td>\n",
       "    </tr>\n",
       "    <tr>\n",
       "      <th>13</th>\n",
       "      <td>location</td>\n",
       "      <td>1</td>\n",
       "    </tr>\n",
       "    <tr>\n",
       "      <th>24</th>\n",
       "      <td>resolved_at</td>\n",
       "      <td>1</td>\n",
       "    </tr>\n",
       "    <tr>\n",
       "      <th>10</th>\n",
       "      <td>sys_updated_by</td>\n",
       "      <td>1</td>\n",
       "    </tr>\n",
       "    <tr>\n",
       "      <th>25</th>\n",
       "      <td>closed_at</td>\n",
       "      <td>1</td>\n",
       "    </tr>\n",
       "    <tr>\n",
       "      <th>8</th>\n",
       "      <td>opened_by</td>\n",
       "      <td>1</td>\n",
       "    </tr>\n",
       "    <tr>\n",
       "      <th>5</th>\n",
       "      <td>sys_mod_count</td>\n",
       "      <td>1</td>\n",
       "    </tr>\n",
       "    <tr>\n",
       "      <th>3</th>\n",
       "      <td>reassignment_count</td>\n",
       "      <td>2</td>\n",
       "    </tr>\n",
       "    <tr>\n",
       "      <th>7</th>\n",
       "      <td>caller_id</td>\n",
       "      <td>3</td>\n",
       "    </tr>\n",
       "    <tr>\n",
       "      <th>9</th>\n",
       "      <td>opened_at</td>\n",
       "      <td>4</td>\n",
       "    </tr>\n",
       "    <tr>\n",
       "      <th>22</th>\n",
       "      <td>closed_code</td>\n",
       "      <td>5</td>\n",
       "    </tr>\n",
       "    <tr>\n",
       "      <th>1</th>\n",
       "      <td>incident_state</td>\n",
       "      <td>6</td>\n",
       "    </tr>\n",
       "    <tr>\n",
       "      <th>11</th>\n",
       "      <td>sys_updated_at</td>\n",
       "      <td>7</td>\n",
       "    </tr>\n",
       "    <tr>\n",
       "      <th>20</th>\n",
       "      <td>u_priority_confirmation</td>\n",
       "      <td>8</td>\n",
       "    </tr>\n",
       "    <tr>\n",
       "      <th>6</th>\n",
       "      <td>made_sla</td>\n",
       "      <td>9</td>\n",
       "    </tr>\n",
       "    <tr>\n",
       "      <th>19</th>\n",
       "      <td>knowledge</td>\n",
       "      <td>10</td>\n",
       "    </tr>\n",
       "    <tr>\n",
       "      <th>2</th>\n",
       "      <td>active</td>\n",
       "      <td>11</td>\n",
       "    </tr>\n",
       "    <tr>\n",
       "      <th>12</th>\n",
       "      <td>contact_type</td>\n",
       "      <td>12</td>\n",
       "    </tr>\n",
       "    <tr>\n",
       "      <th>4</th>\n",
       "      <td>reopen_count</td>\n",
       "      <td>13</td>\n",
       "    </tr>\n",
       "    <tr>\n",
       "      <th>21</th>\n",
       "      <td>notify</td>\n",
       "      <td>14</td>\n",
       "    </tr>\n",
       "  </tbody>\n",
       "</table>\n",
       "</div>"
      ],
      "text/plain": [
       "                   Features  Rank\n",
       "0                    number     1\n",
       "23              resolved_by     1\n",
       "18              assigned_to     1\n",
       "17         assignment_group     1\n",
       "16                u_symptom     1\n",
       "15              subcategory     1\n",
       "14                 category     1\n",
       "13                 location     1\n",
       "24              resolved_at     1\n",
       "10           sys_updated_by     1\n",
       "25                closed_at     1\n",
       "8                 opened_by     1\n",
       "5             sys_mod_count     1\n",
       "3        reassignment_count     2\n",
       "7                 caller_id     3\n",
       "9                 opened_at     4\n",
       "22              closed_code     5\n",
       "1            incident_state     6\n",
       "11           sys_updated_at     7\n",
       "20  u_priority_confirmation     8\n",
       "6                  made_sla     9\n",
       "19                knowledge    10\n",
       "2                    active    11\n",
       "12             contact_type    12\n",
       "4              reopen_count    13\n",
       "21                   notify    14"
      ]
     },
     "execution_count": 91,
     "metadata": {},
     "output_type": "execute_result"
    }
   ],
   "source": [
    "ranking_c"
   ]
  },
  {
   "cell_type": "markdown",
   "metadata": {
    "id": "eeHXpcyB1LZ8"
   },
   "source": [
    "Try to find those columns which are having rank 1"
   ]
  },
  {
   "cell_type": "code",
   "execution_count": 92,
   "metadata": {
    "colab": {
     "base_uri": "https://localhost:8080/",
     "height": 441
    },
    "executionInfo": {
     "elapsed": 412,
     "status": "ok",
     "timestamp": 1628681810651,
     "user": {
      "displayName": "sagar nagpal",
      "photoUrl": "https://lh3.googleusercontent.com/a-/AOh14GjDIuXJgSm71Ctdbko-AeQitxK-wq1j4-SXkuxktA=s64",
      "userId": "03790130100156359022"
     },
     "user_tz": -330
    },
    "id": "4c3zdLnrL31f",
    "outputId": "1b455015-428c-43a0-86b2-7dcff6bb7edf"
   },
   "outputs": [
    {
     "data": {
      "text/html": [
       "<div>\n",
       "<style scoped>\n",
       "    .dataframe tbody tr th:only-of-type {\n",
       "        vertical-align: middle;\n",
       "    }\n",
       "\n",
       "    .dataframe tbody tr th {\n",
       "        vertical-align: top;\n",
       "    }\n",
       "\n",
       "    .dataframe thead th {\n",
       "        text-align: right;\n",
       "    }\n",
       "</style>\n",
       "<table border=\"1\" class=\"dataframe\">\n",
       "  <thead>\n",
       "    <tr style=\"text-align: right;\">\n",
       "      <th></th>\n",
       "      <th>Features</th>\n",
       "      <th>Rank</th>\n",
       "    </tr>\n",
       "  </thead>\n",
       "  <tbody>\n",
       "    <tr>\n",
       "      <th>0</th>\n",
       "      <td>number</td>\n",
       "      <td>1</td>\n",
       "    </tr>\n",
       "    <tr>\n",
       "      <th>23</th>\n",
       "      <td>resolved_by</td>\n",
       "      <td>1</td>\n",
       "    </tr>\n",
       "    <tr>\n",
       "      <th>18</th>\n",
       "      <td>assigned_to</td>\n",
       "      <td>1</td>\n",
       "    </tr>\n",
       "    <tr>\n",
       "      <th>17</th>\n",
       "      <td>assignment_group</td>\n",
       "      <td>1</td>\n",
       "    </tr>\n",
       "    <tr>\n",
       "      <th>16</th>\n",
       "      <td>u_symptom</td>\n",
       "      <td>1</td>\n",
       "    </tr>\n",
       "    <tr>\n",
       "      <th>15</th>\n",
       "      <td>subcategory</td>\n",
       "      <td>1</td>\n",
       "    </tr>\n",
       "    <tr>\n",
       "      <th>14</th>\n",
       "      <td>category</td>\n",
       "      <td>1</td>\n",
       "    </tr>\n",
       "    <tr>\n",
       "      <th>13</th>\n",
       "      <td>location</td>\n",
       "      <td>1</td>\n",
       "    </tr>\n",
       "    <tr>\n",
       "      <th>24</th>\n",
       "      <td>resolved_at</td>\n",
       "      <td>1</td>\n",
       "    </tr>\n",
       "    <tr>\n",
       "      <th>10</th>\n",
       "      <td>sys_updated_by</td>\n",
       "      <td>1</td>\n",
       "    </tr>\n",
       "    <tr>\n",
       "      <th>25</th>\n",
       "      <td>closed_at</td>\n",
       "      <td>1</td>\n",
       "    </tr>\n",
       "    <tr>\n",
       "      <th>8</th>\n",
       "      <td>opened_by</td>\n",
       "      <td>1</td>\n",
       "    </tr>\n",
       "    <tr>\n",
       "      <th>5</th>\n",
       "      <td>sys_mod_count</td>\n",
       "      <td>1</td>\n",
       "    </tr>\n",
       "  </tbody>\n",
       "</table>\n",
       "</div>"
      ],
      "text/plain": [
       "            Features  Rank\n",
       "0             number     1\n",
       "23       resolved_by     1\n",
       "18       assigned_to     1\n",
       "17  assignment_group     1\n",
       "16         u_symptom     1\n",
       "15       subcategory     1\n",
       "14          category     1\n",
       "13          location     1\n",
       "24       resolved_at     1\n",
       "10    sys_updated_by     1\n",
       "25         closed_at     1\n",
       "8          opened_by     1\n",
       "5      sys_mod_count     1"
      ]
     },
     "execution_count": 92,
     "metadata": {},
     "output_type": "execute_result"
    }
   ],
   "source": [
    "c1=ranking_c.loc[ranking_c['Rank'] <= 1]\n",
    "c1"
   ]
  },
  {
   "cell_type": "markdown",
   "metadata": {
    "id": "8j6LVk_V2Bx9"
   },
   "source": [
    "\n",
    "## Here is our Selected features for further process"
   ]
  },
  {
   "cell_type": "code",
   "execution_count": 93,
   "metadata": {
    "colab": {
     "base_uri": "https://localhost:8080/"
    },
    "executionInfo": {
     "elapsed": 403,
     "status": "ok",
     "timestamp": 1628681810656,
     "user": {
      "displayName": "sagar nagpal",
      "photoUrl": "https://lh3.googleusercontent.com/a-/AOh14GjDIuXJgSm71Ctdbko-AeQitxK-wq1j4-SXkuxktA=s64",
      "userId": "03790130100156359022"
     },
     "user_tz": -330
    },
    "id": "epMl0kcENCch",
    "outputId": "784cd6aa-fa13-4fd4-95a6-ace562c2eeef"
   },
   "outputs": [
    {
     "data": {
      "text/plain": [
       "array(['number', 'resolved_by', 'assigned_to', 'assignment_group',\n",
       "       'u_symptom', 'subcategory', 'category', 'location', 'resolved_at',\n",
       "       'sys_updated_by', 'closed_at', 'opened_by', 'sys_mod_count'],\n",
       "      dtype=object)"
      ]
     },
     "execution_count": 93,
     "metadata": {},
     "output_type": "execute_result"
    }
   ],
   "source": [
    "selected_features = c1.values[:,0]\n",
    "selected_features"
   ]
  },
  {
   "cell_type": "code",
   "execution_count": 94,
   "metadata": {
    "executionInfo": {
     "elapsed": 361,
     "status": "ok",
     "timestamp": 1628681810669,
     "user": {
      "displayName": "sagar nagpal",
      "photoUrl": "https://lh3.googleusercontent.com/a-/AOh14GjDIuXJgSm71Ctdbko-AeQitxK-wq1j4-SXkuxktA=s64",
      "userId": "03790130100156359022"
     },
     "user_tz": -330
    },
    "id": "s8mN-KxQCuRC"
   },
   "outputs": [],
   "source": [
    "x_res = pd.DataFrame(X_res)"
   ]
  },
  {
   "cell_type": "code",
   "execution_count": 95,
   "metadata": {
    "colab": {
     "base_uri": "https://localhost:8080/",
     "height": 408
    },
    "executionInfo": {
     "elapsed": 362,
     "status": "ok",
     "timestamp": 1628681810676,
     "user": {
      "displayName": "sagar nagpal",
      "photoUrl": "https://lh3.googleusercontent.com/a-/AOh14GjDIuXJgSm71Ctdbko-AeQitxK-wq1j4-SXkuxktA=s64",
      "userId": "03790130100156359022"
     },
     "user_tz": -330
    },
    "id": "WmkASsMPHUH2",
    "outputId": "13795c8b-7d55-4f76-b9f1-193d4a1d0e55"
   },
   "outputs": [
    {
     "data": {
      "text/html": [
       "<div>\n",
       "<style scoped>\n",
       "    .dataframe tbody tr th:only-of-type {\n",
       "        vertical-align: middle;\n",
       "    }\n",
       "\n",
       "    .dataframe tbody tr th {\n",
       "        vertical-align: top;\n",
       "    }\n",
       "\n",
       "    .dataframe thead th {\n",
       "        text-align: right;\n",
       "    }\n",
       "</style>\n",
       "<table border=\"1\" class=\"dataframe\">\n",
       "  <thead>\n",
       "    <tr style=\"text-align: right;\">\n",
       "      <th></th>\n",
       "      <th>number</th>\n",
       "      <th>incident_state</th>\n",
       "      <th>active</th>\n",
       "      <th>reassignment_count</th>\n",
       "      <th>reopen_count</th>\n",
       "      <th>sys_mod_count</th>\n",
       "      <th>made_sla</th>\n",
       "      <th>caller_id</th>\n",
       "      <th>opened_by</th>\n",
       "      <th>opened_at</th>\n",
       "      <th>...</th>\n",
       "      <th>u_symptom</th>\n",
       "      <th>assignment_group</th>\n",
       "      <th>assigned_to</th>\n",
       "      <th>knowledge</th>\n",
       "      <th>u_priority_confirmation</th>\n",
       "      <th>notify</th>\n",
       "      <th>closed_code</th>\n",
       "      <th>resolved_by</th>\n",
       "      <th>resolved_at</th>\n",
       "      <th>closed_at</th>\n",
       "    </tr>\n",
       "  </thead>\n",
       "  <tbody>\n",
       "    <tr>\n",
       "      <th>0</th>\n",
       "      <td>24448</td>\n",
       "      <td>7</td>\n",
       "      <td>1</td>\n",
       "      <td>0</td>\n",
       "      <td>0</td>\n",
       "      <td>5</td>\n",
       "      <td>1</td>\n",
       "      <td>3534</td>\n",
       "      <td>4</td>\n",
       "      <td>14894</td>\n",
       "      <td>...</td>\n",
       "      <td>491</td>\n",
       "      <td>18</td>\n",
       "      <td>13</td>\n",
       "      <td>0</td>\n",
       "      <td>1</td>\n",
       "      <td>0</td>\n",
       "      <td>13</td>\n",
       "      <td>1</td>\n",
       "      <td>1169</td>\n",
       "      <td>2502</td>\n",
       "    </tr>\n",
       "    <tr>\n",
       "      <th>1</th>\n",
       "      <td>6824</td>\n",
       "      <td>0</td>\n",
       "      <td>1</td>\n",
       "      <td>0</td>\n",
       "      <td>0</td>\n",
       "      <td>2</td>\n",
       "      <td>1</td>\n",
       "      <td>4326</td>\n",
       "      <td>31</td>\n",
       "      <td>4544</td>\n",
       "      <td>...</td>\n",
       "      <td>517</td>\n",
       "      <td>11</td>\n",
       "      <td>135</td>\n",
       "      <td>0</td>\n",
       "      <td>0</td>\n",
       "      <td>0</td>\n",
       "      <td>13</td>\n",
       "      <td>114</td>\n",
       "      <td>4101</td>\n",
       "      <td>1689</td>\n",
       "    </tr>\n",
       "    <tr>\n",
       "      <th>2</th>\n",
       "      <td>20989</td>\n",
       "      <td>6</td>\n",
       "      <td>1</td>\n",
       "      <td>1</td>\n",
       "      <td>0</td>\n",
       "      <td>3</td>\n",
       "      <td>1</td>\n",
       "      <td>2655</td>\n",
       "      <td>4</td>\n",
       "      <td>12031</td>\n",
       "      <td>...</td>\n",
       "      <td>189</td>\n",
       "      <td>19</td>\n",
       "      <td>214</td>\n",
       "      <td>0</td>\n",
       "      <td>0</td>\n",
       "      <td>0</td>\n",
       "      <td>13</td>\n",
       "      <td>187</td>\n",
       "      <td>12086</td>\n",
       "      <td>1137</td>\n",
       "    </tr>\n",
       "    <tr>\n",
       "      <th>3</th>\n",
       "      <td>18725</td>\n",
       "      <td>0</td>\n",
       "      <td>1</td>\n",
       "      <td>0</td>\n",
       "      <td>0</td>\n",
       "      <td>0</td>\n",
       "      <td>1</td>\n",
       "      <td>2458</td>\n",
       "      <td>147</td>\n",
       "      <td>11645</td>\n",
       "      <td>...</td>\n",
       "      <td>365</td>\n",
       "      <td>14</td>\n",
       "      <td>121</td>\n",
       "      <td>0</td>\n",
       "      <td>0</td>\n",
       "      <td>0</td>\n",
       "      <td>13</td>\n",
       "      <td>101</td>\n",
       "      <td>11380</td>\n",
       "      <td>156</td>\n",
       "    </tr>\n",
       "    <tr>\n",
       "      <th>4</th>\n",
       "      <td>4730</td>\n",
       "      <td>0</td>\n",
       "      <td>1</td>\n",
       "      <td>1</td>\n",
       "      <td>0</td>\n",
       "      <td>5</td>\n",
       "      <td>1</td>\n",
       "      <td>1008</td>\n",
       "      <td>60</td>\n",
       "      <td>2868</td>\n",
       "      <td>...</td>\n",
       "      <td>247</td>\n",
       "      <td>77</td>\n",
       "      <td>43</td>\n",
       "      <td>0</td>\n",
       "      <td>0</td>\n",
       "      <td>0</td>\n",
       "      <td>16</td>\n",
       "      <td>28</td>\n",
       "      <td>5133</td>\n",
       "      <td>1867</td>\n",
       "    </tr>\n",
       "    <tr>\n",
       "      <th>...</th>\n",
       "      <td>...</td>\n",
       "      <td>...</td>\n",
       "      <td>...</td>\n",
       "      <td>...</td>\n",
       "      <td>...</td>\n",
       "      <td>...</td>\n",
       "      <td>...</td>\n",
       "      <td>...</td>\n",
       "      <td>...</td>\n",
       "      <td>...</td>\n",
       "      <td>...</td>\n",
       "      <td>...</td>\n",
       "      <td>...</td>\n",
       "      <td>...</td>\n",
       "      <td>...</td>\n",
       "      <td>...</td>\n",
       "      <td>...</td>\n",
       "      <td>...</td>\n",
       "      <td>...</td>\n",
       "      <td>...</td>\n",
       "      <td>...</td>\n",
       "    </tr>\n",
       "    <tr>\n",
       "      <th>362238</th>\n",
       "      <td>900</td>\n",
       "      <td>3</td>\n",
       "      <td>1</td>\n",
       "      <td>1</td>\n",
       "      <td>0</td>\n",
       "      <td>4</td>\n",
       "      <td>1</td>\n",
       "      <td>3294</td>\n",
       "      <td>93</td>\n",
       "      <td>1232</td>\n",
       "      <td>...</td>\n",
       "      <td>491</td>\n",
       "      <td>38</td>\n",
       "      <td>67</td>\n",
       "      <td>1</td>\n",
       "      <td>0</td>\n",
       "      <td>0</td>\n",
       "      <td>13</td>\n",
       "      <td>48</td>\n",
       "      <td>18226</td>\n",
       "      <td>949</td>\n",
       "    </tr>\n",
       "    <tr>\n",
       "      <th>362239</th>\n",
       "      <td>20499</td>\n",
       "      <td>0</td>\n",
       "      <td>1</td>\n",
       "      <td>8</td>\n",
       "      <td>0</td>\n",
       "      <td>20</td>\n",
       "      <td>1</td>\n",
       "      <td>4909</td>\n",
       "      <td>14</td>\n",
       "      <td>19560</td>\n",
       "      <td>...</td>\n",
       "      <td>365</td>\n",
       "      <td>16</td>\n",
       "      <td>27</td>\n",
       "      <td>0</td>\n",
       "      <td>0</td>\n",
       "      <td>0</td>\n",
       "      <td>12</td>\n",
       "      <td>15</td>\n",
       "      <td>12803</td>\n",
       "      <td>1376</td>\n",
       "    </tr>\n",
       "    <tr>\n",
       "      <th>362240</th>\n",
       "      <td>17994</td>\n",
       "      <td>6</td>\n",
       "      <td>0</td>\n",
       "      <td>0</td>\n",
       "      <td>0</td>\n",
       "      <td>0</td>\n",
       "      <td>1</td>\n",
       "      <td>2222</td>\n",
       "      <td>59</td>\n",
       "      <td>2218</td>\n",
       "      <td>...</td>\n",
       "      <td>385</td>\n",
       "      <td>65</td>\n",
       "      <td>65</td>\n",
       "      <td>0</td>\n",
       "      <td>0</td>\n",
       "      <td>0</td>\n",
       "      <td>13</td>\n",
       "      <td>44</td>\n",
       "      <td>1866</td>\n",
       "      <td>2484</td>\n",
       "    </tr>\n",
       "    <tr>\n",
       "      <th>362241</th>\n",
       "      <td>19906</td>\n",
       "      <td>5</td>\n",
       "      <td>0</td>\n",
       "      <td>0</td>\n",
       "      <td>0</td>\n",
       "      <td>2</td>\n",
       "      <td>1</td>\n",
       "      <td>1979</td>\n",
       "      <td>86</td>\n",
       "      <td>18181</td>\n",
       "      <td>...</td>\n",
       "      <td>491</td>\n",
       "      <td>56</td>\n",
       "      <td>53</td>\n",
       "      <td>0</td>\n",
       "      <td>1</td>\n",
       "      <td>0</td>\n",
       "      <td>13</td>\n",
       "      <td>37</td>\n",
       "      <td>18100</td>\n",
       "      <td>560</td>\n",
       "    </tr>\n",
       "    <tr>\n",
       "      <th>362242</th>\n",
       "      <td>19615</td>\n",
       "      <td>5</td>\n",
       "      <td>0</td>\n",
       "      <td>0</td>\n",
       "      <td>0</td>\n",
       "      <td>2</td>\n",
       "      <td>1</td>\n",
       "      <td>1979</td>\n",
       "      <td>86</td>\n",
       "      <td>17640</td>\n",
       "      <td>...</td>\n",
       "      <td>491</td>\n",
       "      <td>56</td>\n",
       "      <td>53</td>\n",
       "      <td>0</td>\n",
       "      <td>1</td>\n",
       "      <td>0</td>\n",
       "      <td>13</td>\n",
       "      <td>37</td>\n",
       "      <td>17538</td>\n",
       "      <td>488</td>\n",
       "    </tr>\n",
       "  </tbody>\n",
       "</table>\n",
       "<p>362243 rows × 26 columns</p>\n",
       "</div>"
      ],
      "text/plain": [
       "        number  incident_state  active  reassignment_count  reopen_count  \\\n",
       "0        24448               7       1                   0             0   \n",
       "1         6824               0       1                   0             0   \n",
       "2        20989               6       1                   1             0   \n",
       "3        18725               0       1                   0             0   \n",
       "4         4730               0       1                   1             0   \n",
       "...        ...             ...     ...                 ...           ...   \n",
       "362238     900               3       1                   1             0   \n",
       "362239   20499               0       1                   8             0   \n",
       "362240   17994               6       0                   0             0   \n",
       "362241   19906               5       0                   0             0   \n",
       "362242   19615               5       0                   0             0   \n",
       "\n",
       "        sys_mod_count  made_sla  caller_id  opened_by  opened_at  ...  \\\n",
       "0                   5         1       3534          4      14894  ...   \n",
       "1                   2         1       4326         31       4544  ...   \n",
       "2                   3         1       2655          4      12031  ...   \n",
       "3                   0         1       2458        147      11645  ...   \n",
       "4                   5         1       1008         60       2868  ...   \n",
       "...               ...       ...        ...        ...        ...  ...   \n",
       "362238              4         1       3294         93       1232  ...   \n",
       "362239             20         1       4909         14      19560  ...   \n",
       "362240              0         1       2222         59       2218  ...   \n",
       "362241              2         1       1979         86      18181  ...   \n",
       "362242              2         1       1979         86      17640  ...   \n",
       "\n",
       "        u_symptom  assignment_group  assigned_to  knowledge  \\\n",
       "0             491                18           13          0   \n",
       "1             517                11          135          0   \n",
       "2             189                19          214          0   \n",
       "3             365                14          121          0   \n",
       "4             247                77           43          0   \n",
       "...           ...               ...          ...        ...   \n",
       "362238        491                38           67          1   \n",
       "362239        365                16           27          0   \n",
       "362240        385                65           65          0   \n",
       "362241        491                56           53          0   \n",
       "362242        491                56           53          0   \n",
       "\n",
       "        u_priority_confirmation  notify  closed_code  resolved_by  \\\n",
       "0                             1       0           13            1   \n",
       "1                             0       0           13          114   \n",
       "2                             0       0           13          187   \n",
       "3                             0       0           13          101   \n",
       "4                             0       0           16           28   \n",
       "...                         ...     ...          ...          ...   \n",
       "362238                        0       0           13           48   \n",
       "362239                        0       0           12           15   \n",
       "362240                        0       0           13           44   \n",
       "362241                        1       0           13           37   \n",
       "362242                        1       0           13           37   \n",
       "\n",
       "        resolved_at  closed_at  \n",
       "0              1169       2502  \n",
       "1              4101       1689  \n",
       "2             12086       1137  \n",
       "3             11380        156  \n",
       "4              5133       1867  \n",
       "...             ...        ...  \n",
       "362238        18226        949  \n",
       "362239        12803       1376  \n",
       "362240         1866       2484  \n",
       "362241        18100        560  \n",
       "362242        17538        488  \n",
       "\n",
       "[362243 rows x 26 columns]"
      ]
     },
     "execution_count": 95,
     "metadata": {},
     "output_type": "execute_result"
    }
   ],
   "source": [
    "x_res"
   ]
  },
  {
   "cell_type": "code",
   "execution_count": 96,
   "metadata": {
    "executionInfo": {
     "elapsed": 353,
     "status": "ok",
     "timestamp": 1628681810682,
     "user": {
      "displayName": "sagar nagpal",
      "photoUrl": "https://lh3.googleusercontent.com/a-/AOh14GjDIuXJgSm71Ctdbko-AeQitxK-wq1j4-SXkuxktA=s64",
      "userId": "03790130100156359022"
     },
     "user_tz": -330
    },
    "id": "6LP-EWQwHT5L"
   },
   "outputs": [],
   "source": [
    "x_res.columns = [X.columns]"
   ]
  },
  {
   "cell_type": "code",
   "execution_count": 97,
   "metadata": {
    "colab": {
     "base_uri": "https://localhost:8080/",
     "height": 428
    },
    "executionInfo": {
     "elapsed": 355,
     "status": "ok",
     "timestamp": 1628681810692,
     "user": {
      "displayName": "sagar nagpal",
      "photoUrl": "https://lh3.googleusercontent.com/a-/AOh14GjDIuXJgSm71Ctdbko-AeQitxK-wq1j4-SXkuxktA=s64",
      "userId": "03790130100156359022"
     },
     "user_tz": -330
    },
    "id": "uVvLVr5PIHrM",
    "outputId": "7fa17068-6244-4fd7-ddd4-72b11be55fb1"
   },
   "outputs": [
    {
     "data": {
      "text/html": [
       "<div>\n",
       "<style scoped>\n",
       "    .dataframe tbody tr th:only-of-type {\n",
       "        vertical-align: middle;\n",
       "    }\n",
       "\n",
       "    .dataframe tbody tr th {\n",
       "        vertical-align: top;\n",
       "    }\n",
       "\n",
       "    .dataframe thead tr th {\n",
       "        text-align: left;\n",
       "    }\n",
       "</style>\n",
       "<table border=\"1\" class=\"dataframe\">\n",
       "  <thead>\n",
       "    <tr>\n",
       "      <th></th>\n",
       "      <th>number</th>\n",
       "      <th>incident_state</th>\n",
       "      <th>active</th>\n",
       "      <th>reassignment_count</th>\n",
       "      <th>reopen_count</th>\n",
       "      <th>sys_mod_count</th>\n",
       "      <th>made_sla</th>\n",
       "      <th>caller_id</th>\n",
       "      <th>opened_by</th>\n",
       "      <th>opened_at</th>\n",
       "      <th>...</th>\n",
       "      <th>u_symptom</th>\n",
       "      <th>assignment_group</th>\n",
       "      <th>assigned_to</th>\n",
       "      <th>knowledge</th>\n",
       "      <th>u_priority_confirmation</th>\n",
       "      <th>notify</th>\n",
       "      <th>closed_code</th>\n",
       "      <th>resolved_by</th>\n",
       "      <th>resolved_at</th>\n",
       "      <th>closed_at</th>\n",
       "    </tr>\n",
       "  </thead>\n",
       "  <tbody>\n",
       "    <tr>\n",
       "      <th>0</th>\n",
       "      <td>24448</td>\n",
       "      <td>7</td>\n",
       "      <td>1</td>\n",
       "      <td>0</td>\n",
       "      <td>0</td>\n",
       "      <td>5</td>\n",
       "      <td>1</td>\n",
       "      <td>3534</td>\n",
       "      <td>4</td>\n",
       "      <td>14894</td>\n",
       "      <td>...</td>\n",
       "      <td>491</td>\n",
       "      <td>18</td>\n",
       "      <td>13</td>\n",
       "      <td>0</td>\n",
       "      <td>1</td>\n",
       "      <td>0</td>\n",
       "      <td>13</td>\n",
       "      <td>1</td>\n",
       "      <td>1169</td>\n",
       "      <td>2502</td>\n",
       "    </tr>\n",
       "    <tr>\n",
       "      <th>1</th>\n",
       "      <td>6824</td>\n",
       "      <td>0</td>\n",
       "      <td>1</td>\n",
       "      <td>0</td>\n",
       "      <td>0</td>\n",
       "      <td>2</td>\n",
       "      <td>1</td>\n",
       "      <td>4326</td>\n",
       "      <td>31</td>\n",
       "      <td>4544</td>\n",
       "      <td>...</td>\n",
       "      <td>517</td>\n",
       "      <td>11</td>\n",
       "      <td>135</td>\n",
       "      <td>0</td>\n",
       "      <td>0</td>\n",
       "      <td>0</td>\n",
       "      <td>13</td>\n",
       "      <td>114</td>\n",
       "      <td>4101</td>\n",
       "      <td>1689</td>\n",
       "    </tr>\n",
       "    <tr>\n",
       "      <th>2</th>\n",
       "      <td>20989</td>\n",
       "      <td>6</td>\n",
       "      <td>1</td>\n",
       "      <td>1</td>\n",
       "      <td>0</td>\n",
       "      <td>3</td>\n",
       "      <td>1</td>\n",
       "      <td>2655</td>\n",
       "      <td>4</td>\n",
       "      <td>12031</td>\n",
       "      <td>...</td>\n",
       "      <td>189</td>\n",
       "      <td>19</td>\n",
       "      <td>214</td>\n",
       "      <td>0</td>\n",
       "      <td>0</td>\n",
       "      <td>0</td>\n",
       "      <td>13</td>\n",
       "      <td>187</td>\n",
       "      <td>12086</td>\n",
       "      <td>1137</td>\n",
       "    </tr>\n",
       "    <tr>\n",
       "      <th>3</th>\n",
       "      <td>18725</td>\n",
       "      <td>0</td>\n",
       "      <td>1</td>\n",
       "      <td>0</td>\n",
       "      <td>0</td>\n",
       "      <td>0</td>\n",
       "      <td>1</td>\n",
       "      <td>2458</td>\n",
       "      <td>147</td>\n",
       "      <td>11645</td>\n",
       "      <td>...</td>\n",
       "      <td>365</td>\n",
       "      <td>14</td>\n",
       "      <td>121</td>\n",
       "      <td>0</td>\n",
       "      <td>0</td>\n",
       "      <td>0</td>\n",
       "      <td>13</td>\n",
       "      <td>101</td>\n",
       "      <td>11380</td>\n",
       "      <td>156</td>\n",
       "    </tr>\n",
       "    <tr>\n",
       "      <th>4</th>\n",
       "      <td>4730</td>\n",
       "      <td>0</td>\n",
       "      <td>1</td>\n",
       "      <td>1</td>\n",
       "      <td>0</td>\n",
       "      <td>5</td>\n",
       "      <td>1</td>\n",
       "      <td>1008</td>\n",
       "      <td>60</td>\n",
       "      <td>2868</td>\n",
       "      <td>...</td>\n",
       "      <td>247</td>\n",
       "      <td>77</td>\n",
       "      <td>43</td>\n",
       "      <td>0</td>\n",
       "      <td>0</td>\n",
       "      <td>0</td>\n",
       "      <td>16</td>\n",
       "      <td>28</td>\n",
       "      <td>5133</td>\n",
       "      <td>1867</td>\n",
       "    </tr>\n",
       "    <tr>\n",
       "      <th>...</th>\n",
       "      <td>...</td>\n",
       "      <td>...</td>\n",
       "      <td>...</td>\n",
       "      <td>...</td>\n",
       "      <td>...</td>\n",
       "      <td>...</td>\n",
       "      <td>...</td>\n",
       "      <td>...</td>\n",
       "      <td>...</td>\n",
       "      <td>...</td>\n",
       "      <td>...</td>\n",
       "      <td>...</td>\n",
       "      <td>...</td>\n",
       "      <td>...</td>\n",
       "      <td>...</td>\n",
       "      <td>...</td>\n",
       "      <td>...</td>\n",
       "      <td>...</td>\n",
       "      <td>...</td>\n",
       "      <td>...</td>\n",
       "      <td>...</td>\n",
       "    </tr>\n",
       "    <tr>\n",
       "      <th>362238</th>\n",
       "      <td>900</td>\n",
       "      <td>3</td>\n",
       "      <td>1</td>\n",
       "      <td>1</td>\n",
       "      <td>0</td>\n",
       "      <td>4</td>\n",
       "      <td>1</td>\n",
       "      <td>3294</td>\n",
       "      <td>93</td>\n",
       "      <td>1232</td>\n",
       "      <td>...</td>\n",
       "      <td>491</td>\n",
       "      <td>38</td>\n",
       "      <td>67</td>\n",
       "      <td>1</td>\n",
       "      <td>0</td>\n",
       "      <td>0</td>\n",
       "      <td>13</td>\n",
       "      <td>48</td>\n",
       "      <td>18226</td>\n",
       "      <td>949</td>\n",
       "    </tr>\n",
       "    <tr>\n",
       "      <th>362239</th>\n",
       "      <td>20499</td>\n",
       "      <td>0</td>\n",
       "      <td>1</td>\n",
       "      <td>8</td>\n",
       "      <td>0</td>\n",
       "      <td>20</td>\n",
       "      <td>1</td>\n",
       "      <td>4909</td>\n",
       "      <td>14</td>\n",
       "      <td>19560</td>\n",
       "      <td>...</td>\n",
       "      <td>365</td>\n",
       "      <td>16</td>\n",
       "      <td>27</td>\n",
       "      <td>0</td>\n",
       "      <td>0</td>\n",
       "      <td>0</td>\n",
       "      <td>12</td>\n",
       "      <td>15</td>\n",
       "      <td>12803</td>\n",
       "      <td>1376</td>\n",
       "    </tr>\n",
       "    <tr>\n",
       "      <th>362240</th>\n",
       "      <td>17994</td>\n",
       "      <td>6</td>\n",
       "      <td>0</td>\n",
       "      <td>0</td>\n",
       "      <td>0</td>\n",
       "      <td>0</td>\n",
       "      <td>1</td>\n",
       "      <td>2222</td>\n",
       "      <td>59</td>\n",
       "      <td>2218</td>\n",
       "      <td>...</td>\n",
       "      <td>385</td>\n",
       "      <td>65</td>\n",
       "      <td>65</td>\n",
       "      <td>0</td>\n",
       "      <td>0</td>\n",
       "      <td>0</td>\n",
       "      <td>13</td>\n",
       "      <td>44</td>\n",
       "      <td>1866</td>\n",
       "      <td>2484</td>\n",
       "    </tr>\n",
       "    <tr>\n",
       "      <th>362241</th>\n",
       "      <td>19906</td>\n",
       "      <td>5</td>\n",
       "      <td>0</td>\n",
       "      <td>0</td>\n",
       "      <td>0</td>\n",
       "      <td>2</td>\n",
       "      <td>1</td>\n",
       "      <td>1979</td>\n",
       "      <td>86</td>\n",
       "      <td>18181</td>\n",
       "      <td>...</td>\n",
       "      <td>491</td>\n",
       "      <td>56</td>\n",
       "      <td>53</td>\n",
       "      <td>0</td>\n",
       "      <td>1</td>\n",
       "      <td>0</td>\n",
       "      <td>13</td>\n",
       "      <td>37</td>\n",
       "      <td>18100</td>\n",
       "      <td>560</td>\n",
       "    </tr>\n",
       "    <tr>\n",
       "      <th>362242</th>\n",
       "      <td>19615</td>\n",
       "      <td>5</td>\n",
       "      <td>0</td>\n",
       "      <td>0</td>\n",
       "      <td>0</td>\n",
       "      <td>2</td>\n",
       "      <td>1</td>\n",
       "      <td>1979</td>\n",
       "      <td>86</td>\n",
       "      <td>17640</td>\n",
       "      <td>...</td>\n",
       "      <td>491</td>\n",
       "      <td>56</td>\n",
       "      <td>53</td>\n",
       "      <td>0</td>\n",
       "      <td>1</td>\n",
       "      <td>0</td>\n",
       "      <td>13</td>\n",
       "      <td>37</td>\n",
       "      <td>17538</td>\n",
       "      <td>488</td>\n",
       "    </tr>\n",
       "  </tbody>\n",
       "</table>\n",
       "<p>362243 rows × 26 columns</p>\n",
       "</div>"
      ],
      "text/plain": [
       "       number incident_state active reassignment_count reopen_count  \\\n",
       "0       24448              7      1                  0            0   \n",
       "1        6824              0      1                  0            0   \n",
       "2       20989              6      1                  1            0   \n",
       "3       18725              0      1                  0            0   \n",
       "4        4730              0      1                  1            0   \n",
       "...       ...            ...    ...                ...          ...   \n",
       "362238    900              3      1                  1            0   \n",
       "362239  20499              0      1                  8            0   \n",
       "362240  17994              6      0                  0            0   \n",
       "362241  19906              5      0                  0            0   \n",
       "362242  19615              5      0                  0            0   \n",
       "\n",
       "       sys_mod_count made_sla caller_id opened_by opened_at  ... u_symptom  \\\n",
       "0                  5        1      3534         4     14894  ...       491   \n",
       "1                  2        1      4326        31      4544  ...       517   \n",
       "2                  3        1      2655         4     12031  ...       189   \n",
       "3                  0        1      2458       147     11645  ...       365   \n",
       "4                  5        1      1008        60      2868  ...       247   \n",
       "...              ...      ...       ...       ...       ...  ...       ...   \n",
       "362238             4        1      3294        93      1232  ...       491   \n",
       "362239            20        1      4909        14     19560  ...       365   \n",
       "362240             0        1      2222        59      2218  ...       385   \n",
       "362241             2        1      1979        86     18181  ...       491   \n",
       "362242             2        1      1979        86     17640  ...       491   \n",
       "\n",
       "       assignment_group assigned_to knowledge u_priority_confirmation notify  \\\n",
       "0                    18          13         0                       1      0   \n",
       "1                    11         135         0                       0      0   \n",
       "2                    19         214         0                       0      0   \n",
       "3                    14         121         0                       0      0   \n",
       "4                    77          43         0                       0      0   \n",
       "...                 ...         ...       ...                     ...    ...   \n",
       "362238               38          67         1                       0      0   \n",
       "362239               16          27         0                       0      0   \n",
       "362240               65          65         0                       0      0   \n",
       "362241               56          53         0                       1      0   \n",
       "362242               56          53         0                       1      0   \n",
       "\n",
       "       closed_code resolved_by resolved_at closed_at  \n",
       "0               13           1        1169      2502  \n",
       "1               13         114        4101      1689  \n",
       "2               13         187       12086      1137  \n",
       "3               13         101       11380       156  \n",
       "4               16          28        5133      1867  \n",
       "...            ...         ...         ...       ...  \n",
       "362238          13          48       18226       949  \n",
       "362239          12          15       12803      1376  \n",
       "362240          13          44        1866      2484  \n",
       "362241          13          37       18100       560  \n",
       "362242          13          37       17538       488  \n",
       "\n",
       "[362243 rows x 26 columns]"
      ]
     },
     "execution_count": 97,
     "metadata": {},
     "output_type": "execute_result"
    }
   ],
   "source": [
    "x_res"
   ]
  },
  {
   "cell_type": "code",
   "execution_count": 98,
   "metadata": {
    "colab": {
     "base_uri": "https://localhost:8080/",
     "height": 408
    },
    "executionInfo": {
     "elapsed": 335,
     "status": "ok",
     "timestamp": 1628681810699,
     "user": {
      "displayName": "sagar nagpal",
      "photoUrl": "https://lh3.googleusercontent.com/a-/AOh14GjDIuXJgSm71Ctdbko-AeQitxK-wq1j4-SXkuxktA=s64",
      "userId": "03790130100156359022"
     },
     "user_tz": -330
    },
    "id": "WsjYQ5E6JEh3",
    "outputId": "c2c9faae-a2ab-4219-ed3d-9fabb588ea6a"
   },
   "outputs": [
    {
     "data": {
      "text/html": [
       "<div>\n",
       "<style scoped>\n",
       "    .dataframe tbody tr th:only-of-type {\n",
       "        vertical-align: middle;\n",
       "    }\n",
       "\n",
       "    .dataframe tbody tr th {\n",
       "        vertical-align: top;\n",
       "    }\n",
       "\n",
       "    .dataframe thead tr th {\n",
       "        text-align: left;\n",
       "    }\n",
       "</style>\n",
       "<table border=\"1\" class=\"dataframe\">\n",
       "  <thead>\n",
       "    <tr>\n",
       "      <th></th>\n",
       "      <th>number</th>\n",
       "      <th>resolved_by</th>\n",
       "      <th>assigned_to</th>\n",
       "      <th>assignment_group</th>\n",
       "      <th>u_symptom</th>\n",
       "      <th>subcategory</th>\n",
       "      <th>category</th>\n",
       "      <th>location</th>\n",
       "      <th>resolved_at</th>\n",
       "      <th>sys_updated_by</th>\n",
       "      <th>closed_at</th>\n",
       "      <th>opened_by</th>\n",
       "      <th>sys_mod_count</th>\n",
       "    </tr>\n",
       "  </thead>\n",
       "  <tbody>\n",
       "    <tr>\n",
       "      <th>0</th>\n",
       "      <td>24448</td>\n",
       "      <td>1</td>\n",
       "      <td>13</td>\n",
       "      <td>18</td>\n",
       "      <td>491</td>\n",
       "      <td>73</td>\n",
       "      <td>58</td>\n",
       "      <td>27</td>\n",
       "      <td>1169</td>\n",
       "      <td>306</td>\n",
       "      <td>2502</td>\n",
       "      <td>4</td>\n",
       "      <td>5</td>\n",
       "    </tr>\n",
       "    <tr>\n",
       "      <th>1</th>\n",
       "      <td>6824</td>\n",
       "      <td>114</td>\n",
       "      <td>135</td>\n",
       "      <td>11</td>\n",
       "      <td>517</td>\n",
       "      <td>189</td>\n",
       "      <td>12</td>\n",
       "      <td>13</td>\n",
       "      <td>4101</td>\n",
       "      <td>727</td>\n",
       "      <td>1689</td>\n",
       "      <td>31</td>\n",
       "      <td>2</td>\n",
       "    </tr>\n",
       "    <tr>\n",
       "      <th>2</th>\n",
       "      <td>20989</td>\n",
       "      <td>187</td>\n",
       "      <td>214</td>\n",
       "      <td>19</td>\n",
       "      <td>189</td>\n",
       "      <td>84</td>\n",
       "      <td>48</td>\n",
       "      <td>43</td>\n",
       "      <td>12086</td>\n",
       "      <td>108</td>\n",
       "      <td>1137</td>\n",
       "      <td>4</td>\n",
       "      <td>3</td>\n",
       "    </tr>\n",
       "    <tr>\n",
       "      <th>3</th>\n",
       "      <td>18725</td>\n",
       "      <td>101</td>\n",
       "      <td>121</td>\n",
       "      <td>14</td>\n",
       "      <td>365</td>\n",
       "      <td>73</td>\n",
       "      <td>32</td>\n",
       "      <td>59</td>\n",
       "      <td>11380</td>\n",
       "      <td>685</td>\n",
       "      <td>156</td>\n",
       "      <td>147</td>\n",
       "      <td>0</td>\n",
       "    </tr>\n",
       "    <tr>\n",
       "      <th>4</th>\n",
       "      <td>4730</td>\n",
       "      <td>28</td>\n",
       "      <td>43</td>\n",
       "      <td>77</td>\n",
       "      <td>247</td>\n",
       "      <td>249</td>\n",
       "      <td>25</td>\n",
       "      <td>104</td>\n",
       "      <td>5133</td>\n",
       "      <td>445</td>\n",
       "      <td>1867</td>\n",
       "      <td>60</td>\n",
       "      <td>5</td>\n",
       "    </tr>\n",
       "    <tr>\n",
       "      <th>...</th>\n",
       "      <td>...</td>\n",
       "      <td>...</td>\n",
       "      <td>...</td>\n",
       "      <td>...</td>\n",
       "      <td>...</td>\n",
       "      <td>...</td>\n",
       "      <td>...</td>\n",
       "      <td>...</td>\n",
       "      <td>...</td>\n",
       "      <td>...</td>\n",
       "      <td>...</td>\n",
       "      <td>...</td>\n",
       "      <td>...</td>\n",
       "    </tr>\n",
       "    <tr>\n",
       "      <th>362238</th>\n",
       "      <td>900</td>\n",
       "      <td>48</td>\n",
       "      <td>67</td>\n",
       "      <td>38</td>\n",
       "      <td>491</td>\n",
       "      <td>211</td>\n",
       "      <td>38</td>\n",
       "      <td>43</td>\n",
       "      <td>18226</td>\n",
       "      <td>650</td>\n",
       "      <td>949</td>\n",
       "      <td>93</td>\n",
       "      <td>4</td>\n",
       "    </tr>\n",
       "    <tr>\n",
       "      <th>362239</th>\n",
       "      <td>20499</td>\n",
       "      <td>15</td>\n",
       "      <td>27</td>\n",
       "      <td>16</td>\n",
       "      <td>365</td>\n",
       "      <td>73</td>\n",
       "      <td>44</td>\n",
       "      <td>11</td>\n",
       "      <td>12803</td>\n",
       "      <td>388</td>\n",
       "      <td>1376</td>\n",
       "      <td>14</td>\n",
       "      <td>20</td>\n",
       "    </tr>\n",
       "    <tr>\n",
       "      <th>362240</th>\n",
       "      <td>17994</td>\n",
       "      <td>44</td>\n",
       "      <td>65</td>\n",
       "      <td>65</td>\n",
       "      <td>385</td>\n",
       "      <td>97</td>\n",
       "      <td>19</td>\n",
       "      <td>108</td>\n",
       "      <td>1866</td>\n",
       "      <td>740</td>\n",
       "      <td>2484</td>\n",
       "      <td>59</td>\n",
       "      <td>0</td>\n",
       "    </tr>\n",
       "    <tr>\n",
       "      <th>362241</th>\n",
       "      <td>19906</td>\n",
       "      <td>37</td>\n",
       "      <td>53</td>\n",
       "      <td>56</td>\n",
       "      <td>491</td>\n",
       "      <td>73</td>\n",
       "      <td>17</td>\n",
       "      <td>87</td>\n",
       "      <td>18100</td>\n",
       "      <td>762</td>\n",
       "      <td>560</td>\n",
       "      <td>86</td>\n",
       "      <td>2</td>\n",
       "    </tr>\n",
       "    <tr>\n",
       "      <th>362242</th>\n",
       "      <td>19615</td>\n",
       "      <td>37</td>\n",
       "      <td>53</td>\n",
       "      <td>56</td>\n",
       "      <td>491</td>\n",
       "      <td>73</td>\n",
       "      <td>17</td>\n",
       "      <td>87</td>\n",
       "      <td>17538</td>\n",
       "      <td>762</td>\n",
       "      <td>488</td>\n",
       "      <td>86</td>\n",
       "      <td>2</td>\n",
       "    </tr>\n",
       "  </tbody>\n",
       "</table>\n",
       "<p>362243 rows × 13 columns</p>\n",
       "</div>"
      ],
      "text/plain": [
       "       number resolved_by assigned_to assignment_group u_symptom subcategory  \\\n",
       "0       24448           1          13               18       491          73   \n",
       "1        6824         114         135               11       517         189   \n",
       "2       20989         187         214               19       189          84   \n",
       "3       18725         101         121               14       365          73   \n",
       "4        4730          28          43               77       247         249   \n",
       "...       ...         ...         ...              ...       ...         ...   \n",
       "362238    900          48          67               38       491         211   \n",
       "362239  20499          15          27               16       365          73   \n",
       "362240  17994          44          65               65       385          97   \n",
       "362241  19906          37          53               56       491          73   \n",
       "362242  19615          37          53               56       491          73   \n",
       "\n",
       "       category location resolved_at sys_updated_by closed_at opened_by  \\\n",
       "0            58       27        1169            306      2502         4   \n",
       "1            12       13        4101            727      1689        31   \n",
       "2            48       43       12086            108      1137         4   \n",
       "3            32       59       11380            685       156       147   \n",
       "4            25      104        5133            445      1867        60   \n",
       "...         ...      ...         ...            ...       ...       ...   \n",
       "362238       38       43       18226            650       949        93   \n",
       "362239       44       11       12803            388      1376        14   \n",
       "362240       19      108        1866            740      2484        59   \n",
       "362241       17       87       18100            762       560        86   \n",
       "362242       17       87       17538            762       488        86   \n",
       "\n",
       "       sys_mod_count  \n",
       "0                  5  \n",
       "1                  2  \n",
       "2                  3  \n",
       "3                  0  \n",
       "4                  5  \n",
       "...              ...  \n",
       "362238             4  \n",
       "362239            20  \n",
       "362240             0  \n",
       "362241             2  \n",
       "362242             2  \n",
       "\n",
       "[362243 rows x 13 columns]"
      ]
     },
     "execution_count": 98,
     "metadata": {},
     "output_type": "execute_result"
    }
   ],
   "source": [
    "# Selecting only selected features from all\n",
    "x = x_res[selected_features]\n",
    "x"
   ]
  },
  {
   "cell_type": "markdown",
   "metadata": {
    "id": "AJ-4dVsx3Ed-"
   },
   "source": [
    "#Modelling process"
   ]
  },
  {
   "cell_type": "markdown",
   "metadata": {
    "id": "RuK2HMIO2Utl"
   },
   "source": [
    "### Again we are spliting the train data into Train and Test into 80:20 ratio. So, that we can run final model on our test data."
   ]
  },
  {
   "cell_type": "code",
   "execution_count": 99,
   "metadata": {
    "executionInfo": {
     "elapsed": 326,
     "status": "ok",
     "timestamp": 1628681810705,
     "user": {
      "displayName": "sagar nagpal",
      "photoUrl": "https://lh3.googleusercontent.com/a-/AOh14GjDIuXJgSm71Ctdbko-AeQitxK-wq1j4-SXkuxktA=s64",
      "userId": "03790130100156359022"
     },
     "user_tz": -330
    },
    "id": "eUslOPrcNFj6"
   },
   "outputs": [],
   "source": [
    "from sklearn.model_selection import train_test_split"
   ]
  },
  {
   "cell_type": "code",
   "execution_count": 100,
   "metadata": {
    "executionInfo": {
     "elapsed": 328,
     "status": "ok",
     "timestamp": 1628681810714,
     "user": {
      "displayName": "sagar nagpal",
      "photoUrl": "https://lh3.googleusercontent.com/a-/AOh14GjDIuXJgSm71Ctdbko-AeQitxK-wq1j4-SXkuxktA=s64",
      "userId": "03790130100156359022"
     },
     "user_tz": -330
    },
    "id": "UkdYOXJRNIj8"
   },
   "outputs": [],
   "source": [
    "X_train,X_val,y_train,y_val=train_test_split(x, y_res,test_size=0.20,random_state=20)"
   ]
  },
  {
   "cell_type": "code",
   "execution_count": 101,
   "metadata": {
    "colab": {
     "base_uri": "https://localhost:8080/"
    },
    "executionInfo": {
     "elapsed": 327,
     "status": "ok",
     "timestamp": 1628681810720,
     "user": {
      "displayName": "sagar nagpal",
      "photoUrl": "https://lh3.googleusercontent.com/a-/AOh14GjDIuXJgSm71Ctdbko-AeQitxK-wq1j4-SXkuxktA=s64",
      "userId": "03790130100156359022"
     },
     "user_tz": -330
    },
    "id": "XZNHY-lORjdr",
    "outputId": "baea09b9-ae43-4745-fe20-5ba7b6ccf354"
   },
   "outputs": [
    {
     "data": {
      "text/plain": [
       "((289794, 13), (72449, 13), (289794, 1), (72449, 1))"
      ]
     },
     "execution_count": 101,
     "metadata": {},
     "output_type": "execute_result"
    }
   ],
   "source": [
    "X_train.shape,X_val.shape,y_train.shape,y_val.shape"
   ]
  },
  {
   "cell_type": "markdown",
   "metadata": {
    "id": "E1Lkjvhg28H0"
   },
   "source": [
    "# Logistic Regression"
   ]
  },
  {
   "cell_type": "code",
   "execution_count": 102,
   "metadata": {
    "colab": {
     "base_uri": "https://localhost:8080/"
    },
    "executionInfo": {
     "elapsed": 17461,
     "status": "ok",
     "timestamp": 1628681827913,
     "user": {
      "displayName": "sagar nagpal",
      "photoUrl": "https://lh3.googleusercontent.com/a-/AOh14GjDIuXJgSm71Ctdbko-AeQitxK-wq1j4-SXkuxktA=s64",
      "userId": "03790130100156359022"
     },
     "user_tz": -330
    },
    "id": "3Bn7-mnAfVHq",
    "outputId": "e141a136-c8ef-4341-f833-c478f571d4db"
   },
   "outputs": [
    {
     "data": {
      "text/plain": [
       "0.4820770473022402"
      ]
     },
     "execution_count": 102,
     "metadata": {},
     "output_type": "execute_result"
    }
   ],
   "source": [
    "model_LR=LogisticRegression()\n",
    "model_LR.fit(X_train, y_train)\n",
    "model_LR.score(X_val,y_val)"
   ]
  },
  {
   "cell_type": "code",
   "execution_count": 103,
   "metadata": {
    "colab": {
     "base_uri": "https://localhost:8080/"
    },
    "executionInfo": {
     "elapsed": 183,
     "status": "ok",
     "timestamp": 1628681827921,
     "user": {
      "displayName": "sagar nagpal",
      "photoUrl": "https://lh3.googleusercontent.com/a-/AOh14GjDIuXJgSm71Ctdbko-AeQitxK-wq1j4-SXkuxktA=s64",
      "userId": "03790130100156359022"
     },
     "user_tz": -330
    },
    "id": "DZQzwGx_-9CQ",
    "outputId": "77c4aaf4-3b63-42cf-d1f2-43aac64f4884"
   },
   "outputs": [
    {
     "name": "stdout",
     "output_type": "stream",
     "text": [
      "[[13080  5770  5134]\n",
      " [ 9050  6890  8438]\n",
      " [ 3707  5424 14956]]\n",
      "              precision    recall  f1-score   support\n",
      "\n",
      "           1       0.51      0.55      0.53     23984\n",
      "           2       0.38      0.28      0.32     24378\n",
      "           3       0.52      0.62      0.57     24087\n",
      "\n",
      "    accuracy                           0.48     72449\n",
      "   macro avg       0.47      0.48      0.47     72449\n",
      "weighted avg       0.47      0.48      0.47     72449\n",
      "\n"
     ]
    }
   ],
   "source": [
    "from sklearn.metrics import confusion_matrix\n",
    "y_pred=model_LR.predict(X_val)  \n",
    "confusion_matrix=confusion_matrix(y_val,y_pred)\n",
    "print(confusion_matrix)\n",
    "\n",
    "from sklearn.metrics import classification_report\n",
    "classification_report=classification_report(y_val,y_pred)\n",
    "print(classification_report)"
   ]
  },
  {
   "cell_type": "markdown",
   "metadata": {
    "id": "qMn4ychH3OtF"
   },
   "source": [
    "# Decision Tree Classifier"
   ]
  },
  {
   "cell_type": "code",
   "execution_count": 104,
   "metadata": {
    "executionInfo": {
     "elapsed": 132,
     "status": "ok",
     "timestamp": 1628681827927,
     "user": {
      "displayName": "sagar nagpal",
      "photoUrl": "https://lh3.googleusercontent.com/a-/AOh14GjDIuXJgSm71Ctdbko-AeQitxK-wq1j4-SXkuxktA=s64",
      "userId": "03790130100156359022"
     },
     "user_tz": -330
    },
    "id": "fW51D-SBJrdx"
   },
   "outputs": [],
   "source": [
    "from sklearn.tree import DecisionTreeClassifier"
   ]
  },
  {
   "cell_type": "code",
   "execution_count": 105,
   "metadata": {
    "colab": {
     "base_uri": "https://localhost:8080/"
    },
    "executionInfo": {
     "elapsed": 5391,
     "status": "ok",
     "timestamp": 1628681833193,
     "user": {
      "displayName": "sagar nagpal",
      "photoUrl": "https://lh3.googleusercontent.com/a-/AOh14GjDIuXJgSm71Ctdbko-AeQitxK-wq1j4-SXkuxktA=s64",
      "userId": "03790130100156359022"
     },
     "user_tz": -330
    },
    "id": "GvdQha7Vj3E9",
    "outputId": "7866511f-207c-48e9-ccf7-5413af7ec070"
   },
   "outputs": [
    {
     "data": {
      "text/plain": [
       "0.9825946527902386"
      ]
     },
     "execution_count": 105,
     "metadata": {},
     "output_type": "execute_result"
    }
   ],
   "source": [
    "model_ent = DecisionTreeClassifier()\n",
    "model_ent.fit(X_train, y_train)\n",
    "model_ent.score(X_val,y_val)"
   ]
  },
  {
   "cell_type": "code",
   "execution_count": 106,
   "metadata": {
    "colab": {
     "base_uri": "https://localhost:8080/"
    },
    "executionInfo": {
     "elapsed": 141,
     "status": "ok",
     "timestamp": 1628681833201,
     "user": {
      "displayName": "sagar nagpal",
      "photoUrl": "https://lh3.googleusercontent.com/a-/AOh14GjDIuXJgSm71Ctdbko-AeQitxK-wq1j4-SXkuxktA=s64",
      "userId": "03790130100156359022"
     },
     "user_tz": -330
    },
    "id": "i2lWc9afBndP",
    "outputId": "21512b65-7ad1-43db-ce98-638f615ab03c"
   },
   "outputs": [
    {
     "name": "stdout",
     "output_type": "stream",
     "text": [
      "[[23639   236   109]\n",
      " [  374 23806   198]\n",
      " [  137   207 23743]]\n",
      "              precision    recall  f1-score   support\n",
      "\n",
      "           1       0.98      0.99      0.98     23984\n",
      "           2       0.98      0.98      0.98     24378\n",
      "           3       0.99      0.99      0.99     24087\n",
      "\n",
      "    accuracy                           0.98     72449\n",
      "   macro avg       0.98      0.98      0.98     72449\n",
      "weighted avg       0.98      0.98      0.98     72449\n",
      "\n"
     ]
    }
   ],
   "source": [
    "from sklearn.metrics import confusion_matrix\n",
    "y_pred=model_ent.predict(X_val)\n",
    "confusion_matrix=confusion_matrix(y_val,y_pred)\n",
    "print(confusion_matrix)\n",
    "\n",
    "from sklearn.metrics import classification_report\n",
    "classification_report=classification_report(y_val,y_pred)\n",
    "print(classification_report)"
   ]
  },
  {
   "cell_type": "code",
   "execution_count": 107,
   "metadata": {
    "executionInfo": {
     "elapsed": 126,
     "status": "ok",
     "timestamp": 1628681833208,
     "user": {
      "displayName": "sagar nagpal",
      "photoUrl": "https://lh3.googleusercontent.com/a-/AOh14GjDIuXJgSm71Ctdbko-AeQitxK-wq1j4-SXkuxktA=s64",
      "userId": "03790130100156359022"
     },
     "user_tz": -330
    },
    "id": "-npgpWACe5Ek"
   },
   "outputs": [],
   "source": [
    "from sklearn.ensemble import RandomForestClassifier\n",
    "from sklearn.neighbors import KNeighborsClassifier"
   ]
  },
  {
   "cell_type": "markdown",
   "metadata": {
    "id": "zobRe6I03hD6"
   },
   "source": [
    "# KNN"
   ]
  },
  {
   "cell_type": "code",
   "execution_count": 108,
   "metadata": {
    "colab": {
     "base_uri": "https://localhost:8080/"
    },
    "executionInfo": {
     "elapsed": 6334,
     "status": "ok",
     "timestamp": 1628681839424,
     "user": {
      "displayName": "sagar nagpal",
      "photoUrl": "https://lh3.googleusercontent.com/a-/AOh14GjDIuXJgSm71Ctdbko-AeQitxK-wq1j4-SXkuxktA=s64",
      "userId": "03790130100156359022"
     },
     "user_tz": -330
    },
    "id": "2PLLFl9Mag2S",
    "outputId": "72b4e3c9-9bdd-4edf-a0c1-a67a9e06dd91"
   },
   "outputs": [
    {
     "data": {
      "text/plain": [
       "0.9608414194812903"
      ]
     },
     "execution_count": 108,
     "metadata": {},
     "output_type": "execute_result"
    }
   ],
   "source": [
    "model_KNN = KNeighborsClassifier()\n",
    "model_KNN.fit(X_train, y_train)\n",
    "model_KNN.score(X_val,y_val)"
   ]
  },
  {
   "cell_type": "code",
   "execution_count": 109,
   "metadata": {
    "colab": {
     "base_uri": "https://localhost:8080/"
    },
    "executionInfo": {
     "elapsed": 5464,
     "status": "ok",
     "timestamp": 1628681844780,
     "user": {
      "displayName": "sagar nagpal",
      "photoUrl": "https://lh3.googleusercontent.com/a-/AOh14GjDIuXJgSm71Ctdbko-AeQitxK-wq1j4-SXkuxktA=s64",
      "userId": "03790130100156359022"
     },
     "user_tz": -330
    },
    "id": "ByIcEk_IB4F_",
    "outputId": "87fcacf0-6414-4b1c-bee8-54bb498b50ca"
   },
   "outputs": [
    {
     "name": "stdout",
     "output_type": "stream",
     "text": [
      "[[23694   201    89]\n",
      " [ 1133 22185  1060]\n",
      " [  125   229 23733]]\n",
      "              precision    recall  f1-score   support\n",
      "\n",
      "           1       0.95      0.99      0.97     23984\n",
      "           2       0.98      0.91      0.94     24378\n",
      "           3       0.95      0.99      0.97     24087\n",
      "\n",
      "    accuracy                           0.96     72449\n",
      "   macro avg       0.96      0.96      0.96     72449\n",
      "weighted avg       0.96      0.96      0.96     72449\n",
      "\n"
     ]
    }
   ],
   "source": [
    "from sklearn.metrics import confusion_matrix\n",
    "y_pred=model_KNN.predict(X_val)\n",
    "confusion_matrix=confusion_matrix(y_val,y_pred)\n",
    "print(confusion_matrix)\n",
    "\n",
    "from sklearn.metrics import classification_report\n",
    "classification_report=classification_report(y_val,y_pred)\n",
    "print(classification_report)"
   ]
  },
  {
   "cell_type": "markdown",
   "metadata": {
    "id": "L93rannx3VZs"
   },
   "source": [
    "# Random Forest Classifier"
   ]
  },
  {
   "cell_type": "code",
   "execution_count": 110,
   "metadata": {
    "colab": {
     "base_uri": "https://localhost:8080/"
    },
    "executionInfo": {
     "elapsed": 112153,
     "status": "ok",
     "timestamp": 1628681956822,
     "user": {
      "displayName": "sagar nagpal",
      "photoUrl": "https://lh3.googleusercontent.com/a-/AOh14GjDIuXJgSm71Ctdbko-AeQitxK-wq1j4-SXkuxktA=s64",
      "userId": "03790130100156359022"
     },
     "user_tz": -330
    },
    "id": "2kICnfWWe2L3",
    "outputId": "91eac034-3dbf-4679-e40d-9ea3015b6148"
   },
   "outputs": [
    {
     "data": {
      "text/plain": [
       "0.9966735220637966"
      ]
     },
     "execution_count": 110,
     "metadata": {},
     "output_type": "execute_result"
    }
   ],
   "source": [
    "model_RF=RandomForestClassifier(n_estimators=120, criterion='entropy', random_state=43)\n",
    "model_RF.fit(X_train, y_train)\n",
    "model_RF.score(X_val,y_val)"
   ]
  },
  {
   "cell_type": "code",
   "execution_count": 111,
   "metadata": {
    "colab": {
     "base_uri": "https://localhost:8080/"
    },
    "executionInfo": {
     "elapsed": 2470,
     "status": "ok",
     "timestamp": 1628681959168,
     "user": {
      "displayName": "sagar nagpal",
      "photoUrl": "https://lh3.googleusercontent.com/a-/AOh14GjDIuXJgSm71Ctdbko-AeQitxK-wq1j4-SXkuxktA=s64",
      "userId": "03790130100156359022"
     },
     "user_tz": -330
    },
    "id": "F6UArYQk6vsF",
    "outputId": "9a3eb146-7cbe-4308-eb6a-62ed3a0339b3"
   },
   "outputs": [
    {
     "name": "stdout",
     "output_type": "stream",
     "text": [
      "[[23922    52    10]\n",
      " [   66 24258    54]\n",
      " [   16    43 24028]]\n",
      "              precision    recall  f1-score   support\n",
      "\n",
      "           1       1.00      1.00      1.00     23984\n",
      "           2       1.00      1.00      1.00     24378\n",
      "           3       1.00      1.00      1.00     24087\n",
      "\n",
      "    accuracy                           1.00     72449\n",
      "   macro avg       1.00      1.00      1.00     72449\n",
      "weighted avg       1.00      1.00      1.00     72449\n",
      "\n"
     ]
    }
   ],
   "source": [
    "from sklearn.metrics import confusion_matrix\n",
    "y_pred=model_RF.predict(X_val)\n",
    "confusion_matrix=confusion_matrix(y_val,y_pred)\n",
    "print(confusion_matrix)\n",
    "\n",
    "from sklearn.metrics import classification_report\n",
    "classification_report=classification_report(y_val,y_pred)\n",
    "print(classification_report)"
   ]
  },
  {
   "cell_type": "code",
   "execution_count": 112,
   "metadata": {
    "colab": {
     "base_uri": "https://localhost:8080/",
     "height": 428
    },
    "executionInfo": {
     "elapsed": 123,
     "status": "ok",
     "timestamp": 1628681959186,
     "user": {
      "displayName": "sagar nagpal",
      "photoUrl": "https://lh3.googleusercontent.com/a-/AOh14GjDIuXJgSm71Ctdbko-AeQitxK-wq1j4-SXkuxktA=s64",
      "userId": "03790130100156359022"
     },
     "user_tz": -330
    },
    "id": "pMYiBC_gmFO7",
    "outputId": "a3837f7d-c0c3-413c-a435-6fe023387c98"
   },
   "outputs": [
    {
     "data": {
      "text/html": [
       "<div>\n",
       "<style scoped>\n",
       "    .dataframe tbody tr th:only-of-type {\n",
       "        vertical-align: middle;\n",
       "    }\n",
       "\n",
       "    .dataframe tbody tr th {\n",
       "        vertical-align: top;\n",
       "    }\n",
       "\n",
       "    .dataframe thead th {\n",
       "        text-align: right;\n",
       "    }\n",
       "</style>\n",
       "<table border=\"1\" class=\"dataframe\">\n",
       "  <thead>\n",
       "    <tr style=\"text-align: right;\">\n",
       "      <th></th>\n",
       "      <th>number</th>\n",
       "      <th>incident_state</th>\n",
       "      <th>active</th>\n",
       "      <th>reassignment_count</th>\n",
       "      <th>reopen_count</th>\n",
       "      <th>sys_mod_count</th>\n",
       "      <th>made_sla</th>\n",
       "      <th>caller_id</th>\n",
       "      <th>opened_by</th>\n",
       "      <th>opened_at</th>\n",
       "      <th>...</th>\n",
       "      <th>u_symptom</th>\n",
       "      <th>assignment_group</th>\n",
       "      <th>assigned_to</th>\n",
       "      <th>knowledge</th>\n",
       "      <th>u_priority_confirmation</th>\n",
       "      <th>notify</th>\n",
       "      <th>closed_code</th>\n",
       "      <th>resolved_by</th>\n",
       "      <th>resolved_at</th>\n",
       "      <th>closed_at</th>\n",
       "    </tr>\n",
       "  </thead>\n",
       "  <tbody>\n",
       "    <tr>\n",
       "      <th>150</th>\n",
       "      <td>21</td>\n",
       "      <td>5</td>\n",
       "      <td>0</td>\n",
       "      <td>1</td>\n",
       "      <td>0</td>\n",
       "      <td>8</td>\n",
       "      <td>1</td>\n",
       "      <td>1462</td>\n",
       "      <td>60</td>\n",
       "      <td>1454</td>\n",
       "      <td>...</td>\n",
       "      <td>352</td>\n",
       "      <td>14</td>\n",
       "      <td>162</td>\n",
       "      <td>1</td>\n",
       "      <td>0</td>\n",
       "      <td>0</td>\n",
       "      <td>14</td>\n",
       "      <td>179</td>\n",
       "      <td>52</td>\n",
       "      <td>2323</td>\n",
       "    </tr>\n",
       "    <tr>\n",
       "      <th>13534</th>\n",
       "      <td>1938</td>\n",
       "      <td>7</td>\n",
       "      <td>1</td>\n",
       "      <td>2</td>\n",
       "      <td>0</td>\n",
       "      <td>6</td>\n",
       "      <td>1</td>\n",
       "      <td>3839</td>\n",
       "      <td>200</td>\n",
       "      <td>15741</td>\n",
       "      <td>...</td>\n",
       "      <td>472</td>\n",
       "      <td>22</td>\n",
       "      <td>88</td>\n",
       "      <td>1</td>\n",
       "      <td>1</td>\n",
       "      <td>0</td>\n",
       "      <td>13</td>\n",
       "      <td>71</td>\n",
       "      <td>2470</td>\n",
       "      <td>1321</td>\n",
       "    </tr>\n",
       "    <tr>\n",
       "      <th>68414</th>\n",
       "      <td>10884</td>\n",
       "      <td>3</td>\n",
       "      <td>1</td>\n",
       "      <td>0</td>\n",
       "      <td>0</td>\n",
       "      <td>4</td>\n",
       "      <td>1</td>\n",
       "      <td>3530</td>\n",
       "      <td>31</td>\n",
       "      <td>15310</td>\n",
       "      <td>...</td>\n",
       "      <td>365</td>\n",
       "      <td>63</td>\n",
       "      <td>206</td>\n",
       "      <td>0</td>\n",
       "      <td>0</td>\n",
       "      <td>0</td>\n",
       "      <td>13</td>\n",
       "      <td>179</td>\n",
       "      <td>16322</td>\n",
       "      <td>850</td>\n",
       "    </tr>\n",
       "    <tr>\n",
       "      <th>8080</th>\n",
       "      <td>1182</td>\n",
       "      <td>0</td>\n",
       "      <td>1</td>\n",
       "      <td>1</td>\n",
       "      <td>1</td>\n",
       "      <td>13</td>\n",
       "      <td>0</td>\n",
       "      <td>4336</td>\n",
       "      <td>14</td>\n",
       "      <td>1766</td>\n",
       "      <td>...</td>\n",
       "      <td>362</td>\n",
       "      <td>0</td>\n",
       "      <td>42</td>\n",
       "      <td>1</td>\n",
       "      <td>1</td>\n",
       "      <td>0</td>\n",
       "      <td>9</td>\n",
       "      <td>27</td>\n",
       "      <td>11832</td>\n",
       "      <td>1122</td>\n",
       "    </tr>\n",
       "    <tr>\n",
       "      <th>73305</th>\n",
       "      <td>11765</td>\n",
       "      <td>0</td>\n",
       "      <td>1</td>\n",
       "      <td>0</td>\n",
       "      <td>0</td>\n",
       "      <td>7</td>\n",
       "      <td>1</td>\n",
       "      <td>124</td>\n",
       "      <td>184</td>\n",
       "      <td>17937</td>\n",
       "      <td>...</td>\n",
       "      <td>365</td>\n",
       "      <td>19</td>\n",
       "      <td>214</td>\n",
       "      <td>0</td>\n",
       "      <td>0</td>\n",
       "      <td>0</td>\n",
       "      <td>13</td>\n",
       "      <td>187</td>\n",
       "      <td>1543</td>\n",
       "      <td>2582</td>\n",
       "    </tr>\n",
       "    <tr>\n",
       "      <th>...</th>\n",
       "      <td>...</td>\n",
       "      <td>...</td>\n",
       "      <td>...</td>\n",
       "      <td>...</td>\n",
       "      <td>...</td>\n",
       "      <td>...</td>\n",
       "      <td>...</td>\n",
       "      <td>...</td>\n",
       "      <td>...</td>\n",
       "      <td>...</td>\n",
       "      <td>...</td>\n",
       "      <td>...</td>\n",
       "      <td>...</td>\n",
       "      <td>...</td>\n",
       "      <td>...</td>\n",
       "      <td>...</td>\n",
       "      <td>...</td>\n",
       "      <td>...</td>\n",
       "      <td>...</td>\n",
       "      <td>...</td>\n",
       "      <td>...</td>\n",
       "    </tr>\n",
       "    <tr>\n",
       "      <th>82852</th>\n",
       "      <td>13567</td>\n",
       "      <td>3</td>\n",
       "      <td>1</td>\n",
       "      <td>0</td>\n",
       "      <td>0</td>\n",
       "      <td>7</td>\n",
       "      <td>1</td>\n",
       "      <td>3594</td>\n",
       "      <td>31</td>\n",
       "      <td>8190</td>\n",
       "      <td>...</td>\n",
       "      <td>243</td>\n",
       "      <td>23</td>\n",
       "      <td>86</td>\n",
       "      <td>0</td>\n",
       "      <td>1</td>\n",
       "      <td>0</td>\n",
       "      <td>13</td>\n",
       "      <td>69</td>\n",
       "      <td>10231</td>\n",
       "      <td>1897</td>\n",
       "    </tr>\n",
       "    <tr>\n",
       "      <th>66219</th>\n",
       "      <td>10488</td>\n",
       "      <td>7</td>\n",
       "      <td>1</td>\n",
       "      <td>0</td>\n",
       "      <td>0</td>\n",
       "      <td>1</td>\n",
       "      <td>1</td>\n",
       "      <td>4429</td>\n",
       "      <td>31</td>\n",
       "      <td>11288</td>\n",
       "      <td>...</td>\n",
       "      <td>365</td>\n",
       "      <td>63</td>\n",
       "      <td>32</td>\n",
       "      <td>0</td>\n",
       "      <td>1</td>\n",
       "      <td>0</td>\n",
       "      <td>13</td>\n",
       "      <td>11</td>\n",
       "      <td>11000</td>\n",
       "      <td>123</td>\n",
       "    </tr>\n",
       "    <tr>\n",
       "      <th>981</th>\n",
       "      <td>150</td>\n",
       "      <td>0</td>\n",
       "      <td>1</td>\n",
       "      <td>4</td>\n",
       "      <td>0</td>\n",
       "      <td>13</td>\n",
       "      <td>1</td>\n",
       "      <td>5031</td>\n",
       "      <td>184</td>\n",
       "      <td>1565</td>\n",
       "      <td>...</td>\n",
       "      <td>487</td>\n",
       "      <td>16</td>\n",
       "      <td>162</td>\n",
       "      <td>1</td>\n",
       "      <td>0</td>\n",
       "      <td>0</td>\n",
       "      <td>14</td>\n",
       "      <td>147</td>\n",
       "      <td>17118</td>\n",
       "      <td>1316</td>\n",
       "    </tr>\n",
       "    <tr>\n",
       "      <th>75317</th>\n",
       "      <td>12138</td>\n",
       "      <td>5</td>\n",
       "      <td>0</td>\n",
       "      <td>1</td>\n",
       "      <td>0</td>\n",
       "      <td>4</td>\n",
       "      <td>1</td>\n",
       "      <td>4251</td>\n",
       "      <td>31</td>\n",
       "      <td>18748</td>\n",
       "      <td>...</td>\n",
       "      <td>218</td>\n",
       "      <td>23</td>\n",
       "      <td>86</td>\n",
       "      <td>0</td>\n",
       "      <td>1</td>\n",
       "      <td>0</td>\n",
       "      <td>0</td>\n",
       "      <td>69</td>\n",
       "      <td>7384</td>\n",
       "      <td>799</td>\n",
       "    </tr>\n",
       "    <tr>\n",
       "      <th>50968</th>\n",
       "      <td>7675</td>\n",
       "      <td>6</td>\n",
       "      <td>1</td>\n",
       "      <td>0</td>\n",
       "      <td>0</td>\n",
       "      <td>0</td>\n",
       "      <td>1</td>\n",
       "      <td>2944</td>\n",
       "      <td>60</td>\n",
       "      <td>5260</td>\n",
       "      <td>...</td>\n",
       "      <td>365</td>\n",
       "      <td>77</td>\n",
       "      <td>73</td>\n",
       "      <td>0</td>\n",
       "      <td>0</td>\n",
       "      <td>0</td>\n",
       "      <td>14</td>\n",
       "      <td>52</td>\n",
       "      <td>10900</td>\n",
       "      <td>119</td>\n",
       "    </tr>\n",
       "  </tbody>\n",
       "</table>\n",
       "<p>14172 rows × 26 columns</p>\n",
       "</div>"
      ],
      "text/plain": [
       "       number  incident_state  active  reassignment_count  reopen_count  \\\n",
       "150        21               5       0                   1             0   \n",
       "13534    1938               7       1                   2             0   \n",
       "68414   10884               3       1                   0             0   \n",
       "8080     1182               0       1                   1             1   \n",
       "73305   11765               0       1                   0             0   \n",
       "...       ...             ...     ...                 ...           ...   \n",
       "82852   13567               3       1                   0             0   \n",
       "66219   10488               7       1                   0             0   \n",
       "981       150               0       1                   4             0   \n",
       "75317   12138               5       0                   1             0   \n",
       "50968    7675               6       1                   0             0   \n",
       "\n",
       "       sys_mod_count  made_sla  caller_id  opened_by  opened_at  ...  \\\n",
       "150                8         1       1462         60       1454  ...   \n",
       "13534              6         1       3839        200      15741  ...   \n",
       "68414              4         1       3530         31      15310  ...   \n",
       "8080              13         0       4336         14       1766  ...   \n",
       "73305              7         1        124        184      17937  ...   \n",
       "...              ...       ...        ...        ...        ...  ...   \n",
       "82852              7         1       3594         31       8190  ...   \n",
       "66219              1         1       4429         31      11288  ...   \n",
       "981               13         1       5031        184       1565  ...   \n",
       "75317              4         1       4251         31      18748  ...   \n",
       "50968              0         1       2944         60       5260  ...   \n",
       "\n",
       "       u_symptom  assignment_group  assigned_to  knowledge  \\\n",
       "150          352                14          162          1   \n",
       "13534        472                22           88          1   \n",
       "68414        365                63          206          0   \n",
       "8080         362                 0           42          1   \n",
       "73305        365                19          214          0   \n",
       "...          ...               ...          ...        ...   \n",
       "82852        243                23           86          0   \n",
       "66219        365                63           32          0   \n",
       "981          487                16          162          1   \n",
       "75317        218                23           86          0   \n",
       "50968        365                77           73          0   \n",
       "\n",
       "       u_priority_confirmation  notify  closed_code  resolved_by  resolved_at  \\\n",
       "150                          0       0           14          179           52   \n",
       "13534                        1       0           13           71         2470   \n",
       "68414                        0       0           13          179        16322   \n",
       "8080                         1       0            9           27        11832   \n",
       "73305                        0       0           13          187         1543   \n",
       "...                        ...     ...          ...          ...          ...   \n",
       "82852                        1       0           13           69        10231   \n",
       "66219                        1       0           13           11        11000   \n",
       "981                          0       0           14          147        17118   \n",
       "75317                        1       0            0           69         7384   \n",
       "50968                        0       0           14           52        10900   \n",
       "\n",
       "       closed_at  \n",
       "150         2323  \n",
       "13534       1321  \n",
       "68414        850  \n",
       "8080        1122  \n",
       "73305       2582  \n",
       "...          ...  \n",
       "82852       1897  \n",
       "66219        123  \n",
       "981         1316  \n",
       "75317        799  \n",
       "50968        119  \n",
       "\n",
       "[14172 rows x 26 columns]"
      ]
     },
     "execution_count": 112,
     "metadata": {},
     "output_type": "execute_result"
    }
   ],
   "source": [
    "X_test"
   ]
  },
  {
   "cell_type": "code",
   "execution_count": 113,
   "metadata": {
    "colab": {
     "base_uri": "https://localhost:8080/",
     "height": 408
    },
    "executionInfo": {
     "elapsed": 111,
     "status": "ok",
     "timestamp": 1628681959195,
     "user": {
      "displayName": "sagar nagpal",
      "photoUrl": "https://lh3.googleusercontent.com/a-/AOh14GjDIuXJgSm71Ctdbko-AeQitxK-wq1j4-SXkuxktA=s64",
      "userId": "03790130100156359022"
     },
     "user_tz": -330
    },
    "id": "4UpAvwfVl5fj",
    "outputId": "38928ae2-c766-4eac-dccd-d339698425cb"
   },
   "outputs": [
    {
     "data": {
      "text/html": [
       "<div>\n",
       "<style scoped>\n",
       "    .dataframe tbody tr th:only-of-type {\n",
       "        vertical-align: middle;\n",
       "    }\n",
       "\n",
       "    .dataframe tbody tr th {\n",
       "        vertical-align: top;\n",
       "    }\n",
       "\n",
       "    .dataframe thead th {\n",
       "        text-align: right;\n",
       "    }\n",
       "</style>\n",
       "<table border=\"1\" class=\"dataframe\">\n",
       "  <thead>\n",
       "    <tr style=\"text-align: right;\">\n",
       "      <th></th>\n",
       "      <th>number</th>\n",
       "      <th>resolved_by</th>\n",
       "      <th>assigned_to</th>\n",
       "      <th>assignment_group</th>\n",
       "      <th>u_symptom</th>\n",
       "      <th>subcategory</th>\n",
       "      <th>category</th>\n",
       "      <th>location</th>\n",
       "      <th>resolved_at</th>\n",
       "      <th>sys_updated_by</th>\n",
       "      <th>closed_at</th>\n",
       "      <th>opened_by</th>\n",
       "      <th>sys_mod_count</th>\n",
       "    </tr>\n",
       "  </thead>\n",
       "  <tbody>\n",
       "    <tr>\n",
       "      <th>150</th>\n",
       "      <td>21</td>\n",
       "      <td>179</td>\n",
       "      <td>162</td>\n",
       "      <td>14</td>\n",
       "      <td>352</td>\n",
       "      <td>62</td>\n",
       "      <td>13</td>\n",
       "      <td>223</td>\n",
       "      <td>52</td>\n",
       "      <td>762</td>\n",
       "      <td>2323</td>\n",
       "      <td>60</td>\n",
       "      <td>8</td>\n",
       "    </tr>\n",
       "    <tr>\n",
       "      <th>13534</th>\n",
       "      <td>1938</td>\n",
       "      <td>71</td>\n",
       "      <td>88</td>\n",
       "      <td>22</td>\n",
       "      <td>472</td>\n",
       "      <td>74</td>\n",
       "      <td>15</td>\n",
       "      <td>180</td>\n",
       "      <td>2470</td>\n",
       "      <td>578</td>\n",
       "      <td>1321</td>\n",
       "      <td>200</td>\n",
       "      <td>6</td>\n",
       "    </tr>\n",
       "    <tr>\n",
       "      <th>68414</th>\n",
       "      <td>10884</td>\n",
       "      <td>179</td>\n",
       "      <td>206</td>\n",
       "      <td>63</td>\n",
       "      <td>365</td>\n",
       "      <td>73</td>\n",
       "      <td>24</td>\n",
       "      <td>13</td>\n",
       "      <td>16322</td>\n",
       "      <td>12</td>\n",
       "      <td>850</td>\n",
       "      <td>31</td>\n",
       "      <td>4</td>\n",
       "    </tr>\n",
       "    <tr>\n",
       "      <th>8080</th>\n",
       "      <td>1182</td>\n",
       "      <td>27</td>\n",
       "      <td>42</td>\n",
       "      <td>0</td>\n",
       "      <td>362</td>\n",
       "      <td>47</td>\n",
       "      <td>35</td>\n",
       "      <td>185</td>\n",
       "      <td>11832</td>\n",
       "      <td>768</td>\n",
       "      <td>1122</td>\n",
       "      <td>14</td>\n",
       "      <td>13</td>\n",
       "    </tr>\n",
       "    <tr>\n",
       "      <th>73305</th>\n",
       "      <td>11765</td>\n",
       "      <td>187</td>\n",
       "      <td>214</td>\n",
       "      <td>19</td>\n",
       "      <td>365</td>\n",
       "      <td>73</td>\n",
       "      <td>58</td>\n",
       "      <td>43</td>\n",
       "      <td>1543</td>\n",
       "      <td>198</td>\n",
       "      <td>2582</td>\n",
       "      <td>184</td>\n",
       "      <td>7</td>\n",
       "    </tr>\n",
       "    <tr>\n",
       "      <th>...</th>\n",
       "      <td>...</td>\n",
       "      <td>...</td>\n",
       "      <td>...</td>\n",
       "      <td>...</td>\n",
       "      <td>...</td>\n",
       "      <td>...</td>\n",
       "      <td>...</td>\n",
       "      <td>...</td>\n",
       "      <td>...</td>\n",
       "      <td>...</td>\n",
       "      <td>...</td>\n",
       "      <td>...</td>\n",
       "      <td>...</td>\n",
       "    </tr>\n",
       "    <tr>\n",
       "      <th>82852</th>\n",
       "      <td>13567</td>\n",
       "      <td>69</td>\n",
       "      <td>86</td>\n",
       "      <td>23</td>\n",
       "      <td>243</td>\n",
       "      <td>245</td>\n",
       "      <td>36</td>\n",
       "      <td>104</td>\n",
       "      <td>10231</td>\n",
       "      <td>556</td>\n",
       "      <td>1897</td>\n",
       "      <td>31</td>\n",
       "      <td>7</td>\n",
       "    </tr>\n",
       "    <tr>\n",
       "      <th>66219</th>\n",
       "      <td>10488</td>\n",
       "      <td>11</td>\n",
       "      <td>32</td>\n",
       "      <td>63</td>\n",
       "      <td>365</td>\n",
       "      <td>73</td>\n",
       "      <td>9</td>\n",
       "      <td>59</td>\n",
       "      <td>11000</td>\n",
       "      <td>324</td>\n",
       "      <td>123</td>\n",
       "      <td>31</td>\n",
       "      <td>1</td>\n",
       "    </tr>\n",
       "    <tr>\n",
       "      <th>981</th>\n",
       "      <td>150</td>\n",
       "      <td>147</td>\n",
       "      <td>162</td>\n",
       "      <td>16</td>\n",
       "      <td>487</td>\n",
       "      <td>74</td>\n",
       "      <td>15</td>\n",
       "      <td>113</td>\n",
       "      <td>17118</td>\n",
       "      <td>225</td>\n",
       "      <td>1316</td>\n",
       "      <td>184</td>\n",
       "      <td>13</td>\n",
       "    </tr>\n",
       "    <tr>\n",
       "      <th>75317</th>\n",
       "      <td>12138</td>\n",
       "      <td>69</td>\n",
       "      <td>86</td>\n",
       "      <td>23</td>\n",
       "      <td>218</td>\n",
       "      <td>245</td>\n",
       "      <td>36</td>\n",
       "      <td>218</td>\n",
       "      <td>7384</td>\n",
       "      <td>53</td>\n",
       "      <td>799</td>\n",
       "      <td>31</td>\n",
       "      <td>4</td>\n",
       "    </tr>\n",
       "    <tr>\n",
       "      <th>50968</th>\n",
       "      <td>7675</td>\n",
       "      <td>52</td>\n",
       "      <td>73</td>\n",
       "      <td>77</td>\n",
       "      <td>365</td>\n",
       "      <td>73</td>\n",
       "      <td>22</td>\n",
       "      <td>218</td>\n",
       "      <td>10900</td>\n",
       "      <td>468</td>\n",
       "      <td>119</td>\n",
       "      <td>60</td>\n",
       "      <td>0</td>\n",
       "    </tr>\n",
       "  </tbody>\n",
       "</table>\n",
       "<p>14172 rows × 13 columns</p>\n",
       "</div>"
      ],
      "text/plain": [
       "       number  resolved_by  assigned_to  assignment_group  u_symptom  \\\n",
       "150        21          179          162                14        352   \n",
       "13534    1938           71           88                22        472   \n",
       "68414   10884          179          206                63        365   \n",
       "8080     1182           27           42                 0        362   \n",
       "73305   11765          187          214                19        365   \n",
       "...       ...          ...          ...               ...        ...   \n",
       "82852   13567           69           86                23        243   \n",
       "66219   10488           11           32                63        365   \n",
       "981       150          147          162                16        487   \n",
       "75317   12138           69           86                23        218   \n",
       "50968    7675           52           73                77        365   \n",
       "\n",
       "       subcategory  category  location  resolved_at  sys_updated_by  \\\n",
       "150             62        13       223           52             762   \n",
       "13534           74        15       180         2470             578   \n",
       "68414           73        24        13        16322              12   \n",
       "8080            47        35       185        11832             768   \n",
       "73305           73        58        43         1543             198   \n",
       "...            ...       ...       ...          ...             ...   \n",
       "82852          245        36       104        10231             556   \n",
       "66219           73         9        59        11000             324   \n",
       "981             74        15       113        17118             225   \n",
       "75317          245        36       218         7384              53   \n",
       "50968           73        22       218        10900             468   \n",
       "\n",
       "       closed_at  opened_by  sys_mod_count  \n",
       "150         2323         60              8  \n",
       "13534       1321        200              6  \n",
       "68414        850         31              4  \n",
       "8080        1122         14             13  \n",
       "73305       2582        184              7  \n",
       "...          ...        ...            ...  \n",
       "82852       1897         31              7  \n",
       "66219        123         31              1  \n",
       "981         1316        184             13  \n",
       "75317        799         31              4  \n",
       "50968        119         60              0  \n",
       "\n",
       "[14172 rows x 13 columns]"
      ]
     },
     "execution_count": 113,
     "metadata": {},
     "output_type": "execute_result"
    }
   ],
   "source": [
    "X_test = X_test[selected_features]\n",
    "X_test"
   ]
  },
  {
   "cell_type": "code",
   "execution_count": 114,
   "metadata": {
    "colab": {
     "base_uri": "https://localhost:8080/"
    },
    "executionInfo": {
     "elapsed": 5291,
     "status": "ok",
     "timestamp": 1628687677128,
     "user": {
      "displayName": "sagar nagpal",
      "photoUrl": "https://lh3.googleusercontent.com/a-/AOh14GjDIuXJgSm71Ctdbko-AeQitxK-wq1j4-SXkuxktA=s64",
      "userId": "03790130100156359022"
     },
     "user_tz": -330
    },
    "id": "QjhX5FpNWPtQ",
    "outputId": "48ee7ea8-4620-4b08-bf69-312d54c06855"
   },
   "outputs": [
    {
     "data": {
      "text/plain": [
       "0.973257126728761"
      ]
     },
     "execution_count": 114,
     "metadata": {},
     "output_type": "execute_result"
    }
   ],
   "source": [
    "model = DecisionTreeClassifier()\n",
    "model.fit(X_train, y_train)\n",
    "model.score(X_test,y_test)"
   ]
  },
  {
   "cell_type": "code",
   "execution_count": 115,
   "metadata": {
    "colab": {
     "base_uri": "https://localhost:8080/"
    },
    "executionInfo": {
     "elapsed": 77334,
     "status": "ok",
     "timestamp": 1628682036433,
     "user": {
      "displayName": "sagar nagpal",
      "photoUrl": "https://lh3.googleusercontent.com/a-/AOh14GjDIuXJgSm71Ctdbko-AeQitxK-wq1j4-SXkuxktA=s64",
      "userId": "03790130100156359022"
     },
     "user_tz": -330
    },
    "id": "WN4vMU62cDfn",
    "outputId": "29427a72-1dda-49b1-a6b8-606dc952751c"
   },
   "outputs": [
    {
     "data": {
      "text/plain": [
       "0.9887101326559413"
      ]
     },
     "execution_count": 115,
     "metadata": {},
     "output_type": "execute_result"
    }
   ],
   "source": [
    "model_RF = RandomForestClassifier()\n",
    "model_RF.fit(X_train, y_train)\n",
    "model_RF.score(X_test,y_test)"
   ]
  },
  {
   "cell_type": "markdown",
   "metadata": {
    "id": "TevjuGLhWdlZ"
   },
   "source": [
    "##Adding pickle for our Deployment Process"
   ]
  },
  {
   "cell_type": "code",
   "execution_count": 116,
   "metadata": {
    "executionInfo": {
     "elapsed": 258,
     "status": "ok",
     "timestamp": 1628682036445,
     "user": {
      "displayName": "sagar nagpal",
      "photoUrl": "https://lh3.googleusercontent.com/a-/AOh14GjDIuXJgSm71Ctdbko-AeQitxK-wq1j4-SXkuxktA=s64",
      "userId": "03790130100156359022"
     },
     "user_tz": -330
    },
    "id": "craltOjgqhEM"
   },
   "outputs": [],
   "source": [
    "import pickle as p\n",
    "p_out  = open(\"model.pkl\", \"wb\")\n",
    "p.dump(model_RF, p_out)\n",
    "p_out.close()"
   ]
  },
  {
   "cell_type": "code",
   "execution_count": 117,
   "metadata": {
    "executionInfo": {
     "elapsed": 250,
     "status": "ok",
     "timestamp": 1628682036451,
     "user": {
      "displayName": "sagar nagpal",
      "photoUrl": "https://lh3.googleusercontent.com/a-/AOh14GjDIuXJgSm71Ctdbko-AeQitxK-wq1j4-SXkuxktA=s64",
      "userId": "03790130100156359022"
     },
     "user_tz": -330
    },
    "id": "Dz5D9IVWmw1k"
   },
   "outputs": [],
   "source": [
    "df4 = df[df.impact == 1]"
   ]
  },
  {
   "cell_type": "code",
   "execution_count": 118,
   "metadata": {
    "colab": {
     "base_uri": "https://localhost:8080/",
     "height": 408
    },
    "executionInfo": {
     "elapsed": 259,
     "status": "ok",
     "timestamp": 1628682036469,
     "user": {
      "displayName": "sagar nagpal",
      "photoUrl": "https://lh3.googleusercontent.com/a-/AOh14GjDIuXJgSm71Ctdbko-AeQitxK-wq1j4-SXkuxktA=s64",
      "userId": "03790130100156359022"
     },
     "user_tz": -330
    },
    "id": "fTEFrfZc5bx5",
    "outputId": "f19739bb-5316-4279-c20e-f9a723cfa396"
   },
   "outputs": [
    {
     "data": {
      "text/html": [
       "<div>\n",
       "<style scoped>\n",
       "    .dataframe tbody tr th:only-of-type {\n",
       "        vertical-align: middle;\n",
       "    }\n",
       "\n",
       "    .dataframe tbody tr th {\n",
       "        vertical-align: top;\n",
       "    }\n",
       "\n",
       "    .dataframe thead th {\n",
       "        text-align: right;\n",
       "    }\n",
       "</style>\n",
       "<table border=\"1\" class=\"dataframe\">\n",
       "  <thead>\n",
       "    <tr style=\"text-align: right;\">\n",
       "      <th></th>\n",
       "      <th>number</th>\n",
       "      <th>resolved_by</th>\n",
       "      <th>assigned_to</th>\n",
       "      <th>assignment_group</th>\n",
       "      <th>u_symptom</th>\n",
       "      <th>subcategory</th>\n",
       "      <th>category</th>\n",
       "      <th>location</th>\n",
       "      <th>resolved_at</th>\n",
       "      <th>sys_updated_by</th>\n",
       "      <th>closed_at</th>\n",
       "      <th>opened_by</th>\n",
       "      <th>sys_mod_count</th>\n",
       "    </tr>\n",
       "  </thead>\n",
       "  <tbody>\n",
       "    <tr>\n",
       "      <th>25</th>\n",
       "      <td>4</td>\n",
       "      <td>179</td>\n",
       "      <td>162</td>\n",
       "      <td>63</td>\n",
       "      <td>121</td>\n",
       "      <td>66</td>\n",
       "      <td>44</td>\n",
       "      <td>218</td>\n",
       "      <td>1270</td>\n",
       "      <td>228</td>\n",
       "      <td>2213</td>\n",
       "      <td>34</td>\n",
       "      <td>1</td>\n",
       "    </tr>\n",
       "    <tr>\n",
       "      <th>26</th>\n",
       "      <td>4</td>\n",
       "      <td>179</td>\n",
       "      <td>162</td>\n",
       "      <td>14</td>\n",
       "      <td>121</td>\n",
       "      <td>66</td>\n",
       "      <td>44</td>\n",
       "      <td>218</td>\n",
       "      <td>1270</td>\n",
       "      <td>228</td>\n",
       "      <td>2213</td>\n",
       "      <td>34</td>\n",
       "      <td>2</td>\n",
       "    </tr>\n",
       "    <tr>\n",
       "      <th>27</th>\n",
       "      <td>4</td>\n",
       "      <td>179</td>\n",
       "      <td>162</td>\n",
       "      <td>14</td>\n",
       "      <td>121</td>\n",
       "      <td>66</td>\n",
       "      <td>44</td>\n",
       "      <td>218</td>\n",
       "      <td>1270</td>\n",
       "      <td>658</td>\n",
       "      <td>2213</td>\n",
       "      <td>34</td>\n",
       "      <td>3</td>\n",
       "    </tr>\n",
       "    <tr>\n",
       "      <th>28</th>\n",
       "      <td>4</td>\n",
       "      <td>179</td>\n",
       "      <td>162</td>\n",
       "      <td>14</td>\n",
       "      <td>121</td>\n",
       "      <td>66</td>\n",
       "      <td>44</td>\n",
       "      <td>218</td>\n",
       "      <td>1270</td>\n",
       "      <td>658</td>\n",
       "      <td>2213</td>\n",
       "      <td>34</td>\n",
       "      <td>4</td>\n",
       "    </tr>\n",
       "    <tr>\n",
       "      <th>29</th>\n",
       "      <td>4</td>\n",
       "      <td>179</td>\n",
       "      <td>162</td>\n",
       "      <td>14</td>\n",
       "      <td>121</td>\n",
       "      <td>66</td>\n",
       "      <td>44</td>\n",
       "      <td>218</td>\n",
       "      <td>1270</td>\n",
       "      <td>134</td>\n",
       "      <td>2213</td>\n",
       "      <td>34</td>\n",
       "      <td>5</td>\n",
       "    </tr>\n",
       "    <tr>\n",
       "      <th>...</th>\n",
       "      <td>...</td>\n",
       "      <td>...</td>\n",
       "      <td>...</td>\n",
       "      <td>...</td>\n",
       "      <td>...</td>\n",
       "      <td>...</td>\n",
       "      <td>...</td>\n",
       "      <td>...</td>\n",
       "      <td>...</td>\n",
       "      <td>...</td>\n",
       "      <td>...</td>\n",
       "      <td>...</td>\n",
       "      <td>...</td>\n",
       "    </tr>\n",
       "    <tr>\n",
       "      <th>141636</th>\n",
       "      <td>24895</td>\n",
       "      <td>165</td>\n",
       "      <td>162</td>\n",
       "      <td>13</td>\n",
       "      <td>41</td>\n",
       "      <td>151</td>\n",
       "      <td>35</td>\n",
       "      <td>169</td>\n",
       "      <td>19990</td>\n",
       "      <td>355</td>\n",
       "      <td>510</td>\n",
       "      <td>52</td>\n",
       "      <td>4</td>\n",
       "    </tr>\n",
       "    <tr>\n",
       "      <th>141637</th>\n",
       "      <td>24895</td>\n",
       "      <td>165</td>\n",
       "      <td>162</td>\n",
       "      <td>13</td>\n",
       "      <td>41</td>\n",
       "      <td>151</td>\n",
       "      <td>35</td>\n",
       "      <td>169</td>\n",
       "      <td>19990</td>\n",
       "      <td>314</td>\n",
       "      <td>510</td>\n",
       "      <td>52</td>\n",
       "      <td>5</td>\n",
       "    </tr>\n",
       "    <tr>\n",
       "      <th>141638</th>\n",
       "      <td>24895</td>\n",
       "      <td>165</td>\n",
       "      <td>191</td>\n",
       "      <td>13</td>\n",
       "      <td>41</td>\n",
       "      <td>151</td>\n",
       "      <td>35</td>\n",
       "      <td>169</td>\n",
       "      <td>19990</td>\n",
       "      <td>89</td>\n",
       "      <td>510</td>\n",
       "      <td>52</td>\n",
       "      <td>6</td>\n",
       "    </tr>\n",
       "    <tr>\n",
       "      <th>141639</th>\n",
       "      <td>24895</td>\n",
       "      <td>165</td>\n",
       "      <td>191</td>\n",
       "      <td>13</td>\n",
       "      <td>41</td>\n",
       "      <td>151</td>\n",
       "      <td>35</td>\n",
       "      <td>169</td>\n",
       "      <td>19990</td>\n",
       "      <td>89</td>\n",
       "      <td>510</td>\n",
       "      <td>52</td>\n",
       "      <td>7</td>\n",
       "    </tr>\n",
       "    <tr>\n",
       "      <th>141640</th>\n",
       "      <td>24895</td>\n",
       "      <td>165</td>\n",
       "      <td>191</td>\n",
       "      <td>13</td>\n",
       "      <td>41</td>\n",
       "      <td>151</td>\n",
       "      <td>35</td>\n",
       "      <td>169</td>\n",
       "      <td>19990</td>\n",
       "      <td>762</td>\n",
       "      <td>510</td>\n",
       "      <td>52</td>\n",
       "      <td>8</td>\n",
       "    </tr>\n",
       "  </tbody>\n",
       "</table>\n",
       "<p>3491 rows × 13 columns</p>\n",
       "</div>"
      ],
      "text/plain": [
       "        number  resolved_by  assigned_to  assignment_group  u_symptom  \\\n",
       "25           4          179          162                63        121   \n",
       "26           4          179          162                14        121   \n",
       "27           4          179          162                14        121   \n",
       "28           4          179          162                14        121   \n",
       "29           4          179          162                14        121   \n",
       "...        ...          ...          ...               ...        ...   \n",
       "141636   24895          165          162                13         41   \n",
       "141637   24895          165          162                13         41   \n",
       "141638   24895          165          191                13         41   \n",
       "141639   24895          165          191                13         41   \n",
       "141640   24895          165          191                13         41   \n",
       "\n",
       "        subcategory  category  location  resolved_at  sys_updated_by  \\\n",
       "25               66        44       218         1270             228   \n",
       "26               66        44       218         1270             228   \n",
       "27               66        44       218         1270             658   \n",
       "28               66        44       218         1270             658   \n",
       "29               66        44       218         1270             134   \n",
       "...             ...       ...       ...          ...             ...   \n",
       "141636          151        35       169        19990             355   \n",
       "141637          151        35       169        19990             314   \n",
       "141638          151        35       169        19990              89   \n",
       "141639          151        35       169        19990              89   \n",
       "141640          151        35       169        19990             762   \n",
       "\n",
       "        closed_at  opened_by  sys_mod_count  \n",
       "25           2213         34              1  \n",
       "26           2213         34              2  \n",
       "27           2213         34              3  \n",
       "28           2213         34              4  \n",
       "29           2213         34              5  \n",
       "...           ...        ...            ...  \n",
       "141636        510         52              4  \n",
       "141637        510         52              5  \n",
       "141638        510         52              6  \n",
       "141639        510         52              7  \n",
       "141640        510         52              8  \n",
       "\n",
       "[3491 rows x 13 columns]"
      ]
     },
     "execution_count": 118,
     "metadata": {},
     "output_type": "execute_result"
    }
   ],
   "source": [
    "df4[selected_features]"
   ]
  },
  {
   "cell_type": "code",
   "execution_count": 119,
   "metadata": {
    "executionInfo": {
     "elapsed": 255,
     "status": "ok",
     "timestamp": 1628682036479,
     "user": {
      "displayName": "sagar nagpal",
      "photoUrl": "https://lh3.googleusercontent.com/a-/AOh14GjDIuXJgSm71Ctdbko-AeQitxK-wq1j4-SXkuxktA=s64",
      "userId": "03790130100156359022"
     },
     "user_tz": -330
    },
    "id": "fu79pg2_qgPy"
   },
   "outputs": [],
   "source": [
    "df5 = df[df.impact == 3]"
   ]
  },
  {
   "cell_type": "code",
   "execution_count": 120,
   "metadata": {
    "colab": {
     "base_uri": "https://localhost:8080/",
     "height": 408
    },
    "executionInfo": {
     "elapsed": 255,
     "status": "ok",
     "timestamp": 1628682036484,
     "user": {
      "displayName": "sagar nagpal",
      "photoUrl": "https://lh3.googleusercontent.com/a-/AOh14GjDIuXJgSm71Ctdbko-AeQitxK-wq1j4-SXkuxktA=s64",
      "userId": "03790130100156359022"
     },
     "user_tz": -330
    },
    "id": "OaZKPzJsqbJi",
    "outputId": "2c224d7e-c404-4ff1-cbad-0ef7f666b810"
   },
   "outputs": [
    {
     "data": {
      "text/html": [
       "<div>\n",
       "<style scoped>\n",
       "    .dataframe tbody tr th:only-of-type {\n",
       "        vertical-align: middle;\n",
       "    }\n",
       "\n",
       "    .dataframe tbody tr th {\n",
       "        vertical-align: top;\n",
       "    }\n",
       "\n",
       "    .dataframe thead th {\n",
       "        text-align: right;\n",
       "    }\n",
       "</style>\n",
       "<table border=\"1\" class=\"dataframe\">\n",
       "  <thead>\n",
       "    <tr style=\"text-align: right;\">\n",
       "      <th></th>\n",
       "      <th>number</th>\n",
       "      <th>resolved_by</th>\n",
       "      <th>assigned_to</th>\n",
       "      <th>assignment_group</th>\n",
       "      <th>u_symptom</th>\n",
       "      <th>subcategory</th>\n",
       "      <th>category</th>\n",
       "      <th>location</th>\n",
       "      <th>resolved_at</th>\n",
       "      <th>sys_updated_by</th>\n",
       "      <th>closed_at</th>\n",
       "      <th>opened_by</th>\n",
       "      <th>sys_mod_count</th>\n",
       "    </tr>\n",
       "  </thead>\n",
       "  <tbody>\n",
       "    <tr>\n",
       "      <th>127</th>\n",
       "      <td>18</td>\n",
       "      <td>179</td>\n",
       "      <td>162</td>\n",
       "      <td>63</td>\n",
       "      <td>461</td>\n",
       "      <td>62</td>\n",
       "      <td>13</td>\n",
       "      <td>218</td>\n",
       "      <td>1272</td>\n",
       "      <td>155</td>\n",
       "      <td>2214</td>\n",
       "      <td>14</td>\n",
       "      <td>0</td>\n",
       "    </tr>\n",
       "    <tr>\n",
       "      <th>128</th>\n",
       "      <td>18</td>\n",
       "      <td>179</td>\n",
       "      <td>162</td>\n",
       "      <td>14</td>\n",
       "      <td>461</td>\n",
       "      <td>62</td>\n",
       "      <td>13</td>\n",
       "      <td>218</td>\n",
       "      <td>1272</td>\n",
       "      <td>609</td>\n",
       "      <td>2214</td>\n",
       "      <td>14</td>\n",
       "      <td>1</td>\n",
       "    </tr>\n",
       "    <tr>\n",
       "      <th>129</th>\n",
       "      <td>18</td>\n",
       "      <td>179</td>\n",
       "      <td>162</td>\n",
       "      <td>14</td>\n",
       "      <td>461</td>\n",
       "      <td>62</td>\n",
       "      <td>13</td>\n",
       "      <td>218</td>\n",
       "      <td>1272</td>\n",
       "      <td>335</td>\n",
       "      <td>2214</td>\n",
       "      <td>14</td>\n",
       "      <td>2</td>\n",
       "    </tr>\n",
       "    <tr>\n",
       "      <th>130</th>\n",
       "      <td>18</td>\n",
       "      <td>179</td>\n",
       "      <td>162</td>\n",
       "      <td>14</td>\n",
       "      <td>461</td>\n",
       "      <td>62</td>\n",
       "      <td>13</td>\n",
       "      <td>218</td>\n",
       "      <td>1272</td>\n",
       "      <td>134</td>\n",
       "      <td>2214</td>\n",
       "      <td>14</td>\n",
       "      <td>3</td>\n",
       "    </tr>\n",
       "    <tr>\n",
       "      <th>131</th>\n",
       "      <td>18</td>\n",
       "      <td>179</td>\n",
       "      <td>162</td>\n",
       "      <td>14</td>\n",
       "      <td>461</td>\n",
       "      <td>62</td>\n",
       "      <td>13</td>\n",
       "      <td>218</td>\n",
       "      <td>1272</td>\n",
       "      <td>762</td>\n",
       "      <td>2214</td>\n",
       "      <td>14</td>\n",
       "      <td>4</td>\n",
       "    </tr>\n",
       "    <tr>\n",
       "      <th>...</th>\n",
       "      <td>...</td>\n",
       "      <td>...</td>\n",
       "      <td>...</td>\n",
       "      <td>...</td>\n",
       "      <td>...</td>\n",
       "      <td>...</td>\n",
       "      <td>...</td>\n",
       "      <td>...</td>\n",
       "      <td>...</td>\n",
       "      <td>...</td>\n",
       "      <td>...</td>\n",
       "      <td>...</td>\n",
       "      <td>...</td>\n",
       "    </tr>\n",
       "    <tr>\n",
       "      <th>141690</th>\n",
       "      <td>24911</td>\n",
       "      <td>216</td>\n",
       "      <td>162</td>\n",
       "      <td>63</td>\n",
       "      <td>410</td>\n",
       "      <td>0</td>\n",
       "      <td>41</td>\n",
       "      <td>148</td>\n",
       "      <td>19926</td>\n",
       "      <td>786</td>\n",
       "      <td>440</td>\n",
       "      <td>169</td>\n",
       "      <td>1</td>\n",
       "    </tr>\n",
       "    <tr>\n",
       "      <th>141691</th>\n",
       "      <td>24912</td>\n",
       "      <td>216</td>\n",
       "      <td>162</td>\n",
       "      <td>63</td>\n",
       "      <td>410</td>\n",
       "      <td>0</td>\n",
       "      <td>41</td>\n",
       "      <td>148</td>\n",
       "      <td>19927</td>\n",
       "      <td>762</td>\n",
       "      <td>507</td>\n",
       "      <td>169</td>\n",
       "      <td>0</td>\n",
       "    </tr>\n",
       "    <tr>\n",
       "      <th>141692</th>\n",
       "      <td>24912</td>\n",
       "      <td>216</td>\n",
       "      <td>162</td>\n",
       "      <td>63</td>\n",
       "      <td>410</td>\n",
       "      <td>0</td>\n",
       "      <td>41</td>\n",
       "      <td>148</td>\n",
       "      <td>19927</td>\n",
       "      <td>786</td>\n",
       "      <td>507</td>\n",
       "      <td>169</td>\n",
       "      <td>1</td>\n",
       "    </tr>\n",
       "    <tr>\n",
       "      <th>141696</th>\n",
       "      <td>24914</td>\n",
       "      <td>216</td>\n",
       "      <td>162</td>\n",
       "      <td>63</td>\n",
       "      <td>410</td>\n",
       "      <td>0</td>\n",
       "      <td>41</td>\n",
       "      <td>148</td>\n",
       "      <td>19928</td>\n",
       "      <td>762</td>\n",
       "      <td>509</td>\n",
       "      <td>169</td>\n",
       "      <td>0</td>\n",
       "    </tr>\n",
       "    <tr>\n",
       "      <th>141697</th>\n",
       "      <td>24914</td>\n",
       "      <td>216</td>\n",
       "      <td>162</td>\n",
       "      <td>63</td>\n",
       "      <td>410</td>\n",
       "      <td>0</td>\n",
       "      <td>41</td>\n",
       "      <td>148</td>\n",
       "      <td>19928</td>\n",
       "      <td>786</td>\n",
       "      <td>509</td>\n",
       "      <td>169</td>\n",
       "      <td>1</td>\n",
       "    </tr>\n",
       "  </tbody>\n",
       "</table>\n",
       "<p>3886 rows × 13 columns</p>\n",
       "</div>"
      ],
      "text/plain": [
       "        number  resolved_by  assigned_to  assignment_group  u_symptom  \\\n",
       "127         18          179          162                63        461   \n",
       "128         18          179          162                14        461   \n",
       "129         18          179          162                14        461   \n",
       "130         18          179          162                14        461   \n",
       "131         18          179          162                14        461   \n",
       "...        ...          ...          ...               ...        ...   \n",
       "141690   24911          216          162                63        410   \n",
       "141691   24912          216          162                63        410   \n",
       "141692   24912          216          162                63        410   \n",
       "141696   24914          216          162                63        410   \n",
       "141697   24914          216          162                63        410   \n",
       "\n",
       "        subcategory  category  location  resolved_at  sys_updated_by  \\\n",
       "127              62        13       218         1272             155   \n",
       "128              62        13       218         1272             609   \n",
       "129              62        13       218         1272             335   \n",
       "130              62        13       218         1272             134   \n",
       "131              62        13       218         1272             762   \n",
       "...             ...       ...       ...          ...             ...   \n",
       "141690            0        41       148        19926             786   \n",
       "141691            0        41       148        19927             762   \n",
       "141692            0        41       148        19927             786   \n",
       "141696            0        41       148        19928             762   \n",
       "141697            0        41       148        19928             786   \n",
       "\n",
       "        closed_at  opened_by  sys_mod_count  \n",
       "127          2214         14              0  \n",
       "128          2214         14              1  \n",
       "129          2214         14              2  \n",
       "130          2214         14              3  \n",
       "131          2214         14              4  \n",
       "...           ...        ...            ...  \n",
       "141690        440        169              1  \n",
       "141691        507        169              0  \n",
       "141692        507        169              1  \n",
       "141696        509        169              0  \n",
       "141697        509        169              1  \n",
       "\n",
       "[3886 rows x 13 columns]"
      ]
     },
     "execution_count": 120,
     "metadata": {},
     "output_type": "execute_result"
    }
   ],
   "source": [
    "df5[selected_features]"
   ]
  },
  {
   "cell_type": "code",
   "execution_count": null,
   "metadata": {
    "executionInfo": {
     "elapsed": 248,
     "status": "ok",
     "timestamp": 1628682036489,
     "user": {
      "displayName": "sagar nagpal",
      "photoUrl": "https://lh3.googleusercontent.com/a-/AOh14GjDIuXJgSm71Ctdbko-AeQitxK-wq1j4-SXkuxktA=s64",
      "userId": "03790130100156359022"
     },
     "user_tz": -330
    },
    "id": "5U4ssEujLjqM"
   },
   "outputs": [],
   "source": []
  }
 ],
 "metadata": {
  "colab": {
   "authorship_tag": "ABX9TyMRrvC68BWja4YHnJk90tOA",
   "collapsed_sections": [],
   "name": "Project-1.ipynb",
   "provenance": []
  },
  "kernelspec": {
   "display_name": "Python 3",
   "language": "python",
   "name": "python3"
  },
  "language_info": {
   "codemirror_mode": {
    "name": "ipython",
    "version": 3
   },
   "file_extension": ".py",
   "mimetype": "text/x-python",
   "name": "python",
   "nbconvert_exporter": "python",
   "pygments_lexer": "ipython3",
   "version": "3.8.3"
  }
 },
 "nbformat": 4,
 "nbformat_minor": 1
}
